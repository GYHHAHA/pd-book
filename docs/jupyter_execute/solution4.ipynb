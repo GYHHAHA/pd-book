{
 "cells": [
  {
   "cell_type": "code",
   "execution_count": 1,
   "id": "7d222903",
   "metadata": {
    "tags": [
     "remove_input"
    ]
   },
   "outputs": [],
   "source": [
    "import numpy as np\n",
    "import pandas as pd\n",
    "import matplotlib.pyplot as plt\n",
    "np.random.seed(0)\n",
    "plt.rcParams['font.sans-serif'] = ['SimHei']\n",
    "plt.rcParams['axes.unicode_minus'] = False\n",
    "np.set_printoptions(suppress = True)"
   ]
  },
  {
   "cell_type": "markdown",
   "id": "62a2038e",
   "metadata": {},
   "source": [
    "# 第四章\n",
    "\n",
    "## 零、练一练\n",
    "\n",
    "```{admonition} 练一练\n",
    "请在learn_pandas数据集上按学校分组统计体重的均值。\n",
    "```"
   ]
  },
  {
   "cell_type": "code",
   "execution_count": 2,
   "id": "5a6de17b",
   "metadata": {},
   "outputs": [
    {
     "data": {
      "text/plain": [
       "School\n",
       "A    56.442308\n",
       "B    55.666667\n",
       "C    54.000000\n",
       "D    54.223881\n",
       "Name: Weight, dtype: float64"
      ]
     },
     "execution_count": 2,
     "metadata": {},
     "output_type": "execute_result"
    }
   ],
   "source": [
    "df = pd.read_csv('data/learn_pandas.csv')\n",
    "df.groupby(\"School\")[\"Weight\"].mean()"
   ]
  },
  {
   "cell_type": "markdown",
   "id": "366e5563",
   "metadata": {},
   "source": [
    "```{admonition} 练一练\n",
    "请根据0.25分位数和0.75分位数进行分割，将体重分为high、normal和low这3组，统计身高的均值。\n",
    "```"
   ]
  },
  {
   "cell_type": "code",
   "execution_count": 3,
   "id": "b3c2aef5",
   "metadata": {},
   "outputs": [
    {
     "data": {
      "text/plain": [
       "Weight\n",
       "high      174.935714\n",
       "low       155.891071\n",
       "normal    162.255294\n",
       "Name: Height, dtype: float64"
      ]
     },
     "execution_count": 3,
     "metadata": {},
     "output_type": "execute_result"
    }
   ],
   "source": [
    "q25 = df.Weight.quantile(0.25)\n",
    "q75 = df.Weight.quantile(0.75)\n",
    "w_dict = {0:\"low\", 1:\"normal\", 2:\"high\"}\n",
    "condition = ((df.Weight > q25)*1 + (df.Weight > q75)*1).replace(w_dict)\n",
    "df.groupby(condition)[\"Height\"].mean()"
   ]
  },
  {
   "cell_type": "markdown",
   "id": "40a23ad4",
   "metadata": {},
   "source": [
    "```{admonition} 练一练\n",
    "在learn_pandas数据集中，Transfer列的元素为“N”时表示该名同学不是转系生，请按照学校和年级两列分组，找出所有不含转系生的组对应的学校和年级。\n",
    "```"
   ]
  },
  {
   "cell_type": "code",
   "execution_count": 4,
   "id": "53cca726",
   "metadata": {},
   "outputs": [
    {
     "data": {
      "text/plain": [
       "MultiIndex([('A',    'Senior'),\n",
       "            ('B',  'Freshman'),\n",
       "            ('B',    'Junior'),\n",
       "            ('B',    'Senior'),\n",
       "            ('B', 'Sophomore'),\n",
       "            ('C',    'Junior'),\n",
       "            ('C',    'Senior'),\n",
       "            ('D',  'Freshman'),\n",
       "            ('D',    'Junior'),\n",
       "            ('D',    'Senior'),\n",
       "            ('D', 'Sophomore')],\n",
       "           names=['School', 'Grade'])"
      ]
     },
     "execution_count": 4,
     "metadata": {},
     "output_type": "execute_result"
    }
   ],
   "source": [
    "res = (df.Transfer==\"N\").groupby([df.School, df.Grade]).all()\n",
    "res[~res].index"
   ]
  },
  {
   "cell_type": "markdown",
   "id": "a2b4af8a",
   "metadata": {},
   "source": [
    "```{admonition} 练一练\n",
    "请使用传入字典的方法完成与gb.agg(['max', 'min'])等价的聚合任务。\n",
    "```"
   ]
  },
  {
   "cell_type": "code",
   "execution_count": 5,
   "id": "46114c98",
   "metadata": {},
   "outputs": [
    {
     "data": {
      "text/html": [
       "<div>\n",
       "<style scoped>\n",
       "    .dataframe tbody tr th:only-of-type {\n",
       "        vertical-align: middle;\n",
       "    }\n",
       "\n",
       "    .dataframe tbody tr th {\n",
       "        vertical-align: top;\n",
       "    }\n",
       "\n",
       "    .dataframe thead tr th {\n",
       "        text-align: left;\n",
       "    }\n",
       "\n",
       "    .dataframe thead tr:last-of-type th {\n",
       "        text-align: right;\n",
       "    }\n",
       "</style>\n",
       "<table border=\"1\" class=\"dataframe\">\n",
       "  <thead>\n",
       "    <tr>\n",
       "      <th></th>\n",
       "      <th colspan=\"2\" halign=\"left\">Height</th>\n",
       "      <th colspan=\"2\" halign=\"left\">Weight</th>\n",
       "    </tr>\n",
       "    <tr>\n",
       "      <th></th>\n",
       "      <th>max</th>\n",
       "      <th>min</th>\n",
       "      <th>max</th>\n",
       "      <th>min</th>\n",
       "    </tr>\n",
       "    <tr>\n",
       "      <th>Gender</th>\n",
       "      <th></th>\n",
       "      <th></th>\n",
       "      <th></th>\n",
       "      <th></th>\n",
       "    </tr>\n",
       "  </thead>\n",
       "  <tbody>\n",
       "    <tr>\n",
       "      <th>Female</th>\n",
       "      <td>170.2</td>\n",
       "      <td>145.4</td>\n",
       "      <td>63.0</td>\n",
       "      <td>34.0</td>\n",
       "    </tr>\n",
       "    <tr>\n",
       "      <th>Male</th>\n",
       "      <td>193.9</td>\n",
       "      <td>155.7</td>\n",
       "      <td>89.0</td>\n",
       "      <td>51.0</td>\n",
       "    </tr>\n",
       "  </tbody>\n",
       "</table>\n",
       "</div>"
      ],
      "text/plain": [
       "       Height        Weight      \n",
       "          max    min    max   min\n",
       "Gender                           \n",
       "Female  170.2  145.4   63.0  34.0\n",
       "Male    193.9  155.7   89.0  51.0"
      ]
     },
     "execution_count": 5,
     "metadata": {},
     "output_type": "execute_result"
    }
   ],
   "source": [
    "gb = df.groupby('Gender')[['Height', 'Weight']]\n",
    "gb.agg({\"Height\": ['max', 'min'], \"Weight\": ['max', 'min']})"
   ]
  },
  {
   "cell_type": "markdown",
   "id": "52aebc00",
   "metadata": {},
   "source": [
    "```{admonition} 练一练\n",
    "在groupby对象上可以使用describe()方法进行统计信息汇总，请同时使用多个聚合函数，完成与该方法相同的功能。\n",
    "```"
   ]
  },
  {
   "cell_type": "code",
   "execution_count": 6,
   "id": "8ba14e07",
   "metadata": {},
   "outputs": [
    {
     "data": {
      "text/html": [
       "<div>\n",
       "<style scoped>\n",
       "    .dataframe tbody tr th:only-of-type {\n",
       "        vertical-align: middle;\n",
       "    }\n",
       "\n",
       "    .dataframe tbody tr th {\n",
       "        vertical-align: top;\n",
       "    }\n",
       "\n",
       "    .dataframe thead tr th {\n",
       "        text-align: left;\n",
       "    }\n",
       "\n",
       "    .dataframe thead tr:last-of-type th {\n",
       "        text-align: right;\n",
       "    }\n",
       "</style>\n",
       "<table border=\"1\" class=\"dataframe\">\n",
       "  <thead>\n",
       "    <tr>\n",
       "      <th></th>\n",
       "      <th colspan=\"8\" halign=\"left\">Height</th>\n",
       "      <th colspan=\"8\" halign=\"left\">Weight</th>\n",
       "    </tr>\n",
       "    <tr>\n",
       "      <th></th>\n",
       "      <th>count</th>\n",
       "      <th>mean</th>\n",
       "      <th>std</th>\n",
       "      <th>min</th>\n",
       "      <th>25%</th>\n",
       "      <th>25%</th>\n",
       "      <th>25%</th>\n",
       "      <th>max</th>\n",
       "      <th>count</th>\n",
       "      <th>mean</th>\n",
       "      <th>std</th>\n",
       "      <th>min</th>\n",
       "      <th>25%</th>\n",
       "      <th>25%</th>\n",
       "      <th>25%</th>\n",
       "      <th>max</th>\n",
       "    </tr>\n",
       "    <tr>\n",
       "      <th>Gender</th>\n",
       "      <th></th>\n",
       "      <th></th>\n",
       "      <th></th>\n",
       "      <th></th>\n",
       "      <th></th>\n",
       "      <th></th>\n",
       "      <th></th>\n",
       "      <th></th>\n",
       "      <th></th>\n",
       "      <th></th>\n",
       "      <th></th>\n",
       "      <th></th>\n",
       "      <th></th>\n",
       "      <th></th>\n",
       "      <th></th>\n",
       "      <th></th>\n",
       "    </tr>\n",
       "  </thead>\n",
       "  <tbody>\n",
       "    <tr>\n",
       "      <th>Female</th>\n",
       "      <td>132</td>\n",
       "      <td>159.19697</td>\n",
       "      <td>5.053982</td>\n",
       "      <td>145.4</td>\n",
       "      <td>155.675</td>\n",
       "      <td>159.6</td>\n",
       "      <td>162.825</td>\n",
       "      <td>170.2</td>\n",
       "      <td>135</td>\n",
       "      <td>47.918519</td>\n",
       "      <td>5.405983</td>\n",
       "      <td>34.0</td>\n",
       "      <td>44.0</td>\n",
       "      <td>48.0</td>\n",
       "      <td>52.00</td>\n",
       "      <td>63.0</td>\n",
       "    </tr>\n",
       "    <tr>\n",
       "      <th>Male</th>\n",
       "      <td>51</td>\n",
       "      <td>173.62549</td>\n",
       "      <td>7.048485</td>\n",
       "      <td>155.7</td>\n",
       "      <td>168.900</td>\n",
       "      <td>173.4</td>\n",
       "      <td>177.150</td>\n",
       "      <td>193.9</td>\n",
       "      <td>54</td>\n",
       "      <td>72.759259</td>\n",
       "      <td>7.772557</td>\n",
       "      <td>51.0</td>\n",
       "      <td>69.0</td>\n",
       "      <td>73.0</td>\n",
       "      <td>78.75</td>\n",
       "      <td>89.0</td>\n",
       "    </tr>\n",
       "  </tbody>\n",
       "</table>\n",
       "</div>"
      ],
      "text/plain": [
       "       Height                                                              \\\n",
       "        count       mean       std    min      25%    25%      25%    max   \n",
       "Gender                                                                      \n",
       "Female    132  159.19697  5.053982  145.4  155.675  159.6  162.825  170.2   \n",
       "Male       51  173.62549  7.048485  155.7  168.900  173.4  177.150  193.9   \n",
       "\n",
       "       Weight                                                      \n",
       "        count       mean       std   min   25%   25%    25%   max  \n",
       "Gender                                                             \n",
       "Female    135  47.918519  5.405983  34.0  44.0  48.0  52.00  63.0  \n",
       "Male       54  72.759259  7.772557  51.0  69.0  73.0  78.75  89.0  "
      ]
     },
     "execution_count": 6,
     "metadata": {},
     "output_type": "execute_result"
    }
   ],
   "source": [
    "gb = df.groupby('Gender')[[\"Height\", \"Weight\"]]\n",
    "gb.agg([\"count\", \"mean\", \"std\", \"min\",\n",
    "       (\"25%\", lambda x: x.quantile(0.25)),\n",
    "       (\"25%\", lambda x: x.quantile(0.5)),\n",
    "       (\"25%\", lambda x: x.quantile(0.75)), \"max\"])"
   ]
  },
  {
   "cell_type": "markdown",
   "id": "49fcc69c",
   "metadata": {},
   "source": [
    "```{admonition} 练一练\n",
    "在agg()中能够使用聚合字符串的地方，我们都可以传入返回标量值的自定义函数，请自行构造一个相关的例子。\n",
    "```"
   ]
  },
  {
   "cell_type": "code",
   "execution_count": 7,
   "id": "f25cad5a",
   "metadata": {},
   "outputs": [
    {
     "data": {
      "text/html": [
       "<div>\n",
       "<style scoped>\n",
       "    .dataframe tbody tr th:only-of-type {\n",
       "        vertical-align: middle;\n",
       "    }\n",
       "\n",
       "    .dataframe tbody tr th {\n",
       "        vertical-align: top;\n",
       "    }\n",
       "\n",
       "    .dataframe thead th {\n",
       "        text-align: right;\n",
       "    }\n",
       "</style>\n",
       "<table border=\"1\" class=\"dataframe\">\n",
       "  <thead>\n",
       "    <tr style=\"text-align: right;\">\n",
       "      <th></th>\n",
       "      <th>Height</th>\n",
       "      <th>Weight</th>\n",
       "    </tr>\n",
       "    <tr>\n",
       "      <th>Gender</th>\n",
       "      <th></th>\n",
       "      <th></th>\n",
       "    </tr>\n",
       "  </thead>\n",
       "  <tbody>\n",
       "    <tr>\n",
       "      <th>Female</th>\n",
       "      <td>-0.219253</td>\n",
       "      <td>-0.268482</td>\n",
       "    </tr>\n",
       "    <tr>\n",
       "      <th>Male</th>\n",
       "      <td>0.437535</td>\n",
       "      <td>-0.332393</td>\n",
       "    </tr>\n",
       "  </tbody>\n",
       "</table>\n",
       "</div>"
      ],
      "text/plain": [
       "          Height    Weight\n",
       "Gender                    \n",
       "Female -0.219253 -0.268482\n",
       "Male    0.437535 -0.332393"
      ]
     },
     "execution_count": 7,
     "metadata": {},
     "output_type": "execute_result"
    }
   ],
   "source": [
    "gb = df.groupby('Gender')[[\"Height\", \"Weight\"]]\n",
    "gb.agg(lambda x: x.skew())"
   ]
  },
  {
   "cell_type": "markdown",
   "id": "f4d26357",
   "metadata": {},
   "source": [
    "```{admonition} 练一练\n",
    "在groupby对象中，rank()方法也是一个实用的变换函数，请在官方文档中查阅它的功能并给出1个使用的例子。\n",
    "```\n",
    "\n",
    "groupby上的rank()函数用于组内排名，一个典型的例子是全年级某次数学期末考试，需要计算每个学生在班级内的排名："
   ]
  },
  {
   "cell_type": "code",
   "execution_count": 8,
   "id": "b33eb088",
   "metadata": {},
   "outputs": [
    {
     "data": {
      "text/plain": [
       "0     3.0\n",
       "1     3.0\n",
       "2    29.0\n",
       "3     6.0\n",
       "4    37.0\n",
       "Name: Score, dtype: float64"
      ]
     },
     "execution_count": 8,
     "metadata": {},
     "output_type": "execute_result"
    }
   ],
   "source": [
    "df = pd.DataFrame({\n",
    "    \"Student ID\": [\"ID-%02d\"%i for i in range(1, 151)],\n",
    "    \"Class\": np.random.randint(1,6,150), # 5个班级\n",
    "    \"Score\": np.random.randint(40,101,150) # 分数\n",
    "})\n",
    "r = df.groupby(\"Class\")[\"Score\"].rank(method=\"min\")\n",
    "r.head()"
   ]
  },
  {
   "cell_type": "markdown",
   "id": "14a17f6b",
   "metadata": {},
   "source": [
    "```{admonition} 练一练\n",
    "transform()方法无法像agg()一样，通过传入字典来对指定列使用特定的变换，如果需要在一次transform()的调用中实现这种功能，请给出解决方案。\n",
    "```\n",
    "\n",
    "由于Series在传入函数时是自带名字的，因此可以在函数内部进行名字的判断，再进行不同操作。例如："
   ]
  },
  {
   "cell_type": "code",
   "execution_count": 9,
   "id": "125405cf",
   "metadata": {},
   "outputs": [
    {
     "data": {
      "text/html": [
       "<div>\n",
       "<style scoped>\n",
       "    .dataframe tbody tr th:only-of-type {\n",
       "        vertical-align: middle;\n",
       "    }\n",
       "\n",
       "    .dataframe tbody tr th {\n",
       "        vertical-align: top;\n",
       "    }\n",
       "\n",
       "    .dataframe thead th {\n",
       "        text-align: right;\n",
       "    }\n",
       "</style>\n",
       "<table border=\"1\" class=\"dataframe\">\n",
       "  <thead>\n",
       "    <tr style=\"text-align: right;\">\n",
       "      <th></th>\n",
       "      <th>A</th>\n",
       "      <th>B</th>\n",
       "    </tr>\n",
       "  </thead>\n",
       "  <tbody>\n",
       "    <tr>\n",
       "      <th>0</th>\n",
       "      <td>2</td>\n",
       "      <td>4</td>\n",
       "    </tr>\n",
       "    <tr>\n",
       "      <th>1</th>\n",
       "      <td>3</td>\n",
       "      <td>5</td>\n",
       "    </tr>\n",
       "    <tr>\n",
       "      <th>2</th>\n",
       "      <td>4</td>\n",
       "      <td>6</td>\n",
       "    </tr>\n",
       "    <tr>\n",
       "      <th>3</th>\n",
       "      <td>5</td>\n",
       "      <td>7</td>\n",
       "    </tr>\n",
       "  </tbody>\n",
       "</table>\n",
       "</div>"
      ],
      "text/plain": [
       "   A  B\n",
       "0  2  4\n",
       "1  3  5\n",
       "2  4  6\n",
       "3  5  7"
      ]
     },
     "execution_count": 9,
     "metadata": {},
     "output_type": "execute_result"
    }
   ],
   "source": [
    "def transform_helper(x):\n",
    "    if x.name == \"A\":\n",
    "        return x + 1\n",
    "    elif x.name == \"B\":\n",
    "        return x - 1\n",
    "df = pd.DataFrame({\"A\":[1,2,3,4], \"B\":[5,6,7,8], \"C\":list(\"aabb\")})\n",
    "df.groupby(\"C\").transform(transform_helper)"
   ]
  },
  {
   "cell_type": "markdown",
   "id": "c34da054",
   "metadata": {},
   "source": [
    "```{admonition} 练一练\n",
    "从概念上说，索引功能是组过滤功能的子集，请使用groupby对象上的filter()方法完成loc[...]的功能，这里假设“...”是元素的列表。\n",
    "```"
   ]
  },
  {
   "cell_type": "code",
   "execution_count": 10,
   "id": "cad683b0",
   "metadata": {},
   "outputs": [
    {
     "data": {
      "text/html": [
       "<div>\n",
       "<style scoped>\n",
       "    .dataframe tbody tr th:only-of-type {\n",
       "        vertical-align: middle;\n",
       "    }\n",
       "\n",
       "    .dataframe tbody tr th {\n",
       "        vertical-align: top;\n",
       "    }\n",
       "\n",
       "    .dataframe thead th {\n",
       "        text-align: right;\n",
       "    }\n",
       "</style>\n",
       "<table border=\"1\" class=\"dataframe\">\n",
       "  <thead>\n",
       "    <tr style=\"text-align: right;\">\n",
       "      <th></th>\n",
       "      <th>A</th>\n",
       "    </tr>\n",
       "  </thead>\n",
       "  <tbody>\n",
       "    <tr>\n",
       "      <th>a</th>\n",
       "      <td>1</td>\n",
       "    </tr>\n",
       "    <tr>\n",
       "      <th>a</th>\n",
       "      <td>2</td>\n",
       "    </tr>\n",
       "    <tr>\n",
       "      <th>b</th>\n",
       "      <td>3</td>\n",
       "    </tr>\n",
       "    <tr>\n",
       "      <th>b</th>\n",
       "      <td>4</td>\n",
       "    </tr>\n",
       "    <tr>\n",
       "      <th>c</th>\n",
       "      <td>5</td>\n",
       "    </tr>\n",
       "    <tr>\n",
       "      <th>d</th>\n",
       "      <td>6</td>\n",
       "    </tr>\n",
       "  </tbody>\n",
       "</table>\n",
       "</div>"
      ],
      "text/plain": [
       "   A\n",
       "a  1\n",
       "a  2\n",
       "b  3\n",
       "b  4\n",
       "c  5\n",
       "d  6"
      ]
     },
     "execution_count": 10,
     "metadata": {},
     "output_type": "execute_result"
    }
   ],
   "source": [
    "df = pd.DataFrame({\"A\":[1,2,3,4,5,6]}, index=list(\"aabbcd\"))\n",
    "df"
   ]
  },
  {
   "cell_type": "code",
   "execution_count": 11,
   "id": "8a3f2940",
   "metadata": {},
   "outputs": [
    {
     "data": {
      "text/html": [
       "<div>\n",
       "<style scoped>\n",
       "    .dataframe tbody tr th:only-of-type {\n",
       "        vertical-align: middle;\n",
       "    }\n",
       "\n",
       "    .dataframe tbody tr th {\n",
       "        vertical-align: top;\n",
       "    }\n",
       "\n",
       "    .dataframe thead th {\n",
       "        text-align: right;\n",
       "    }\n",
       "</style>\n",
       "<table border=\"1\" class=\"dataframe\">\n",
       "  <thead>\n",
       "    <tr style=\"text-align: right;\">\n",
       "      <th></th>\n",
       "      <th>A</th>\n",
       "    </tr>\n",
       "  </thead>\n",
       "  <tbody>\n",
       "    <tr>\n",
       "      <th>b</th>\n",
       "      <td>3</td>\n",
       "    </tr>\n",
       "    <tr>\n",
       "      <th>b</th>\n",
       "      <td>4</td>\n",
       "    </tr>\n",
       "    <tr>\n",
       "      <th>d</th>\n",
       "      <td>6</td>\n",
       "    </tr>\n",
       "  </tbody>\n",
       "</table>\n",
       "</div>"
      ],
      "text/plain": [
       "   A\n",
       "b  3\n",
       "b  4\n",
       "d  6"
      ]
     },
     "execution_count": 11,
     "metadata": {},
     "output_type": "execute_result"
    }
   ],
   "source": [
    "items_list = [\"b\", \"d\"]\n",
    "df.groupby(df.index).filter(lambda x: x.index[0] in items_list)"
   ]
  },
  {
   "cell_type": "markdown",
   "id": "6492d5e3",
   "metadata": {},
   "source": [
    "```{admonition} 练一练\n",
    "在groupby对象中还定义了cov()和corr()函数，从概念上说也属于跨列的分组处理。请利用本节定义的gb对象，使用apply()函数实现与gb.cov()同样的功能。\n",
    "```"
   ]
  },
  {
   "cell_type": "code",
   "execution_count": 12,
   "id": "f12fd3fd",
   "metadata": {},
   "outputs": [],
   "source": [
    "df = pd.DataFrame(np.random.rand(12, 5), columns=list(\"ABCDE\"))\n",
    "df[\"F\"] = list(\"aaaabbbbcccc\")"
   ]
  },
  {
   "cell_type": "code",
   "execution_count": 13,
   "id": "205a58de",
   "metadata": {},
   "outputs": [
    {
     "data": {
      "text/plain": [
       "True"
      ]
     },
     "execution_count": 13,
     "metadata": {},
     "output_type": "execute_result"
    }
   ],
   "source": [
    "apply_method = df.groupby(\"F\").apply(lambda x: x.cov())\n",
    "inner_method = df.groupby(\"F\").cov()\n",
    "apply_method.equals(inner_method)"
   ]
  },
  {
   "cell_type": "markdown",
   "id": "3403b5e7",
   "metadata": {},
   "source": [
    "## 一、汽车数据的分组分析\n",
    "\n",
    "data/ch4/car.csv是一份有关汽车的数据集，其中Brand、Disp.和HP分别代表汽车品牌、发动机蓄量、发动机输出。\n",
    "\n",
    "- 按照如下要求，逐步对表格数据进行操作：\n",
    "  - 筛选出所属Country数超过2个的汽车，即若该汽车的Country在总体数据集中出现次数不超过2则剔除。\n",
    "  - 按Country分组计算价格均值、价格变异系数以及该Country的汽车数量，其中变异系数的计算方法是标准差除以均值，并在结果中把变异系数重命名为CoV。\n",
    "- 按照表中位置的前三分之一、中间三分之一和后三分之一分组，统计Price的均值。\n",
    "- 按照类型Type分组，解决如下问题：\n",
    "  - 对Price和HP分别计算最大值和最小值，结果会产生多级列索引，请用下划线连接的方式把多级列索引合并为单层索引。\n",
    "  - 对HP进行组内的min-max归一化，即每个元素减去组内HP的最小值后，再除以组内HP的极差。\n",
    "\n",
    "```text\n",
    "【解答】\n",
    "```"
   ]
  },
  {
   "cell_type": "code",
   "execution_count": 14,
   "id": "279af129",
   "metadata": {},
   "outputs": [],
   "source": [
    "df = pd.read_csv(\"data/ch4/car.csv\")"
   ]
  },
  {
   "cell_type": "markdown",
   "id": "f972596e",
   "metadata": {},
   "source": [
    "- 1.1"
   ]
  },
  {
   "cell_type": "code",
   "execution_count": 15,
   "id": "55829e12",
   "metadata": {},
   "outputs": [
    {
     "data": {
      "text/plain": [
       "array(['Eagle Summit 4', 'Ford Escort   4', 'Ford Festiva 4',\n",
       "       'Honda Civic 4', 'Mazda Protege 4', 'Nissan Sentra 4',\n",
       "       'Pontiac LeMans 4', 'Subaru Loyale 4', 'Subaru Justy 3',\n",
       "       'Toyota Corolla 4', 'Toyota Tercel 4', 'Chevrolet Camaro V8',\n",
       "       'Dodge Daytona', 'Ford Mustang V8', 'Ford Probe',\n",
       "       'Honda Civic CRX Si 4', 'Honda Prelude Si 4WS 4', 'Nissan 240SX 4',\n",
       "       'Plymouth Laser', 'Subaru XT 4', 'Buick Skylark 4',\n",
       "       'Chevrolet Beretta 4', 'Chrysler Le Baron V6', 'Ford Tempo 4',\n",
       "       'Honda Accord 4', 'Mazda 626 4', 'Mitsubishi Galant 4',\n",
       "       'Mitsubishi Sigma V6', 'Nissan Stanza 4', 'Oldsmobile Calais 4',\n",
       "       'Subaru Legacy 4', 'Toyota Camry 4', 'Acura Legend V6',\n",
       "       'Buick Century 4', 'Chrysler Le Baron Coupe',\n",
       "       'Chrysler New Yorker V6', 'Eagle Premier V6', 'Ford Taurus V6',\n",
       "       'Ford Thunderbird V6', 'Hyundai Sonata 4', 'Mazda 929 V6',\n",
       "       'Nissan Maxima V6', 'Oldsmobile Cutlass Ciera 4',\n",
       "       'Oldsmobile Cutlass Supreme V6', 'Toyota Cressida 6',\n",
       "       'Buick Le Sabre V6', 'Chevrolet Caprice V8',\n",
       "       'Ford LTD Crown Victoria V8', 'Chevrolet Lumina APV V6',\n",
       "       'Dodge Grand Caravan V6', 'Ford Aerostar V6', 'Mazda MPV V6',\n",
       "       'Mitsubishi Wagon 4', 'Nissan Axxess 4', 'Nissan Van 4'],\n",
       "      dtype=object)"
      ]
     },
     "execution_count": 15,
     "metadata": {},
     "output_type": "execute_result"
    }
   ],
   "source": [
    "res = df.Brand[df.groupby(\"Country\")[\"Country\"].transform(lambda x: x.shape[0] > 2)]\n",
    "res.values"
   ]
  },
  {
   "cell_type": "markdown",
   "id": "e200b493",
   "metadata": {},
   "source": [
    "- 1.2"
   ]
  },
  {
   "cell_type": "code",
   "execution_count": 16,
   "id": "a7fa1ef7",
   "metadata": {},
   "outputs": [
    {
     "data": {
      "text/html": [
       "<div>\n",
       "<style scoped>\n",
       "    .dataframe tbody tr th:only-of-type {\n",
       "        vertical-align: middle;\n",
       "    }\n",
       "\n",
       "    .dataframe tbody tr th {\n",
       "        vertical-align: top;\n",
       "    }\n",
       "\n",
       "    .dataframe thead th {\n",
       "        text-align: right;\n",
       "    }\n",
       "</style>\n",
       "<table border=\"1\" class=\"dataframe\">\n",
       "  <thead>\n",
       "    <tr style=\"text-align: right;\">\n",
       "      <th></th>\n",
       "      <th>价格均值</th>\n",
       "      <th>价格变异系数</th>\n",
       "      <th>汽车数量</th>\n",
       "    </tr>\n",
       "    <tr>\n",
       "      <th>Country</th>\n",
       "      <th></th>\n",
       "      <th></th>\n",
       "      <th></th>\n",
       "    </tr>\n",
       "  </thead>\n",
       "  <tbody>\n",
       "    <tr>\n",
       "      <th>France</th>\n",
       "      <td>15930.000000</td>\n",
       "      <td>NaN</td>\n",
       "      <td>1</td>\n",
       "    </tr>\n",
       "    <tr>\n",
       "      <th>Germany</th>\n",
       "      <td>14447.500000</td>\n",
       "      <td>0.435839</td>\n",
       "      <td>2</td>\n",
       "    </tr>\n",
       "    <tr>\n",
       "      <th>Japan</th>\n",
       "      <td>13938.052632</td>\n",
       "      <td>0.387429</td>\n",
       "      <td>19</td>\n",
       "    </tr>\n",
       "    <tr>\n",
       "      <th>Japan/USA</th>\n",
       "      <td>10067.571429</td>\n",
       "      <td>0.240040</td>\n",
       "      <td>7</td>\n",
       "    </tr>\n",
       "    <tr>\n",
       "      <th>Korea</th>\n",
       "      <td>7857.333333</td>\n",
       "      <td>0.243435</td>\n",
       "      <td>3</td>\n",
       "    </tr>\n",
       "    <tr>\n",
       "      <th>Mexico</th>\n",
       "      <td>8672.000000</td>\n",
       "      <td>NaN</td>\n",
       "      <td>1</td>\n",
       "    </tr>\n",
       "    <tr>\n",
       "      <th>Sweden</th>\n",
       "      <td>18450.000000</td>\n",
       "      <td>NaN</td>\n",
       "      <td>1</td>\n",
       "    </tr>\n",
       "    <tr>\n",
       "      <th>USA</th>\n",
       "      <td>12543.269231</td>\n",
       "      <td>0.203344</td>\n",
       "      <td>26</td>\n",
       "    </tr>\n",
       "  </tbody>\n",
       "</table>\n",
       "</div>"
      ],
      "text/plain": [
       "                   价格均值    价格变异系数  汽车数量\n",
       "Country                                \n",
       "France     15930.000000       NaN     1\n",
       "Germany    14447.500000  0.435839     2\n",
       "Japan      13938.052632  0.387429    19\n",
       "Japan/USA  10067.571429  0.240040     7\n",
       "Korea       7857.333333  0.243435     3\n",
       "Mexico      8672.000000       NaN     1\n",
       "Sweden     18450.000000       NaN     1\n",
       "USA        12543.269231  0.203344    26"
      ]
     },
     "execution_count": 16,
     "metadata": {},
     "output_type": "execute_result"
    }
   ],
   "source": [
    "df.groupby(\"Country\")[\"Price\"].agg([\n",
    "    (\"价格均值\", \"mean\"),\n",
    "    (\"价格变异系数\", lambda x: x.std() / x.mean()),\n",
    "    (\"汽车数量\", \"count\")])"
   ]
  },
  {
   "cell_type": "markdown",
   "id": "ca633c9c",
   "metadata": {},
   "source": [
    "- 2"
   ]
  },
  {
   "cell_type": "code",
   "execution_count": 17,
   "id": "71bcfd28",
   "metadata": {},
   "outputs": [
    {
     "data": {
      "text/plain": [
       "a.前三分之一      9069.95\n",
       "b.中间三分之一    13356.40\n",
       "c.后三分之一     15420.65\n",
       "Name: Price, dtype: float64"
      ]
     },
     "execution_count": 17,
     "metadata": {},
     "output_type": "execute_result"
    }
   ],
   "source": [
    "s = pd.Series(np.empty(df.shape[0]))\n",
    "s.iloc[:s.shape[0]//3] = \"a.前三分之一\"\n",
    "s.iloc[s.shape[0]//3:s.shape[0]//3*2] = \"b.中间三分之一\"\n",
    "s.iloc[s.shape[0]//3*2:] = \"c.后三分之一\"\n",
    "df.groupby(s.values)[\"Price\"].mean()"
   ]
  },
  {
   "cell_type": "markdown",
   "id": "25577150",
   "metadata": {},
   "source": [
    "- 3.1"
   ]
  },
  {
   "cell_type": "code",
   "execution_count": 18,
   "id": "48bcb2ce",
   "metadata": {},
   "outputs": [
    {
     "data": {
      "text/html": [
       "<div>\n",
       "<style scoped>\n",
       "    .dataframe tbody tr th:only-of-type {\n",
       "        vertical-align: middle;\n",
       "    }\n",
       "\n",
       "    .dataframe tbody tr th {\n",
       "        vertical-align: top;\n",
       "    }\n",
       "\n",
       "    .dataframe thead th {\n",
       "        text-align: right;\n",
       "    }\n",
       "</style>\n",
       "<table border=\"1\" class=\"dataframe\">\n",
       "  <thead>\n",
       "    <tr style=\"text-align: right;\">\n",
       "      <th></th>\n",
       "      <th>Price_max</th>\n",
       "      <th>HP_min</th>\n",
       "    </tr>\n",
       "    <tr>\n",
       "      <th>Type</th>\n",
       "      <th></th>\n",
       "      <th></th>\n",
       "    </tr>\n",
       "  </thead>\n",
       "  <tbody>\n",
       "    <tr>\n",
       "      <th>Compact</th>\n",
       "      <td>18900</td>\n",
       "      <td>95</td>\n",
       "    </tr>\n",
       "    <tr>\n",
       "      <th>Large</th>\n",
       "      <td>17257</td>\n",
       "      <td>150</td>\n",
       "    </tr>\n",
       "    <tr>\n",
       "      <th>Medium</th>\n",
       "      <td>24760</td>\n",
       "      <td>110</td>\n",
       "    </tr>\n",
       "    <tr>\n",
       "      <th>Small</th>\n",
       "      <td>9995</td>\n",
       "      <td>63</td>\n",
       "    </tr>\n",
       "    <tr>\n",
       "      <th>Sporty</th>\n",
       "      <td>13945</td>\n",
       "      <td>92</td>\n",
       "    </tr>\n",
       "    <tr>\n",
       "      <th>Van</th>\n",
       "      <td>15395</td>\n",
       "      <td>106</td>\n",
       "    </tr>\n",
       "  </tbody>\n",
       "</table>\n",
       "</div>"
      ],
      "text/plain": [
       "         Price_max  HP_min\n",
       "Type                      \n",
       "Compact      18900      95\n",
       "Large        17257     150\n",
       "Medium       24760     110\n",
       "Small         9995      63\n",
       "Sporty       13945      92\n",
       "Van          15395     106"
      ]
     },
     "execution_count": 18,
     "metadata": {},
     "output_type": "execute_result"
    }
   ],
   "source": [
    "res = df.groupby('Type').agg({'Price': ['max'], 'HP': ['min']})\n",
    "res.columns = res.columns.map(lambda x:'_'.join(x))\n",
    "res"
   ]
  },
  {
   "cell_type": "markdown",
   "id": "1d15b76c",
   "metadata": {},
   "source": [
    "- 3.2"
   ]
  },
  {
   "cell_type": "code",
   "execution_count": 19,
   "id": "021d0736",
   "metadata": {},
   "outputs": [
    {
     "data": {
      "text/plain": [
       "0    1.00\n",
       "1    0.54\n",
       "2    0.00\n",
       "3    0.58\n",
       "4    0.80\n",
       "Name: HP, dtype: float64"
      ]
     },
     "execution_count": 19,
     "metadata": {},
     "output_type": "execute_result"
    }
   ],
   "source": [
    "def normalize(s):\n",
    "    s_min, s_max = s.min(), s.max()\n",
    "    res = (s - s_min)/(s_max - s_min)\n",
    "    return res\n",
    "df.groupby('Type')['HP'].transform(normalize).head()"
   ]
  },
  {
   "cell_type": "markdown",
   "id": "45c7939d",
   "metadata": {},
   "source": [
    "## 二、某海洋物种在三大海域的分布研究\n",
    "\n",
    "某科研团队从2001年1月至2020年12月，对某海洋物种在太平洋部分水域（西经120°至西经160°、赤道线至南纬40°）、印度洋部分水域（东经60°至东经100°、赤道线至南纬40°）和大西洋部分水域（0°经线至西经40°、南纬20°至南纬60°）的出现情况进行了记录。记录的数据表存储在data/ch4/marine_observation.csv中，表的每一行数据包含了该次观测的时间、经纬度坐标（东经和北纬为正，西经和南纬为负）以及海水盐度。\n",
    "\n",
    "- 分组计算各年份在各海域的观测次数与海水盐度均值。\n",
    "- 将三片海域各自划分为$10\\times 10$大小相同的网格，逐月统计每个网格内的观测总次数，并将结果保存为3个$10\\times 10\\times 20\\times 12$的数组，这些维度分别代表经度方向的网格划分、维度方向的网格划分、年数以及月数。\n",
    "\n",
    "```text\n",
    "【解答】\n",
    "```\n",
    "- 1"
   ]
  },
  {
   "cell_type": "code",
   "execution_count": 20,
   "id": "7261041f",
   "metadata": {},
   "outputs": [
    {
     "data": {
      "text/html": [
       "<div>\n",
       "<style scoped>\n",
       "    .dataframe tbody tr th:only-of-type {\n",
       "        vertical-align: middle;\n",
       "    }\n",
       "\n",
       "    .dataframe tbody tr th {\n",
       "        vertical-align: top;\n",
       "    }\n",
       "\n",
       "    .dataframe thead th {\n",
       "        text-align: right;\n",
       "    }\n",
       "</style>\n",
       "<table border=\"1\" class=\"dataframe\">\n",
       "  <thead>\n",
       "    <tr style=\"text-align: right;\">\n",
       "      <th></th>\n",
       "      <th></th>\n",
       "      <th>count</th>\n",
       "      <th>mean</th>\n",
       "    </tr>\n",
       "    <tr>\n",
       "      <th>year</th>\n",
       "      <th>area</th>\n",
       "      <th></th>\n",
       "      <th></th>\n",
       "    </tr>\n",
       "  </thead>\n",
       "  <tbody>\n",
       "    <tr>\n",
       "      <th rowspan=\"3\" valign=\"top\">2001</th>\n",
       "      <th>Atlantic</th>\n",
       "      <td>20073</td>\n",
       "      <td>35.015785</td>\n",
       "    </tr>\n",
       "    <tr>\n",
       "      <th>Indian</th>\n",
       "      <td>19972</td>\n",
       "      <td>35.009664</td>\n",
       "    </tr>\n",
       "    <tr>\n",
       "      <th>Pacific</th>\n",
       "      <td>19880</td>\n",
       "      <td>34.988308</td>\n",
       "    </tr>\n",
       "    <tr>\n",
       "      <th rowspan=\"2\" valign=\"top\">2002</th>\n",
       "      <th>Atlantic</th>\n",
       "      <td>20230</td>\n",
       "      <td>34.988722</td>\n",
       "    </tr>\n",
       "    <tr>\n",
       "      <th>Indian</th>\n",
       "      <td>20036</td>\n",
       "      <td>35.015698</td>\n",
       "    </tr>\n",
       "  </tbody>\n",
       "</table>\n",
       "</div>"
      ],
      "text/plain": [
       "               count       mean\n",
       "year area                      \n",
       "2001 Atlantic  20073  35.015785\n",
       "     Indian    19972  35.009664\n",
       "     Pacific   19880  34.988308\n",
       "2002 Atlantic  20230  34.988722\n",
       "     Indian    20036  35.015698"
      ]
     },
     "execution_count": 20,
     "metadata": {},
     "output_type": "execute_result"
    }
   ],
   "source": [
    "df = pd.read_csv(\"data/ch4/marine_observation.csv\")\n",
    "Pacific = (df.longitude > -160) & (df.longitude < -120) & (df.latitude > -40) & (df.latitude < 0)\n",
    "Indian = (df.longitude > 60) & (df.longitude < 100) & (df.latitude > -40) & (df.latitude < 0)\n",
    "Atlantic = (df.longitude > -40) & (df.longitude < 0) & (df.latitude > -60) & (df.latitude < -20)\n",
    "df[\"area\"] = np.nan\n",
    "df.loc[Pacific, \"area\"] = \"Pacific\"\n",
    "df.loc[Indian, \"area\"] = \"Indian\"\n",
    "df.loc[Atlantic, \"area\"] = \"Atlantic\"\n",
    "df.area.count() == df.shape[0] # 无缺失值 # 第七章可用df.area.notna().all()\n",
    "df[\"year\"] = df.date.apply(lambda x: int(x[:4])) # 第八章可用df.date.str[:4].astype(\"int\")\n",
    "res = df.groupby([\"year\", \"area\"])[\"salinity\"].agg([\"count\", \"mean\"])\n",
    "res.head()"
   ]
  },
  {
   "cell_type": "markdown",
   "id": "3e79b727",
   "metadata": {},
   "source": [
    "- 2"
   ]
  },
  {
   "cell_type": "code",
   "execution_count": 21,
   "id": "33123299",
   "metadata": {},
   "outputs": [],
   "source": [
    "df[\"lon_id\"] = np.nan\n",
    "df[\"lat_id\"] = np.nan\n",
    "df[\"month\"] = df.date.apply(lambda x: int(x[5:7]))\n",
    "df.loc[df.area==\"Pacific\", \"lon_id\"] = (df[df.area==\"Pacific\"].longitude - (-160)) // 4\n",
    "df.loc[df.area==\"Pacific\", \"lat_id\"] = (df[df.area==\"Pacific\"].latitude - (-40)) // 4\n",
    "df.loc[df.area==\"Indian\", \"lon_id\"] = (df[df.area==\"Indian\"].longitude - 60) // 4\n",
    "df.loc[df.area==\"Indian\", \"lat_id\"] = (df[df.area==\"Indian\"].latitude - (-40)) // 4\n",
    "df.loc[df.area==\"Atlantic\", \"lon_id\"] = (df[df.area==\"Atlantic\"].longitude - (-40)) // 4\n",
    "df.loc[df.area==\"Atlantic\", \"lat_id\"] = (df[df.area==\"Atlantic\"].latitude - (-60)) // 4\n",
    "df.lon_id = df.lon_id.astype(\"int\")\n",
    "df.lon_id = df.lon_id.astype(\"int\")"
   ]
  },
  {
   "cell_type": "code",
   "execution_count": 22,
   "id": "d59ffd86",
   "metadata": {},
   "outputs": [],
   "source": [
    "all_res = []\n",
    "for area in [\"Pacific\", \"Indian\", \"Atlantic\"]:\n",
    "    _df = df[df.area==area]\n",
    "    count_res = _df.groupby([\"year\", \"month\", \"lon_id\", \"lat_id\"])[\"area\"].count()\n",
    "    count_res = count_res.reorder_levels([2,3,0,1]).sort_index()\n",
    "    count_res = count_res.values.reshape(10, 10, 20, 12)\n",
    "    all_res.append(count_res)"
   ]
  },
  {
   "cell_type": "markdown",
   "id": "aa63de9d",
   "metadata": {},
   "source": [
    "## 三、实现transform()函数\n",
    "\n",
    "请按照如下要求实现transform()函数：\n",
    "\n",
    "- groupby对象的构造方法为my_groupby(df, group_cols)\n",
    "- 支持单列分组功能（group_cols为单个列名）\n",
    "- 支持多列分组功能（group_cols为列名列表）\n",
    "- 支持标量广播功能\n",
    "- 给出测试样例，并与pandas中transform()的运行结果进行对比\n",
    "\n",
    "```text\n",
    "【解答】\n",
    "```"
   ]
  },
  {
   "cell_type": "code",
   "execution_count": 23,
   "id": "2b2e60a3",
   "metadata": {},
   "outputs": [],
   "source": [
    "class my_groupby:\n",
    "    def __init__(self, _df, group_cols):\n",
    "        df = _df.copy()\n",
    "        self.df = df\n",
    "        if isinstance(group_cols, str):\n",
    "            group_cols = [group_cols]\n",
    "        self.used_col = df.columns.difference(pd.Index(group_cols))\n",
    "        self.groups = df[group_cols].drop_duplicates().values.tolist()\n",
    "        self.groups_dict = {}\n",
    "        for items in self.groups:\n",
    "            condition = np.ones(df.shape[0])\n",
    "            for i in range(len(items)):\n",
    "                condition = condition * (df[group_cols[i]]==items[i]).values\n",
    "            self.groups_dict[tuple(items)] = df.index[condition.astype(\"bool\")]\n",
    "    def __getitem__(self, col):\n",
    "        if isinstance(col, str):\n",
    "            col = [col]\n",
    "        self.used_col = col\n",
    "        return self\n",
    "    def transform(self, f):\n",
    "        res = []\n",
    "        for col in self.used_col:\n",
    "            cur_res = pd.Series(\n",
    "                np.empty(self.df.shape[0], dtype=\"int\"),\n",
    "                index=self.df.index,\n",
    "                name=col\n",
    "            )\n",
    "            for items in self.groups_dict:\n",
    "                idx = self.groups_dict[items]\n",
    "                cur_res[idx] = f(self.df.loc[idx, col])\n",
    "            res.append(cur_res)\n",
    "        return cur_res if len(self.used_col)==1 else pd.concat(res, axis=1)"
   ]
  },
  {
   "cell_type": "code",
   "execution_count": 24,
   "id": "5382b051",
   "metadata": {},
   "outputs": [],
   "source": [
    "df = pd.DataFrame({\n",
    "    \"A\": list(\"abbbcccc\"),\n",
    "    \"B\": list(\"xxxyyyyz\"),\n",
    "    \"C\": [1,2,3,4,5,6,7,8],\n",
    "    \"D\": [9,10,11,12,13,14,15,16]\n",
    "})"
   ]
  },
  {
   "cell_type": "code",
   "execution_count": 25,
   "id": "5527fb6b",
   "metadata": {},
   "outputs": [
    {
     "data": {
      "text/plain": [
       "True"
      ]
     },
     "execution_count": 25,
     "metadata": {},
     "output_type": "execute_result"
    }
   ],
   "source": [
    "my_res = my_groupby(df, \"A\")[\"C\"].transform(lambda x: x.cumsum())\n",
    "pd_res = df.groupby(\"A\")[\"C\"].transform(\"cumsum\")\n",
    "my_res.equals(pd_res)"
   ]
  },
  {
   "cell_type": "code",
   "execution_count": 26,
   "id": "c14031c2",
   "metadata": {},
   "outputs": [
    {
     "data": {
      "text/plain": [
       "True"
      ]
     },
     "execution_count": 26,
     "metadata": {},
     "output_type": "execute_result"
    }
   ],
   "source": [
    "my_res = my_groupby(df, \"A\")[[\"C\", \"D\"]].transform(lambda x: x.cumsum())\n",
    "pd_res = df.groupby(\"A\")[[\"C\", \"D\"]].transform(\"cumsum\")\n",
    "my_res.equals(pd_res)"
   ]
  },
  {
   "cell_type": "code",
   "execution_count": 27,
   "id": "11baf7ef",
   "metadata": {},
   "outputs": [
    {
     "data": {
      "text/plain": [
       "True"
      ]
     },
     "execution_count": 27,
     "metadata": {},
     "output_type": "execute_result"
    }
   ],
   "source": [
    "my_res = my_groupby(df, [\"A\", \"B\"])[[\"C\", \"D\"]].transform(lambda x: x.cumsum())\n",
    "pd_res = df.groupby([\"A\", \"B\"])[[\"C\", \"D\"]].transform(\"cumsum\")\n",
    "my_res.equals(pd_res)"
   ]
  },
  {
   "cell_type": "code",
   "execution_count": 28,
   "id": "960b2b93",
   "metadata": {},
   "outputs": [
    {
     "data": {
      "text/plain": [
       "True"
      ]
     },
     "execution_count": 28,
     "metadata": {},
     "output_type": "execute_result"
    }
   ],
   "source": [
    "# 标量广播\n",
    "my_res = my_groupby(df, [\"A\", \"B\"]).transform(lambda x: x.mean())\n",
    "pd_res = df.groupby([\"A\", \"B\"]).transform(\"mean\")\n",
    "my_res.equals(pd_res)"
   ]
  }
 ],
 "metadata": {
  "jupytext": {
   "text_representation": {
    "format_name": "myst"
   }
  },
  "kernelspec": {
   "display_name": "Python 3",
   "name": "python3"
  },
  "language_info": {
   "codemirror_mode": {
    "name": "ipython",
    "version": 3
   },
   "file_extension": ".py",
   "mimetype": "text/x-python",
   "name": "python",
   "nbconvert_exporter": "python",
   "pygments_lexer": "ipython3",
   "version": "3.8.12"
  },
  "source_map": [
   10,
   19,
   31,
   34,
   40,
   46,
   52,
   55,
   61,
   64,
   70,
   76,
   82,
   85,
   93,
   101,
   109,
   117,
   123,
   128,
   131,
   137,
   142,
   146,
   165,
   167,
   171,
   174,
   178,
   183,
   187,
   193,
   197,
   201,
   205,
   211,
   225,
   238,
   242,
   256,
   264,
   280,
   315,
   324,
   330,
   336,
   342
  ]
 },
 "nbformat": 4,
 "nbformat_minor": 5
}