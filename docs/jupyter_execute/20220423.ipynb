{
 "cells": [],
 "metadata": {
  "kernelspec": {
   "display_name": "Python 3.8.12 ('cyn')",
   "language": "python",
   "name": "python3"
  },
  "language_info": {
   "codemirror_mode": {
    "name": "ipython",
    "version": 3
   },
   "file_extension": ".py",
   "mimetype": "text/x-python",
   "name": "python",
   "nbconvert_exporter": "python",
   "pygments_lexer": "ipython3",
   "version": "3.8.12"
  },
  "vscode": {
   "interpreter": {
    "hash": "74c21770a630934f846b3e7935c8064798cc1b962b8ca97c0c0fcad9f07f7725"
   }
  }
 },
 "nbformat": 4,
 "nbformat_minor": 2
}