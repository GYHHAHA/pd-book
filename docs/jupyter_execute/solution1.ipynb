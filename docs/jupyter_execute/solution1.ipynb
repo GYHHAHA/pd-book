{
 "cells": [
  {
   "cell_type": "code",
   "execution_count": 1,
   "id": "86407821",
   "metadata": {
    "tags": [
     "remove_input"
    ]
   },
   "outputs": [],
   "source": [
    "import numpy as np\n",
    "import pandas as pd\n",
    "import matplotlib.pyplot as plt\n",
    "np.random.seed(0)\n",
    "plt.rcParams['font.sans-serif'] = ['SimHei']\n",
    "plt.rcParams['axes.unicode_minus'] = False\n",
    "np.set_printoptions(suppress = True)"
   ]
  },
  {
   "cell_type": "markdown",
   "id": "8e516f62",
   "metadata": {},
   "source": [
    "# 第一章\n",
    "\n",
    "## 零、练一练\n",
    "\n",
    "```{admonition} 练一练\n",
    "给定一个包含5个英语单词的列表，请构造1个字典以列表的元素为键，以每个键对应的单词字母个数为值。\n",
    "```"
   ]
  },
  {
   "cell_type": "code",
   "execution_count": 2,
   "id": "4ff05e9f",
   "metadata": {},
   "outputs": [],
   "source": [
    "en_list = [\"apple\", \"banana\", \"peach\", \"pineapple\", \"watermelon\"]"
   ]
  },
  {
   "cell_type": "code",
   "execution_count": 3,
   "id": "dcc690d5",
   "metadata": {},
   "outputs": [
    {
     "data": {
      "text/plain": [
       "{'apple': 5, 'banana': 6, 'peach': 5, 'pineapple': 9, 'watermelon': 10}"
      ]
     },
     "execution_count": 3,
     "metadata": {},
     "output_type": "execute_result"
    }
   ],
   "source": [
    "en_dict = {word: len(word) for word in en_list}\n",
    "en_dict"
   ]
  },
  {
   "cell_type": "markdown",
   "id": "29eed758",
   "metadata": {},
   "source": [
    "```{admonition} 练一练\n",
    "给定3个二维整数列表$L_1$, $L_2$, $L_3$，它们的形状都是$30\\times20$，即每个列表中包含30个内层列表，并且每一个内层列表中包含20个整数。请利用列表推导式，构造一个形状相同的新列表 $L_{new}$，其满足任意一个位置的值是$L_1$, $L_2$, $L_3$相应位置的最小值。\n",
    "```"
   ]
  },
  {
   "cell_type": "code",
   "execution_count": 4,
   "id": "eaf8d7aa",
   "metadata": {},
   "outputs": [],
   "source": [
    "import random\n",
    "random.seed(0)\n",
    "n = 10000\n",
    "L1 = [[random.randint(-n, n) for j in range(20)] for i in range(30)]\n",
    "L2 = [[random.randint(-n, n) for j in range(20)] for i in range(30)]\n",
    "L3 = [[random.randint(-n, n) for j in range(20)] for i in range(30)]"
   ]
  },
  {
   "cell_type": "code",
   "execution_count": 5,
   "id": "7fdea21b",
   "metadata": {},
   "outputs": [],
   "source": [
    "L_new = [[min(L1[i][j], L2[i][j], L3[i][j]) for j in range(20)] for i in range(30)]"
   ]
  },
  {
   "cell_type": "markdown",
   "id": "437ac23e",
   "metadata": {},
   "source": [
    "```{admonition} 练一练\n",
    "对于上面构造的my_list，请选出包含3的整数倍的内层列表。\n",
    "```"
   ]
  },
  {
   "cell_type": "code",
   "execution_count": 6,
   "id": "b0a4be32",
   "metadata": {},
   "outputs": [],
   "source": [
    "my_list = [[1, 2], [3, 4, 5], [6], [7, 8], [9]]"
   ]
  },
  {
   "cell_type": "code",
   "execution_count": 7,
   "id": "40aa1f08",
   "metadata": {},
   "outputs": [
    {
     "data": {
      "text/plain": [
       "[[3, 4, 5], [6], [9]]"
      ]
     },
     "execution_count": 7,
     "metadata": {},
     "output_type": "execute_result"
    }
   ],
   "source": [
    "list(filter(lambda x: any(i%3==0 for i in x), my_list))"
   ]
  },
  {
   "cell_type": "markdown",
   "id": "b2cf879b",
   "metadata": {},
   "source": [
    "``` {admonition} 练一练\n",
    "请用zip函数完成上述例子中enumerate的功能。\n",
    "```"
   ]
  },
  {
   "cell_type": "code",
   "execution_count": 8,
   "id": "0de0a449",
   "metadata": {},
   "outputs": [],
   "source": [
    "L2 = [\"apple\", \"ball\", \"cat\", \"dog\", \"eye\"]"
   ]
  },
  {
   "cell_type": "code",
   "execution_count": 9,
   "id": "1c66675a",
   "metadata": {},
   "outputs": [
    {
     "name": "stdout",
     "output_type": "stream",
     "text": [
      "0 apple\n",
      "1 ball\n",
      "2 cat\n",
      "3 dog\n",
      "4 eye\n"
     ]
    }
   ],
   "source": [
    "for index, value in zip(range(len(L2)), L2):\n",
    "    print(index, value)"
   ]
  },
  {
   "cell_type": "markdown",
   "id": "3b338f34",
   "metadata": {},
   "source": [
    "```{admonition} 练一练\n",
    "split()函数从功能上更类似于concatenate()的逆操作还是stack()的逆操作？请说明理由。\n",
    "```\n",
    "\n",
    "split()函数更类似于concatenate()的逆操作，首先stack必须由多个尺寸相同的数组来拼接，新产生的维度大小取决于拼接数组的数量，而concatenate的被拼接数组在拼接维度上可以不一致且不会产生新维度。下面的例子更清楚地反映了这组互逆操作的特性："
   ]
  },
  {
   "cell_type": "code",
   "execution_count": 10,
   "id": "3f981199",
   "metadata": {},
   "outputs": [],
   "source": [
    "arr = np.random.rand(10, 20, 30)\n",
    "arr_new = np.concatenate(np.split(arr, indices_or_sections=5, axis=1), axis=1)"
   ]
  },
  {
   "cell_type": "code",
   "execution_count": 11,
   "id": "ec4f0736",
   "metadata": {},
   "outputs": [
    {
     "data": {
      "text/plain": [
       "True"
      ]
     },
     "execution_count": 11,
     "metadata": {},
     "output_type": "execute_result"
    }
   ],
   "source": [
    "(arr == arr_new).all()"
   ]
  },
  {
   "cell_type": "markdown",
   "id": "cdc2c862",
   "metadata": {},
   "source": [
    "```{admonition} 练一练\n",
    "请使用repeat函数分别构造两个$10\\times 10$的数组，第一个数组要求第i行的元素值都为i，第二个数组要求第i列的元素值都为i。\n",
    "```"
   ]
  },
  {
   "cell_type": "code",
   "execution_count": 12,
   "id": "a4107a2f",
   "metadata": {},
   "outputs": [],
   "source": [
    "arr = np.arange(1, 11)"
   ]
  },
  {
   "cell_type": "code",
   "execution_count": 13,
   "id": "e25124bd",
   "metadata": {},
   "outputs": [],
   "source": [
    "rep_1 = np.repeat(arr[:, None], 10, -1)"
   ]
  },
  {
   "cell_type": "code",
   "execution_count": 14,
   "id": "add4d97d",
   "metadata": {},
   "outputs": [],
   "source": [
    "rep_2 = np.repeat(arr[None, :], 10, 0)"
   ]
  },
  {
   "cell_type": "markdown",
   "id": "442c5b2c",
   "metadata": {},
   "source": [
    "```{admonition} 练一练\n",
    "与Python中字符串的切片类似，numpy数组切片的首末端点以及步长都可以是负数，例如arr是一个大小为$10\\times 5$的数组，那么arr[-2:-10:-3, 1:-1:2]切片结果的大小为$3\\times 2$。请给出一些相应的例子，并观察结果是否与预期一致。\n",
    "```"
   ]
  },
  {
   "cell_type": "code",
   "execution_count": 15,
   "id": "ce27c780",
   "metadata": {},
   "outputs": [],
   "source": [
    "arr = np.random.rand(10, 5)"
   ]
  },
  {
   "cell_type": "code",
   "execution_count": 16,
   "id": "13af5c44",
   "metadata": {},
   "outputs": [
    {
     "data": {
      "text/plain": [
       "array([[0.33520861, 0.94048966],\n",
       "       [0.47515341, 0.59493803],\n",
       "       [0.96884078, 0.86038504]])"
      ]
     },
     "execution_count": 16,
     "metadata": {},
     "output_type": "execute_result"
    }
   ],
   "source": [
    "arr[-2:-10:-3, 1:-1:2]"
   ]
  },
  {
   "cell_type": "markdown",
   "id": "b09e0d4e",
   "metadata": {},
   "source": [
    "-2:-10:-3表示从倒数第2行开始切片，逆向地每3个取一次，直到倒数第10行且不包含倒数第10行，因此即为倒数第8行、倒数第5行和倒数第2行共计三行。列上的切片类似，从第一列开始切片，每两列取一次，直到倒数第一列且不包含倒数第一列，因此即为第2列、第4列共计两列。\n",
    "\n",
    "```{admonition} 练一练\n",
    "对于如下的数组维度组合，判断使用逐元素运算是否会报错，如果不会请直接写出广播结果的维度：\n",
    "- $1\\times 3\\times 5$和$3\\times 1$\n",
    "- $3\\times 5\\times 3\\times 4$和$1\\times 3\\times 1$\n",
    "- $3\\times 2\\times 1\\times 5$和$2\\times 5$\n",
    "```\n",
    "\n",
    "- $1\\times 3\\times 5$\n",
    "- $3\\times 5\\times 3\\times 4$\n",
    "- $3\\times 2\\times 2\\times 5$\n",
    "\n",
    "```{admonition} 练一练\n",
    "对于上述price维度的修改，除了使用np.newaxis之外，还可以使用reshape()和expand_dims()来实现，请分别使用这两种方法完成等价操作。\n",
    "```"
   ]
  },
  {
   "cell_type": "code",
   "execution_count": 17,
   "id": "3ab09190",
   "metadata": {},
   "outputs": [],
   "source": [
    "price = np.array([25,20,30]) # 假设给定的单价是25、20和30"
   ]
  },
  {
   "cell_type": "code",
   "execution_count": 18,
   "id": "7023f46d",
   "metadata": {},
   "outputs": [
    {
     "data": {
      "text/plain": [
       "array([[25],\n",
       "       [20],\n",
       "       [30]])"
      ]
     },
     "execution_count": 18,
     "metadata": {},
     "output_type": "execute_result"
    }
   ],
   "source": [
    "price[:, None] # newaxis即None"
   ]
  },
  {
   "cell_type": "code",
   "execution_count": 19,
   "id": "033cf7dc",
   "metadata": {},
   "outputs": [
    {
     "data": {
      "text/plain": [
       "array([[25],\n",
       "       [20],\n",
       "       [30]])"
      ]
     },
     "execution_count": 19,
     "metadata": {},
     "output_type": "execute_result"
    }
   ],
   "source": [
    "price.reshape(-1, 1)"
   ]
  },
  {
   "cell_type": "code",
   "execution_count": 20,
   "id": "abb4b55c",
   "metadata": {},
   "outputs": [
    {
     "data": {
      "text/plain": [
       "array([[25],\n",
       "       [20],\n",
       "       [30]])"
      ]
     },
     "execution_count": 20,
     "metadata": {},
     "output_type": "execute_result"
    }
   ],
   "source": [
    "np.expand_dims(price, -1)"
   ]
  },
  {
   "cell_type": "markdown",
   "id": "4a16c9b1",
   "metadata": {},
   "source": [
    "```{admonition} 练一练\n",
    "仿照上面的例子，给出按年级统计学生总人数的方案，即返回数组的包含3个元素，分别为各年级中所有学校和班级的学生人数之和。\n",
    "```"
   ]
  },
  {
   "cell_type": "code",
   "execution_count": 21,
   "id": "3f2070b1",
   "metadata": {},
   "outputs": [
    {
     "data": {
      "text/plain": [
       "(3,)"
      ]
     },
     "execution_count": 21,
     "metadata": {},
     "output_type": "execute_result"
    }
   ],
   "source": [
    "my_matrix = np.random.randint(20, 40, 24).reshape(2, 3, 4)\n",
    "my_matrix.sum((0, 2)).shape"
   ]
  },
  {
   "cell_type": "markdown",
   "id": "1d3d7e2b",
   "metadata": {},
   "source": [
    "```{admonition} 练一练\n",
    "Softmax函数在深度学习的模型设计中有重要应用，对于1维数组$[x_1,...,x_n]$进行Softmax归一化时，每一个元素被修正为$\\tilde{x}_i={\\rm Softmax(x_i)}=\\frac{\\exp(x_i)}{\\sum_{i=1}^n\\exp(x_i)}$。现给定一个二维数组，请对其进行逐行Softmax归一化，且不得使用for循环。\n",
    "```"
   ]
  },
  {
   "cell_type": "code",
   "execution_count": 22,
   "id": "fee82998",
   "metadata": {},
   "outputs": [
    {
     "data": {
      "text/plain": [
       "array([[0.31713733, 0.20600401, 0.1951198 , 0.28173886],\n",
       "       [0.29176637, 0.16834142, 0.17212601, 0.3677662 ],\n",
       "       [0.2104158 , 0.15940809, 0.34149792, 0.28867819],\n",
       "       [0.26203081, 0.20632176, 0.18959128, 0.34205615]])"
      ]
     },
     "execution_count": 22,
     "metadata": {},
     "output_type": "execute_result"
    }
   ],
   "source": [
    "arr = np.random.rand(4, 4)\n",
    "exp_arr = np.exp(arr)\n",
    "res = exp_arr / exp_arr.sum(1)[:, None]\n",
    "res"
   ]
  },
  {
   "cell_type": "markdown",
   "id": "069520fd",
   "metadata": {},
   "source": [
    "```{admonition} 练一练\n",
    "阅读逻辑函数的相关内容，完成下列练习：\n",
    "- 逻辑运算符的优先顺序是怎样的？其左右的数组能够被广播吗？请构造例子说明。\n",
    "- 给定一个维度为$m\\times n$的整数数组，请返回一个元素全为0或1的同维度数组，且满足元素取1当且仅当该位置在原数组中的对应元素是原数组中同行元素的最大值。\n",
    "```\n",
    "\n",
    "- 优先级从高到低：not(\"~\")、and(\"&\")、or(“|”)，可以广播"
   ]
  },
  {
   "cell_type": "code",
   "execution_count": 23,
   "id": "e225c85d",
   "metadata": {},
   "outputs": [],
   "source": [
    "a = np.array([True])\n",
    "b = np.array([False])"
   ]
  },
  {
   "cell_type": "code",
   "execution_count": 24,
   "id": "500c5c84",
   "metadata": {},
   "outputs": [
    {
     "data": {
      "text/plain": [
       "array([ True])"
      ]
     },
     "execution_count": 24,
     "metadata": {},
     "output_type": "execute_result"
    }
   ],
   "source": [
    "~a | a # 说明not优先级高于or"
   ]
  },
  {
   "cell_type": "code",
   "execution_count": 25,
   "id": "9bcdac7f",
   "metadata": {},
   "outputs": [
    {
     "data": {
      "text/plain": [
       "array([False])"
      ]
     },
     "execution_count": 25,
     "metadata": {},
     "output_type": "execute_result"
    }
   ],
   "source": [
    "~b & b # 说明not优先级高于and"
   ]
  },
  {
   "cell_type": "code",
   "execution_count": 26,
   "id": "e9f968da",
   "metadata": {},
   "outputs": [
    {
     "data": {
      "text/plain": [
       "array([ True])"
      ]
     },
     "execution_count": 26,
     "metadata": {},
     "output_type": "execute_result"
    }
   ],
   "source": [
    "a | b & b # 说明and优先级高于or"
   ]
  },
  {
   "cell_type": "code",
   "execution_count": 27,
   "id": "7c788559",
   "metadata": {},
   "outputs": [
    {
     "data": {
      "text/plain": [
       "array([[ True,  True],\n",
       "       [ True, False]])"
      ]
     },
     "execution_count": 27,
     "metadata": {},
     "output_type": "execute_result"
    }
   ],
   "source": [
    "a = np.array([True, False])\n",
    "b = np.array([True, False])\n",
    "a | b[:, None] # 广播"
   ]
  },
  {
   "cell_type": "markdown",
   "id": "5b3f9e99",
   "metadata": {},
   "source": [
    "- 方案如下"
   ]
  },
  {
   "cell_type": "code",
   "execution_count": 28,
   "id": "5ebc57ad",
   "metadata": {},
   "outputs": [],
   "source": [
    "a = np.random.randint(0, 100, (5, 5))"
   ]
  },
  {
   "cell_type": "code",
   "execution_count": 29,
   "id": "8a1b3fb0",
   "metadata": {},
   "outputs": [
    {
     "data": {
      "text/plain": [
       "array([[0, 0, 1, 0, 0],\n",
       "       [0, 0, 1, 0, 0],\n",
       "       [0, 0, 0, 0, 1],\n",
       "       [0, 0, 0, 0, 1],\n",
       "       [0, 0, 1, 0, 0]])"
      ]
     },
     "execution_count": 29,
     "metadata": {},
     "output_type": "execute_result"
    }
   ],
   "source": [
    "np.where(a == a.max(1)[:, None], 1, 0)"
   ]
  },
  {
   "cell_type": "markdown",
   "id": "b3023fe4",
   "metadata": {},
   "source": [
    "```{admonition} 练一练\n",
    "利用round函数将上例中的随机矩阵按第1位小数四舍五入取整，依次筛选出矩阵中满足如下条件的行：\n",
    "- 行元素至多有一个1\n",
    "- 行元素至少有一个0\n",
    "- 行元素既非全0又非全1\n",
    "```"
   ]
  },
  {
   "cell_type": "code",
   "execution_count": 30,
   "id": "2c5256bf",
   "metadata": {},
   "outputs": [],
   "source": [
    "my_array = np.random.rand(1000, 3)\n",
    "arr = my_array.round()\n",
    "arr_1 = arr[arr.sum(1) <= 1]\n",
    "arr_2 = arr[~arr.all(1)]\n",
    "arr_3 = arr[~arr.all(1) & ~(1-arr).all(1)]"
   ]
  },
  {
   "cell_type": "markdown",
   "id": "f5c3f5e2",
   "metadata": {},
   "source": [
    "```{admonition} 练一练\n",
    "np.clip(array, min, max)是一种截断函数，对于数组中超过max的值会被截断为max，数组中不足min的值会被截断为min。请用np.where()实现这个函数。\n",
    "```"
   ]
  },
  {
   "cell_type": "code",
   "execution_count": 31,
   "id": "591c178b",
   "metadata": {},
   "outputs": [],
   "source": [
    "arr = np.array([1, 2, 3, 4, 5])"
   ]
  },
  {
   "cell_type": "code",
   "execution_count": 32,
   "id": "887c4d32",
   "metadata": {},
   "outputs": [
    {
     "data": {
      "text/plain": [
       "array([2, 2, 3, 4, 4])"
      ]
     },
     "execution_count": 32,
     "metadata": {},
     "output_type": "execute_result"
    }
   ],
   "source": [
    "np.clip(arr, 2, 4)"
   ]
  },
  {
   "cell_type": "code",
   "execution_count": 33,
   "id": "d8b56e1f",
   "metadata": {},
   "outputs": [
    {
     "data": {
      "text/plain": [
       "array([2, 2, 3, 4, 4])"
      ]
     },
     "execution_count": 33,
     "metadata": {},
     "output_type": "execute_result"
    }
   ],
   "source": [
    "res = np.where(arr<=4, arr, 4)\n",
    "res = np.where(arr>=2, res, 2)\n",
    "res"
   ]
  },
  {
   "cell_type": "markdown",
   "id": "8f01360c",
   "metadata": {},
   "source": [
    "```{admonition} 练一练\n",
    "在上面这个例子中，nonzero()的输入a是1维数组，通过a[np.nonzero(a)]能够取出数组中所有的非零元素值。事实上，nonzero()函数也能够以高维数组作为参数传入，此时其返回值代表了什么含义？a[np.nonzero(a)]仍然能够选出数组中所有的非零元素值吗？请解释理由。\n",
    "```\n",
    "\n",
    "通过查阅文档可知，返回值分别代表了所有非零元素在每一个维度上对应的索引，在1.2.3中我们曾给出了一个通过在相应位置传入同长度列表来索引对应位置元素的例子（见“target[[0, 1], [0, 1], [0, 1]]”），这里的做法是完全一致的："
   ]
  },
  {
   "cell_type": "code",
   "execution_count": 34,
   "id": "f2e8c68b",
   "metadata": {},
   "outputs": [
    {
     "data": {
      "text/plain": [
       "array([1, 2])"
      ]
     },
     "execution_count": 34,
     "metadata": {},
     "output_type": "execute_result"
    }
   ],
   "source": [
    "a = np.array([[0,1],[0,2]])\n",
    "# x为所有非零元素在dim=0上的索引，y为所有元素在dim=1上的索引\n",
    "x, y = np.nonzero(a)\n",
    "a[x, y]"
   ]
  },
  {
   "cell_type": "markdown",
   "id": "ceeee2d2",
   "metadata": {},
   "source": [
    "## 一、利用列表推导式实现矩阵乘法\n",
    "\n",
    "记矩阵$A_{m\\times n}$，矩阵$B_{n\\times p}$，记$A$与$B$的矩阵乘法结果为矩阵$C_{m\\times p}$，此时其第$i$行第$j$列的元素满足\n",
    "\n",
    "$$\n",
    "C_{ij}=\\sum_{k=1}^nA_{ik}B_{kj}\n",
    "$$\n",
    "\n",
    "在numpy中可以使用“@”符号来进行矩阵乘法："
   ]
  },
  {
   "cell_type": "code",
   "execution_count": 35,
   "id": "35026f8d",
   "metadata": {},
   "outputs": [
    {
     "data": {
      "text/plain": [
       "array([[10, 13],\n",
       "       [28, 40]])"
      ]
     },
     "execution_count": 35,
     "metadata": {},
     "output_type": "execute_result"
    }
   ],
   "source": [
    "A = np.arange(6).reshape(2, -1)\n",
    "B = np.arange(6).reshape(3, -1)\n",
    "A @ B"
   ]
  },
  {
   "cell_type": "markdown",
   "id": "935c4b20",
   "metadata": {},
   "source": [
    "请利用列表推导式来实现矩阵乘法。\n",
    "\n",
    "```text\n",
    "【解答】\n",
    "```"
   ]
  },
  {
   "cell_type": "code",
   "execution_count": 36,
   "id": "e661d4cf",
   "metadata": {},
   "outputs": [
    {
     "data": {
      "text/plain": [
       "[[10, 13], [28, 40]]"
      ]
     },
     "execution_count": 36,
     "metadata": {},
     "output_type": "execute_result"
    }
   ],
   "source": [
    "res = [\n",
    "    [\n",
    "        sum(\n",
    "                A[i][k] * B[k][j]\n",
    "                for k in range(A.shape[1])\n",
    "        )\n",
    "        for j in range(B.shape[1])\n",
    "    ] for i in range(A.shape[0])\n",
    "]\n",
    "res"
   ]
  },
  {
   "cell_type": "markdown",
   "id": "48609ab7",
   "metadata": {},
   "source": [
    "## 二、计算卡方统计量\n",
    "\n",
    "设矩阵$A_{m\\times n}$，记$B_{ij} = \\frac{(\\sum_{i=1}^mA_{ij})\\times (\\sum_{j=1}^nA_{ij})}{\\sum_{i=1}^m\\sum_{j=1}^nA_{ij}}$，定义矩阵$A$对应的卡方统计量如下\n",
    "\n",
    "$$\n",
    "\\chi^2 = \\sum_{i=1}^m\\sum_{j=1}^n\\frac{(A_{ij}-B_{ij})^2}{B_{ij}}\n",
    "$$\n",
    "\n",
    "\n",
    "请利用numpy对如下构造的矩阵$A$计算相应的卡方统计量$\\chi^2$。"
   ]
  },
  {
   "cell_type": "code",
   "execution_count": 37,
   "id": "b97c3d30",
   "metadata": {},
   "outputs": [],
   "source": [
    "np.random.seed(0)\n",
    "A = np.random.randint(10, 20, (8, 5))"
   ]
  },
  {
   "cell_type": "markdown",
   "id": "86773c50",
   "metadata": {},
   "source": [
    "```text\n",
    "【解答】\n",
    "```"
   ]
  },
  {
   "cell_type": "code",
   "execution_count": 38,
   "id": "469ebaf8",
   "metadata": {},
   "outputs": [
    {
     "data": {
      "text/plain": [
       "11.842696601945802"
      ]
     },
     "execution_count": 38,
     "metadata": {},
     "output_type": "execute_result"
    }
   ],
   "source": [
    "B = A.sum(0) * A.sum(1)[:, None] / A.sum()\n",
    "res = ((A - B) ** 2 / B).sum()\n",
    "res"
   ]
  },
  {
   "cell_type": "markdown",
   "id": "0725f3e7",
   "metadata": {},
   "source": [
    "## 三、统计某商店的月度销量情况\n",
    "\n",
    "在文件夹data/ch1/shop_sales下存放了200类货品从2001年1月至2020年12月的月度销量数组，每个数组的大小为$Y\\times M$，其中$Y=20$表示年维度，$M=12$表示月维度。"
   ]
  },
  {
   "cell_type": "code",
   "execution_count": 39,
   "id": "032d9d70",
   "metadata": {},
   "outputs": [
    {
     "data": {
      "text/plain": [
       "(20, 12)"
      ]
     },
     "execution_count": 39,
     "metadata": {},
     "output_type": "execute_result"
    }
   ],
   "source": [
    "# 使用np.load能够加载npy数组\n",
    "# 使用np.save(\"文件路径/my_arr.npy\")能够将数组保存到本地\n",
    "arr = np.load(\"data/ch1/shop_sales/product_1.npy\")\n",
    "arr.shape"
   ]
  },
  {
   "cell_type": "markdown",
   "id": "d18a9136",
   "metadata": {},
   "source": [
    "- 计算各季度（从1月至12月，每3个月表示一个季度）的销售总量，输出结果为$Y\\times Q$的数组，其中$Q=4$表示季度维度。\n",
    "- 计算各月不同种类货品销量的方差，输出结果为$Y\\times M$的数组。\n",
    "- 在文件data/ch1/increase_rate.npy中记录了各类货品每月关于上月的单价涨幅，数组大小为$200\\times 20*12$，其中$20*12$表示20年且每年12个月，共计240个月。在文件data/ch1/unit_price.npy中记录了各类货品在2015年1月的单价，数组长度为$200$。请计算所有货品从2001年1月至2020年12月的单价，输出结果为$Y\\times M\\times 200$。\n",
    "- 结合上一小问的结果，求出各类货品最大月度销售额的所在月份，输出结果为长度为$200$的1维数组，其中每个元素为相应月份的字符串表示，例如“2008-05”。\n",
    "\n",
    "```text\n",
    "【解答】\n",
    "```\n",
    "\n",
    "- 1"
   ]
  },
  {
   "cell_type": "code",
   "execution_count": 40,
   "id": "26ebe778",
   "metadata": {},
   "outputs": [],
   "source": [
    "path = \"data/ch1/shop_sales/product_%d.npy\"\n",
    "arr = np.stack([np.load(path%i) for i in range(1, 201)], axis=0)\n",
    "res_1 = arr.reshape(200, 20, 4, -1).sum((0, -1))"
   ]
  },
  {
   "cell_type": "markdown",
   "id": "e3ef443c",
   "metadata": {},
   "source": [
    "- 2"
   ]
  },
  {
   "cell_type": "code",
   "execution_count": 41,
   "id": "cefd7fdc",
   "metadata": {},
   "outputs": [
    {
     "data": {
      "text/plain": [
       "(20, 12)"
      ]
     },
     "execution_count": 41,
     "metadata": {},
     "output_type": "execute_result"
    }
   ],
   "source": [
    "res_2 = arr.var(0)\n",
    "res_2.shape"
   ]
  },
  {
   "cell_type": "markdown",
   "id": "aa41a343",
   "metadata": {},
   "source": [
    "- 3"
   ]
  },
  {
   "cell_type": "code",
   "execution_count": 42,
   "id": "2cd222d7",
   "metadata": {},
   "outputs": [
    {
     "data": {
      "text/plain": [
       "(20, 12, 200)"
      ]
     },
     "execution_count": 42,
     "metadata": {},
     "output_type": "execute_result"
    }
   ],
   "source": [
    "rate = np.load(\"data/ch1/increase_rate.npy\")\n",
    "base = np.load(\"data/ch1/unit_price.npy\")\n",
    "price = np.empty((200, 20*12))\n",
    "n = 14 * 12 # 2015年对应的索引位置\n",
    "price[:, n] = base\n",
    "price[:, n+1:] = (rate[:, n+1:] + 1).cumprod(-1) * base[:, None]\n",
    "price[:, :n] = 1/(rate[:, 1:n+1] + 1)[:, ::-1].cumprod(-1)[:, ::-1] * base[:, None]\n",
    "price = price.reshape(200, 20, 12).transpose(1, 2, 0)\n",
    "price.shape"
   ]
  },
  {
   "cell_type": "markdown",
   "id": "b93875b4",
   "metadata": {},
   "source": [
    "- 4"
   ]
  },
  {
   "cell_type": "code",
   "execution_count": 43,
   "id": "4cdeac18",
   "metadata": {},
   "outputs": [
    {
     "data": {
      "text/plain": [
       "['2018-12', '2003-11', '2020-11', '2006-11', '2003-01']"
      ]
     },
     "execution_count": 43,
     "metadata": {},
     "output_type": "execute_result"
    }
   ],
   "source": [
    "idx = (arr.transpose(1, 2, 0) * price).reshape(-1, 200).argmax(0)\n",
    "year, month = idx // 12 + 2001, idx % 12 + 1\n",
    "L = [\"%d-%02d\"%(y, m) for y, m in zip(year, month)]\n",
    "L[:5] # 展示前5个"
   ]
  }
 ],
 "metadata": {
  "jupytext": {
   "text_representation": {
    "format_name": "myst"
   }
  },
  "kernelspec": {
   "display_name": "Python 3",
   "name": "python3"
  },
  "language_info": {
   "codemirror_mode": {
    "name": "ipython",
    "version": 3
   },
   "file_extension": ".py",
   "mimetype": "text/x-python",
   "name": "python",
   "nbconvert_exporter": "python",
   "pygments_lexer": "ipython3",
   "version": "3.8.12"
  },
  "source_map": [
   10,
   19,
   29,
   33,
   36,
   42,
   51,
   53,
   59,
   63,
   65,
   71,
   75,
   78,
   86,
   91,
   93,
   99,
   103,
   107,
   109,
   115,
   119,
   121,
   140,
   144,
   148,
   152,
   154,
   160,
   163,
   169,
   174,
   184,
   189,
   193,
   197,
   201,
   205,
   209,
   213,
   215,
   224,
   230,
   236,
   240,
   244,
   248,
   256,
   261,
   273,
   277,
   285,
   296,
   309,
   312,
   318,
   322,
   328,
   333,
   346,
   350,
   354,
   357,
   361,
   371,
   375
  ]
 },
 "nbformat": 4,
 "nbformat_minor": 5
}