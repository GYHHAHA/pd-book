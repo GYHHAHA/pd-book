{
 "cells": [
  {
   "cell_type": "code",
   "execution_count": 1,
   "id": "1434de18",
   "metadata": {
    "tags": [
     "remove_input"
    ]
   },
   "outputs": [],
   "source": [
    "import numpy as np\n",
    "import pandas as pd\n",
    "import matplotlib.pyplot as plt\n",
    "np.random.seed(0)\n",
    "plt.rcParams['font.sans-serif'] = ['SimHei']\n",
    "plt.rcParams['axes.unicode_minus'] = False\n",
    "np.set_printoptions(suppress = True)"
   ]
  },
  {
   "cell_type": "markdown",
   "id": "e06ea5a1",
   "metadata": {},
   "source": [
    "# 第十二章\n",
    "\n",
    "## 零、练一练\n",
    "\n",
    "```{admonition} 练一练\n",
    "在阅读归一化方法的内容后，思考以下问题：\n",
    "- 上述案例中只在单侧添加了极端值，对于双侧都含有极端值的分布如何将其合理变换至$[0,1]$区间？\n",
    "- 如何修改上文归一至$[−1,1]$区间的方法，使其归一化不易受极端值影响？\n",
    "```\n",
    "\n",
    "- 1"
   ]
  },
  {
   "cell_type": "code",
   "execution_count": 2,
   "id": "392d8053",
   "metadata": {},
   "outputs": [
    {
     "data": {
      "image/png": "[encoded data removed]",
      "text/plain": [
       "<Figure size 432x288 with 1 Axes>"
      ]
     },
     "metadata": {
      "filenames": {
       "image/png": "C:\\Users\\gyh\\Desktop\\项目\\【图书出版】pandas\\pd-book\\docs\\jupyter_execute\\solution12_2_0.png"
      },
      "needs_background": "light"
     },
     "output_type": "display_data"
    }
   ],
   "source": [
    "s = pd.Series([-10] + list(np.random.rand(1000)) + [10])\n",
    "_ = plt.boxplot(s)"
   ]
  },
  {
   "cell_type": "code",
   "execution_count": 3,
   "id": "190e44bc",
   "metadata": {},
   "outputs": [
    {
     "data": {
      "image/png": "[encoded data removed]",
      "text/plain": [
       "<Figure size 432x288 with 1 Axes>"
      ]
     },
     "metadata": {
      "filenames": {
       "image/png": "C:\\Users\\gyh\\Desktop\\项目\\【图书出版】pandas\\pd-book\\docs\\jupyter_execute\\solution12_3_0.png"
      },
      "needs_background": "light"
     },
     "output_type": "display_data"
    }
   ],
   "source": [
    "s_fix = s.clip((-s).nlargest(2).iloc[1], s.nlargest(2).iloc[1])\n",
    "_ = plt.boxplot(s_fix)"
   ]
  },
  {
   "cell_type": "code",
   "execution_count": 4,
   "id": "dce3d0a4",
   "metadata": {},
   "outputs": [
    {
     "data": {
      "image/png": "[encoded data removed]",
      "text/plain": [
       "<Figure size 432x288 with 1 Axes>"
      ]
     },
     "metadata": {
      "filenames": {
       "image/png": "C:\\Users\\gyh\\Desktop\\项目\\【图书出版】pandas\\pd-book\\docs\\jupyter_execute\\solution12_4_0.png"
      },
      "needs_background": "light"
     },
     "output_type": "display_data"
    }
   ],
   "source": [
    "# 还可以通过异常检测来做，预测为异常的离群点进行剔除\n",
    "from sklearn.neighbors import LocalOutlierFactor\n",
    "clf = LocalOutlierFactor(n_neighbors=10)\n",
    "label = clf.fit_predict(s.values[:, None])\n",
    "s_fix2 = s[label==1]\n",
    "_ = plt.boxplot(s_fix2)"
   ]
  },
  {
   "cell_type": "markdown",
   "id": "dab84f27",
   "metadata": {},
   "source": [
    "- 2"
   ]
  },
  {
   "cell_type": "code",
   "execution_count": 5,
   "id": "ed2f5cf1",
   "metadata": {},
   "outputs": [
    {
     "data": {
      "image/png": "[encoded data removed]",
      "text/plain": [
       "<Figure size 432x288 with 1 Axes>"
      ]
     },
     "metadata": {
      "filenames": {
       "image/png": "C:\\Users\\gyh\\Desktop\\项目\\【图书出版】pandas\\pd-book\\docs\\jupyter_execute\\solution12_6_0.png"
      },
      "needs_background": "light"
     },
     "output_type": "display_data"
    }
   ],
   "source": [
    "# 直接用上面的去除异常后再操作\n",
    "new_data = s_fix - s_fix.mean()\n",
    "new_data = new_data / new_data.abs().max()\n",
    "_ = plt.boxplot(new_data)"
   ]
  },
  {
   "cell_type": "markdown",
   "id": "8e2bdceb",
   "metadata": {},
   "source": [
    "```{admonition} 练一练\n",
    "阅读上述关于上凸变换的内容，完成以下任务：\n",
    "- 请模仿图12.5对土地面积进行类似绘制。\n",
    "- 当对数变换的底数变化时，新数据的偏度会变化吗？为什么？\n",
    "- 请构造1个上凸变换并将其应用于人口的特征列使其偏度尽可能接近0。\n",
    "- 在自变量$x$非负时，幂变换$x\\rightarrow x^\\lambda$在$\\lambda$取何值为下凸变换（二阶导数恒大于0）？它一定是关于自变量的单调递增变换吗？\n",
    "- 鉴于上凸变换能够将右偏分布的偏度减小，那么也就不难想到下凸变换能够提高左偏分布的偏度，请构造1个相应的例子来说明。（偏态分布可以选择从scipy.stats.skewnorm.rvs中生成）\n",
    "```\n",
    "\n",
    "- 1\n",
    "\n",
    "```python\n",
    "df = pd.read_csv(\"data/ch12/area-pop.csv\")\n",
    "my_lambda = np.linspace(1e-4, 1e0, 100)\n",
    "skew = [(df.LandArea ** i).skew() for i in my_lambda]\n",
    "plt.plot(my_lambda, skew)\n",
    "plt.xscale(\"log\")\n",
    "plt.xlabel(\"$\\lambda$\")\n",
    "plt.ylabel(\"Skewness of Land Area\")\n",
    "```\n",
    "\n",
    "- 2\n",
    "\n",
    "由于对随机变量进行数乘不会改变偏度（参见偏度公式易得），且$Skew[\\log_a(X)] = Skew[\\frac{\\log_b(X)}{\\log_b(a)}]=Skew[\\log_b(X)]$，因此不变。\n",
    "\n",
    "- 3\n",
    "\n",
    "观察到$\\lambda$与偏度是单调关系，因此考虑使用二分法："
   ]
  },
  {
   "cell_type": "code",
   "execution_count": 6,
   "id": "7c0608b5",
   "metadata": {},
   "outputs": [
    {
     "data": {
      "text/plain": [
       "0.42813584913391733"
      ]
     },
     "execution_count": 6,
     "metadata": {},
     "output_type": "execute_result"
    }
   ],
   "source": [
    "df = pd.read_csv(\"data/ch12/area-pop.csv\")\n",
    "left, right = 0.1, 1\n",
    "while right - left > 1e-15:\n",
    "    mid = (left + right) / 2\n",
    "    mid_skew = (df.Population ** mid).skew()\n",
    "    if mid_skew > 0:\n",
    "        right = mid\n",
    "    else:\n",
    "        left = mid\n",
    "mid"
   ]
  },
  {
   "cell_type": "markdown",
   "id": "0f382685",
   "metadata": {},
   "source": [
    "因此可取$x\\rightarrow x^{0.428}$\n",
    "\n",
    "- 4\n",
    "\n",
    "当$\\lambda\\in (-\\infty, 0)\\cup(1,\\infty)$时为下凸变换，且当取大于1的部分时关于自变量单调递增。\n",
    "\n",
    "- 5"
   ]
  },
  {
   "cell_type": "code",
   "execution_count": 7,
   "id": "ca31df77",
   "metadata": {},
   "outputs": [
    {
     "data": {
      "image/png": "[encoded data removed]",
      "text/plain": [
       "<Figure size 432x288 with 1 Axes>"
      ]
     },
     "metadata": {
      "filenames": {
       "image/png": "C:\\Users\\gyh\\Desktop\\项目\\【图书出版】pandas\\pd-book\\docs\\jupyter_execute\\solution12_10_0.png"
      },
      "needs_background": "light"
     },
     "output_type": "display_data"
    }
   ],
   "source": [
    "from scipy.stats import skewnorm\n",
    "arr = skewnorm.rvs(-10, size=10000)\n",
    "_ = plt.hist(arr, bins=20)"
   ]
  },
  {
   "cell_type": "code",
   "execution_count": 8,
   "id": "fc4d5d7a",
   "metadata": {},
   "outputs": [
    {
     "data": {
      "image/png": "[encoded data removed]",
      "text/plain": [
       "<Figure size 432x288 with 1 Axes>"
      ]
     },
     "metadata": {
      "filenames": {
       "image/png": "C:\\Users\\gyh\\Desktop\\项目\\【图书出版】pandas\\pd-book\\docs\\jupyter_execute\\solution12_11_0.png"
      },
      "needs_background": "light"
     },
     "output_type": "display_data"
    }
   ],
   "source": [
    "from scipy.stats import skewnorm\n",
    "arr_transformed = np.exp(arr)\n",
    "_ = plt.hist(arr_transformed, bins=20)"
   ]
  },
  {
   "cell_type": "code",
   "execution_count": 9,
   "id": "bf63a9d5",
   "metadata": {},
   "outputs": [
    {
     "data": {
      "text/plain": [
       "(-0.9270804770609488, 0.20833973262593455)"
      ]
     },
     "execution_count": 9,
     "metadata": {},
     "output_type": "execute_result"
    }
   ],
   "source": [
    "pd.Series(arr).skew(), pd.Series(arr_transformed).skew()"
   ]
  },
  {
   "cell_type": "markdown",
   "id": "a1babaad",
   "metadata": {},
   "source": [
    "```{admonition} 练一练\n",
    "scipy中的stats模块封装了许多与分布有关的生成函数，通过from scipy import stats导入后，对于不同的c值，stats.loggamma.rvs(c, size=500)能够产生不同偏态的对数伽马分布。请利用这个函数构造一些实数区间上的偏态分布，分别使用Box-Cox方法和Yeo-Johnson方法（处理含负值的数据）来进行数据变换，并观察变换前后的数据分布变化情况以及偏度变化。\n",
    "```"
   ]
  },
  {
   "cell_type": "code",
   "execution_count": 10,
   "id": "7f1ea4de",
   "metadata": {},
   "outputs": [
    {
     "data": {
      "text/plain": [
       "1.3973251898008774"
      ]
     },
     "execution_count": 10,
     "metadata": {},
     "output_type": "execute_result"
    },
    {
     "data": {
      "image/png": "[encoded data removed]",
      "text/plain": [
       "<Figure size 432x288 with 1 Axes>"
      ]
     },
     "metadata": {
      "filenames": {
       "image/png": "C:\\Users\\gyh\\Desktop\\项目\\【图书出版】pandas\\pd-book\\docs\\jupyter_execute\\solution12_14_1.png"
      },
      "needs_background": "light"
     },
     "output_type": "display_data"
    }
   ],
   "source": [
    "from scipy.stats import loggamma\n",
    "arr = np.abs(-loggamma.rvs(0.2, size=500))\n",
    "_ = plt.hist(arr)\n",
    "pd.Series(arr).skew()"
   ]
  },
  {
   "cell_type": "code",
   "execution_count": 11,
   "id": "390848b7",
   "metadata": {},
   "outputs": [
    {
     "data": {
      "text/plain": [
       "-0.05967809812317035"
      ]
     },
     "execution_count": 11,
     "metadata": {},
     "output_type": "execute_result"
    },
    {
     "data": {
      "image/png": "[encoded data removed]",
      "text/plain": [
       "<Figure size 432x288 with 1 Axes>"
      ]
     },
     "metadata": {
      "filenames": {
       "image/png": "C:\\Users\\gyh\\Desktop\\项目\\【图书出版】pandas\\pd-book\\docs\\jupyter_execute\\solution12_15_1.png"
      },
      "needs_background": "light"
     },
     "output_type": "display_data"
    }
   ],
   "source": [
    "from scipy.stats import boxcox\n",
    "arr_boxcox, Lambda = boxcox(arr)\n",
    "_ = plt.hist(arr_boxcox)\n",
    "pd.Series(arr_boxcox).skew()"
   ]
  },
  {
   "cell_type": "code",
   "execution_count": 12,
   "id": "bc3b287b",
   "metadata": {},
   "outputs": [
    {
     "data": {
      "text/plain": [
       "-0.008792036144633997"
      ]
     },
     "execution_count": 12,
     "metadata": {},
     "output_type": "execute_result"
    },
    {
     "data": {
      "image/png": "[encoded data removed]",
      "text/plain": [
       "<Figure size 432x288 with 1 Axes>"
      ]
     },
     "metadata": {
      "filenames": {
       "image/png": "C:\\Users\\gyh\\Desktop\\项目\\【图书出版】pandas\\pd-book\\docs\\jupyter_execute\\solution12_16_1.png"
      },
      "needs_background": "light"
     },
     "output_type": "display_data"
    }
   ],
   "source": [
    "from scipy.stats import yeojohnson\n",
    "arr_yeojohnson, Lambda = yeojohnson(arr)\n",
    "_ = plt.hist(arr_yeojohnson)\n",
    "pd.Series(arr_yeojohnson).skew()"
   ]
  },
  {
   "cell_type": "code",
   "execution_count": 13,
   "id": "b3fbe860",
   "metadata": {},
   "outputs": [
    {
     "data": {
      "text/plain": [
       "-1.891705548089777"
      ]
     },
     "execution_count": 13,
     "metadata": {},
     "output_type": "execute_result"
    },
    {
     "data": {
      "image/png": "[encoded data removed]",
      "text/plain": [
       "<Figure size 432x288 with 1 Axes>"
      ]
     },
     "metadata": {
      "filenames": {
       "image/png": "C:\\Users\\gyh\\Desktop\\项目\\【图书出版】pandas\\pd-book\\docs\\jupyter_execute\\solution12_17_1.png"
      },
      "needs_background": "light"
     },
     "output_type": "display_data"
    }
   ],
   "source": [
    "from scipy.stats import loggamma\n",
    "arr_neg = loggamma.rvs(0.2, size=500)\n",
    "_ = plt.hist(arr_neg)\n",
    "pd.Series(arr_neg).skew()"
   ]
  },
  {
   "cell_type": "code",
   "execution_count": 14,
   "id": "2f1e650c",
   "metadata": {},
   "outputs": [
    {
     "data": {
      "text/plain": [
       "-0.00037076210222004364"
      ]
     },
     "execution_count": 14,
     "metadata": {},
     "output_type": "execute_result"
    },
    {
     "data": {
      "image/png": "[encoded data removed]",
      "text/plain": [
       "<Figure size 432x288 with 1 Axes>"
      ]
     },
     "metadata": {
      "filenames": {
       "image/png": "C:\\Users\\gyh\\Desktop\\项目\\【图书出版】pandas\\pd-book\\docs\\jupyter_execute\\solution12_18_1.png"
      },
      "needs_background": "light"
     },
     "output_type": "display_data"
    }
   ],
   "source": [
    "from scipy.stats import yeojohnson\n",
    "arr_neg_yeojohnson, Lambda = yeojohnson(arr_neg)\n",
    "_ = plt.hist(arr_neg_yeojohnson)\n",
    "pd.Series(arr_neg_yeojohnson).skew()"
   ]
  },
  {
   "cell_type": "markdown",
   "id": "20830c22",
   "metadata": {},
   "source": [
    "```{admonition} 练一练\n",
    "在data/ch12/passage_ch文件夹下包含了若干篇中文文档，结合jieba分词工具和sklearn中的tf-idf计算模块，提取每篇文章的主题特征。（提示：在TfidfVectorizer构造器中指定tokenizer参数为jieba.cut）\n",
    "```"
   ]
  },
  {
   "cell_type": "code",
   "execution_count": 15,
   "id": "fe50de26",
   "metadata": {},
   "outputs": [
    {
     "name": "stderr",
     "output_type": "stream",
     "text": [
      "Building prefix dict from the default dictionary ...\n"
     ]
    },
    {
     "name": "stderr",
     "output_type": "stream",
     "text": [
      "Loading model from cache C:\\Users\\gyh\\AppData\\Local\\Temp\\jieba.cache\n"
     ]
    },
    {
     "name": "stderr",
     "output_type": "stream",
     "text": [
      "Loading model cost 0.633 seconds.\n"
     ]
    },
    {
     "name": "stderr",
     "output_type": "stream",
     "text": [
      "Prefix dict has been built successfully.\n"
     ]
    },
    {
     "data": {
      "text/plain": [
       "array(['地震', '代谢', '王安石', '素描', '函数', '计算机', '微积分', '上海', '奥运会', '哈佛',\n",
       "       '味道', '鳄鱼', '冥王星', '麦克斯韦', '雕塑', '智商', '鲨鱼', '冰壶', '钢琴', '高斯'],\n",
       "      dtype=object)"
      ]
     },
     "execution_count": 15,
     "metadata": {},
     "output_type": "execute_result"
    }
   ],
   "source": [
    "from sklearn.feature_extraction.text import (\n",
    "    TfidfVectorizer, TfidfTransformer)\n",
    "import jieba\n",
    "passages = []\n",
    "for i in range(1,21):\n",
    "    with open(\"data/ch12/passage_ch/%d.txt\"%i, encoding=\"utf8\") as f:\n",
    "        passage = \" \".join(f.readlines())\n",
    "        passages.append(passage)\n",
    "vectorizer = TfidfVectorizer(tokenizer=jieba.cut)\n",
    "count = vectorizer.fit_transform(passages)\n",
    "transformer = TfidfTransformer()\n",
    "result = transformer.fit_transform(count)\n",
    "np.array(vectorizer.get_feature_names_out())[result.toarray().argmax(1)]"
   ]
  },
  {
   "cell_type": "markdown",
   "id": "027081d4",
   "metadata": {},
   "source": [
    "```{admonition} 练一练\n",
    "请封装一个函数best_ks()，其输入参数为需要分箱的Series、目标变量的Series、分箱的个数，输出结果为best-ks分箱的结果Series，每个元素值为原序列对应元素所属的箱子（Interval）。此处规定，当箱子中只有一个类别或只有一个元素时则不进行分箱，因此最终箱子的个数可能与给定的分箱个数可能不同。\n",
    "```"
   ]
  },
  {
   "cell_type": "code",
   "execution_count": 16,
   "id": "d5b6cf11",
   "metadata": {},
   "outputs": [
    {
     "data": {
      "text/plain": [
       "0     [8.859, 50.996)\n",
       "1     [8.859, 50.996)\n",
       "2    [73.897, 99.967)\n",
       "3      [0.104, 8.859)\n",
       "4     [8.859, 50.996)\n",
       "dtype: category\n",
       "Categories (4, interval[float64, left]): [[0.104, 8.859) < [8.859, 50.996) < [50.996, 73.897) < [73.897, 99.967)]"
      ]
     },
     "execution_count": 16,
     "metadata": {},
     "output_type": "execute_result"
    }
   ],
   "source": [
    "import bisect\n",
    "def best_ks(s, y, n):\n",
    "    bin_left, bin_right = s.min(), s.max()+0.001\n",
    "    cut_points = [bin_left, bin_right]\n",
    "    def _helper_find(s, y):\n",
    "        data_sorted = pd.DataFrame({\"s\":s, \"y\":y}).sort_values(\"s\")\n",
    "        y_0 = (data_sorted.y==0).cumsum()/(data_sorted.y==0).sum()\n",
    "        y_1 = (data_sorted.y==1).cumsum()/(data_sorted.y==1).sum()\n",
    "        cut_point = data_sorted.iloc[(y_1 - y_0).abs().argmax()][\"s\"]\n",
    "        return cut_point\n",
    "    def _helper_bin(s, y, left, right, n):\n",
    "        if y.all() or (1-y).all(): # 只有一个类别了\n",
    "            return\n",
    "        if y.shape[0] <= 1: # 只有一个元素了\n",
    "            return\n",
    "        if n <= 0:\n",
    "            return\n",
    "        cut_point = _helper_find(s, y)\n",
    "        bisect.insort(cut_points, cut_point) # 插入有序数组\n",
    "        bool_left = (s>=left) & (s<cut_point)\n",
    "        bool_right = (s>=cut_point) & (s<bin_right)\n",
    "        _helper_bin(s[bool_left], y[bool_left], left, cut_point, n-1)\n",
    "        _helper_bin(s[bool_right], y[bool_right], right, cut_point, n-1)\n",
    "    _helper_bin(s, y, bin_left, bin_right, np.log2(n))\n",
    "    return pd.cut(s, bins=cut_points, right=False, duplicates=\"drop\")\n",
    "s = pd.Series(np.random.uniform(0,100,1000))\n",
    "y = pd.Series(np.random.randint(0,2,1000))\n",
    "res = best_ks(s, y, 4)\n",
    "res.head()"
   ]
  },
  {
   "cell_type": "markdown",
   "id": "805eb53e",
   "metadata": {},
   "source": [
    "```{admonition} 练一练\n",
    "请模拟生成1个时序Series，对上文提及的所有时间戳特征与时间差特征进行构造。\n",
    "```"
   ]
  },
  {
   "cell_type": "code",
   "execution_count": 17,
   "id": "6955fafc",
   "metadata": {},
   "outputs": [],
   "source": [
    "s = pd.Series(pd.date_range(\"20200101\", \"20211231\"))\n",
    "# 是否为双休日\n",
    "res = s.dt.dayofweek.isin([5,6])\n",
    "# 是否处于节假日\n",
    "holiday = pd.date_range(\"20201001\", \"20201007\")\n",
    "res = s.isin(holiday)\n",
    "# 是否处于月初或月末\n",
    "res = s.dt.is_month_start\n",
    "res = s.dt.is_month_end\n",
    "# 是否处于白天或夜晚\n",
    "res = s.dt.hour.between(8, 18)\n",
    "# 是否处于特定时间段（如早上八点至十点或每月第一周的周末）\n",
    "res = s.dt.hour.between(8, 10) | (s.dt.day_of_week.isin([5,6]) & (s.dt.day<=7))\n",
    "# 样本所处月的工作天数\n",
    "idx = pd.bdate_range(\"20200101\", \"20201231\")\n",
    "count = idx.to_series().dt.month.value_counts().reset_index()\n",
    "count = count.rename(columns={\"index\":\"month\"})\n",
    "temp = pd.Series(s.dt.month).to_frame().rename(columns={0:\"month\"})\n",
    "res = temp.merge(count, on=\"month\", how=\"left\").rename(columns={0:\"val\"})\n",
    "res = res.val\n",
    "res.index = s.values\n",
    "# 样本所处日期的年/月/日/小时/分钟/星期\n",
    "res = s.dt.year\n",
    "res = s.dt.month\n",
    "res = s.dt.day\n",
    "res = s.dt.hour\n",
    "res = s.dt.second\n",
    "res = s.dt.dayofweek\n",
    "# k分钟/小时/天/前时间戳对应的元素值和当前时间戳对应的元素值的差\n",
    "s_val = pd.Series(np.random.rand(s.shape[0]), index=s)\n",
    "res = s_val.shift(freq=\"3D\") - s_val"
   ]
  },
  {
   "cell_type": "code",
   "execution_count": 18,
   "id": "63c87f3f",
   "metadata": {},
   "outputs": [],
   "source": [
    "s = pd.Series(pd.timedelta_range(\"0s\", \"10000000s\", freq=\"4min 30s\"))\n",
    "res = s.dt.days # 天数\n",
    "res = s.dt.total_seconds() // 60 # 分钟数\n",
    "res = s.dt.total_seconds() # 总秒数\n",
    "res = s.dt.seconds # 对天数取余的秒数"
   ]
  },
  {
   "cell_type": "markdown",
   "id": "b43c4a19",
   "metadata": {},
   "source": [
    "```{admonition} 练一练\n",
    "阅读上述WoE的材料，完成以下问题：\n",
    "- 在WoE的计算中，如果某个组内没有负样本时会导致分母为0，而没有正样本会导致$\\log$函数的输入值非法，请设计1种方案来处理这2类情况。\n",
    "- 请构造1个序列及其标签$y$，分别使用best-ks分箱和节点分箱2种策略得到序列的WoE特征。\n",
    "- 对于不同的分箱策略而言，我们可以通过计算信息值（Information Value）$IV=\\sum_i (\\frac{P^i}{P^T}-\\frac{N^i}{N^T})*WoE_i$的大小来比较分箱方案的优劣，请对第（2）问中的分箱结果进行比较。一般而言，当IV值超过0.1时，可认为分箱策略是有意义的，当超过0.3时表示分箱效果较好，得分越高则效果越显著。\n",
    "```\n",
    "\n",
    "- 1\n",
    "\n",
    "可将计算公式调整为\n",
    "\n",
    "$$\n",
    "WoE_i=\\log[\\frac{(P^i+1)/(N^i+1)}{(P^T+1)/(N^T+1)}]\n",
    "$$\n",
    "\n",
    "- 2"
   ]
  },
  {
   "cell_type": "code",
   "execution_count": 19,
   "id": "b6ceacc0",
   "metadata": {},
   "outputs": [
    {
     "data": {
      "text/plain": [
       "(-1.0, 1.0)"
      ]
     },
     "execution_count": 19,
     "metadata": {},
     "output_type": "execute_result"
    },
    {
     "data": {
      "image/png": "[encoded data removed]",
      "text/plain": [
       "<Figure size 432x288 with 1 Axes>"
      ]
     },
     "metadata": {
      "filenames": {
       "image/png": "C:\\Users\\gyh\\Desktop\\项目\\【图书出版】pandas\\pd-book\\docs\\jupyter_execute\\solution12_27_1.png"
      },
      "needs_background": "light"
     },
     "output_type": "display_data"
    }
   ],
   "source": [
    "from sklearn.datasets import make_classification\n",
    "X, y = make_classification(\n",
    "    n_samples=1000, n_features=1,\n",
    "    n_informative=1, n_redundant=0,\n",
    "    n_classes=2, n_clusters_per_class=1,\n",
    "    random_state=2\n",
    ")\n",
    "s, y = pd.Series(X[:, 0]), pd.Series(y) # \n",
    "plt.scatter([-0.5]*int(sum(y==1)), X[y==1, 0], s=5)\n",
    "plt.scatter([0.5]*int(sum(y==0)), X[y==0, 0], s=5)\n",
    "plt.xlim(-1, 1)"
   ]
  },
  {
   "cell_type": "code",
   "execution_count": 20,
   "id": "e15dd014",
   "metadata": {},
   "outputs": [],
   "source": [
    "from sklearn.tree import DecisionTreeClassifier\n",
    "def node_cut(s, y):\n",
    "    model = DecisionTreeClassifier(max_depth=2)\n",
    "    model.fit(s.values.reshape(-1,1), y)\n",
    "    cut_edge = pd.Series(model.tree_.threshold).drop_duplicates().sort_values()\n",
    "    bins = cut_edge.tolist() + [np.inf]\n",
    "    bins[0] = -np.inf\n",
    "    return pd.cut(s, bins=bins, right=False, duplicates=\"drop\")"
   ]
  },
  {
   "cell_type": "code",
   "execution_count": 21,
   "id": "ab3c4ea3",
   "metadata": {},
   "outputs": [],
   "source": [
    "res_ks = best_ks(s, y, 4)\n",
    "res_node = node_cut(s, y)\n",
    "f = lambda x: ((x==1).mean()/(x==0).mean())\n",
    "WoE_ks = np.log(y.groupby(res_ks).agg(f)/f(y))\n",
    "WoE_node = np.log(y.groupby(res_node).agg(f)/f(y))"
   ]
  },
  {
   "cell_type": "code",
   "execution_count": 22,
   "id": "30338e26",
   "metadata": {},
   "outputs": [
    {
     "data": {
      "text/plain": [
       "[-3.208, -0.251)   -4.638729\n",
       "[-0.251, 0.183)    -0.610136\n",
       "[0.183, 0.605)      1.298913\n",
       "[0.605, 2.557)      3.048428\n",
       "dtype: float64"
      ]
     },
     "execution_count": 22,
     "metadata": {},
     "output_type": "execute_result"
    }
   ],
   "source": [
    "WoE_ks"
   ]
  },
  {
   "cell_type": "code",
   "execution_count": 23,
   "id": "58d427d2",
   "metadata": {},
   "outputs": [
    {
     "data": {
      "text/plain": [
       "[-inf, -0.239)    -4.641153\n",
       "[-0.239, 0.109)   -0.781705\n",
       "[0.109, 0.347)     0.296105\n",
       "[0.347, inf)       2.744596\n",
       "dtype: float64"
      ]
     },
     "execution_count": 23,
     "metadata": {},
     "output_type": "execute_result"
    }
   ],
   "source": [
    "WoE_node"
   ]
  },
  {
   "cell_type": "markdown",
   "id": "9e02f06f",
   "metadata": {},
   "source": [
    "- 3"
   ]
  },
  {
   "cell_type": "code",
   "execution_count": 24,
   "id": "733a8faa",
   "metadata": {},
   "outputs": [
    {
     "data": {
      "text/plain": [
       "3.098410522709232"
      ]
     },
     "execution_count": 24,
     "metadata": {},
     "output_type": "execute_result"
    }
   ],
   "source": [
    "Pt, Nt = (y==1).shape[0], (y==0).shape[0]\n",
    "IV_ks = 0\n",
    "for idx in WoE_ks.index:\n",
    "    bool_s = res_ks == idx\n",
    "    WoE = WoE_ks[idx]\n",
    "    IV_ks += (\n",
    "        y[bool_s & (y==1)].shape[0] / Pt \n",
    "        - y[bool_s & (y==0)].shape[0] / Nt\n",
    "    ) * WoE\n",
    "IV_ks"
   ]
  },
  {
   "cell_type": "code",
   "execution_count": 25,
   "id": "9c9f1e74",
   "metadata": {},
   "outputs": [
    {
     "data": {
      "text/plain": [
       "6.178057847331045"
      ]
     },
     "execution_count": 25,
     "metadata": {},
     "output_type": "execute_result"
    }
   ],
   "source": [
    "IV_node = 0\n",
    "for idx in WoE_node.index:\n",
    "    bool_s = res_node == idx\n",
    "    WoE = WoE_node[idx]\n",
    "    IV_ks += (\n",
    "        y[bool_s & (y==1)].shape[0] / Pt \n",
    "        - y[bool_s & (y==0)].shape[0] / Nt\n",
    "    ) * WoE\n",
    "IV_ks"
   ]
  },
  {
   "cell_type": "markdown",
   "id": "84ec3997",
   "metadata": {},
   "source": [
    "```{admonition} 练一练\n",
    "请对城市面积和人口数据集（即data/ch12/area-pop.csv）中的两个特征进行对数变换和标准化变换后降维，选取第一个主成分。\n",
    "```"
   ]
  },
  {
   "cell_type": "code",
   "execution_count": 26,
   "id": "363bf08e",
   "metadata": {},
   "outputs": [
    {
     "data": {
      "text/plain": [
       "(120, 1)"
      ]
     },
     "execution_count": 26,
     "metadata": {},
     "output_type": "execute_result"
    }
   ],
   "source": [
    "from sklearn.decomposition import PCA\n",
    "df = pd.read_csv(\"data/ch12/area-pop.csv\")\n",
    "df = df.apply(lambda x: np.log(x))\n",
    "df = df.apply(lambda x: (x-x.mean())/x.std())\n",
    "pca = PCA(n_components=1) # 取第一主成分\n",
    "new_feature = pca.fit_transform(df.values)\n",
    "new_feature.shape # 降维特征的维度"
   ]
  },
  {
   "cell_type": "markdown",
   "id": "aabc7e57",
   "metadata": {},
   "source": [
    "```{admonition} 练一练\n",
    "请根据上述的检验思想和代码完成以下问题：\n",
    "- 将$2\\times 2$的卡方检验推广至$r\\times c$。同时，给出特征重要性选择函数chi2\\_choose()的构造，它接收的参数为2维的离散特征数组$X$和1维的目标数组$y$，输出值为这些特征的$p$值排名。统计量的计算可参考第一章习题二，也可直接使用chi2\\_contingency()。\n",
    "- 虽然连续型的特征和目标变量无法直接进行卡方检验，但是可以将特征和目标进行分箱从而转化为类别，请利用这个想法对df_reg的特征$f_1$关于$y$进行卡方检验。\n",
    "```\n",
    "\n",
    "- 1"
   ]
  },
  {
   "cell_type": "code",
   "execution_count": 27,
   "id": "1d1bc0af",
   "metadata": {},
   "outputs": [
    {
     "data": {
      "text/html": [
       "<div>\n",
       "<style scoped>\n",
       "    .dataframe tbody tr th:only-of-type {\n",
       "        vertical-align: middle;\n",
       "    }\n",
       "\n",
       "    .dataframe tbody tr th {\n",
       "        vertical-align: top;\n",
       "    }\n",
       "\n",
       "    .dataframe thead th {\n",
       "        text-align: right;\n",
       "    }\n",
       "</style>\n",
       "<table border=\"1\" class=\"dataframe\">\n",
       "  <thead>\n",
       "    <tr style=\"text-align: right;\">\n",
       "      <th></th>\n",
       "      <th>Cols</th>\n",
       "      <th>Rank</th>\n",
       "    </tr>\n",
       "  </thead>\n",
       "  <tbody>\n",
       "    <tr>\n",
       "      <th>0</th>\n",
       "      <td>A</td>\n",
       "      <td>1</td>\n",
       "    </tr>\n",
       "    <tr>\n",
       "      <th>1</th>\n",
       "      <td>B</td>\n",
       "      <td>3</td>\n",
       "    </tr>\n",
       "    <tr>\n",
       "      <th>2</th>\n",
       "      <td>C</td>\n",
       "      <td>2</td>\n",
       "    </tr>\n",
       "  </tbody>\n",
       "</table>\n",
       "</div>"
      ],
      "text/plain": [
       "  Cols  Rank\n",
       "0    A     1\n",
       "1    B     3\n",
       "2    C     2"
      ]
     },
     "execution_count": 27,
     "metadata": {},
     "output_type": "execute_result"
    }
   ],
   "source": [
    "from scipy.stats import chi2_contingency\n",
    "np.random.seed(0)\n",
    "X = pd.DataFrame(\n",
    "    {\n",
    "        \"A\": np.random.randint(0, 6, 1000),\n",
    "        \"B\": np.random.randint(0, 4, 1000),\n",
    "        \"C\": np.random.randint(0, 10, 1000),\n",
    "    }\n",
    ")\n",
    "y = np.random.randint(0, 4, 1000)\n",
    "def chi2_choose(X, y):\n",
    "    ps = []\n",
    "    for arr in X.values.T:\n",
    "        _, p = chi2_contingency(pd.crosstab(arr, y))[:2]\n",
    "        ps.append(p)\n",
    "    return pd.DataFrame(\n",
    "        {\n",
    "            \"Cols\": X.columns,\n",
    "            \"Rank\": pd.Series(ps).rank().values.astype(\"int\")\n",
    "        }\n",
    "    )\n",
    "chi2_choose(X, y)"
   ]
  },
  {
   "cell_type": "markdown",
   "id": "3e84f912",
   "metadata": {},
   "source": [
    "- 2"
   ]
  },
  {
   "cell_type": "code",
   "execution_count": 28,
   "id": "1b843881",
   "metadata": {},
   "outputs": [
    {
     "data": {
      "text/html": [
       "<div>\n",
       "<style scoped>\n",
       "    .dataframe tbody tr th:only-of-type {\n",
       "        vertical-align: middle;\n",
       "    }\n",
       "\n",
       "    .dataframe tbody tr th {\n",
       "        vertical-align: top;\n",
       "    }\n",
       "\n",
       "    .dataframe thead th {\n",
       "        text-align: right;\n",
       "    }\n",
       "</style>\n",
       "<table border=\"1\" class=\"dataframe\">\n",
       "  <thead>\n",
       "    <tr style=\"text-align: right;\">\n",
       "      <th></th>\n",
       "      <th>Cols</th>\n",
       "      <th>Rank</th>\n",
       "    </tr>\n",
       "  </thead>\n",
       "  <tbody>\n",
       "    <tr>\n",
       "      <th>0</th>\n",
       "      <td>A</td>\n",
       "      <td>2</td>\n",
       "    </tr>\n",
       "    <tr>\n",
       "      <th>1</th>\n",
       "      <td>B</td>\n",
       "      <td>1</td>\n",
       "    </tr>\n",
       "    <tr>\n",
       "      <th>2</th>\n",
       "      <td>C</td>\n",
       "      <td>3</td>\n",
       "    </tr>\n",
       "  </tbody>\n",
       "</table>\n",
       "</div>"
      ],
      "text/plain": [
       "  Cols  Rank\n",
       "0    A     2\n",
       "1    B     1\n",
       "2    C     3"
      ]
     },
     "execution_count": 28,
     "metadata": {},
     "output_type": "execute_result"
    }
   ],
   "source": [
    "X = pd.DataFrame(\n",
    "    {\n",
    "        \"A\": np.random.rand(1000),\n",
    "        \"B\": np.random.rand(1000),\n",
    "        \"C\": np.random.rand(1000),\n",
    "    }\n",
    ")\n",
    "y = np.random.rand(1000)\n",
    "def chi2_choose_continuous(X, y):\n",
    "    ps = []\n",
    "    y = pd.cut(pd.Series(y), bins=5)\n",
    "    for arr in X.values.T:\n",
    "        arr = pd.cut(pd.Series(arr), bins=5)\n",
    "        _, p = chi2_contingency(pd.crosstab(arr, y))[:2]\n",
    "        ps.append(p)\n",
    "    return pd.DataFrame(\n",
    "        {\n",
    "            \"Cols\": X.columns,\n",
    "            \"Rank\": pd.Series(ps).rank().values.astype(\"int\")\n",
    "        }\n",
    "    )\n",
    "chi2_choose_continuous(X, y)"
   ]
  },
  {
   "cell_type": "markdown",
   "id": "1e83f612",
   "metadata": {},
   "source": [
    "```{admonition} 练一练\n",
    "请构造1个3分类的数据集（在make_classification()中指定n_classes为3），选取其中的1个变量进行F检验，再调用f_classif核对是否与其输出结果一致。\n",
    "```"
   ]
  },
  {
   "cell_type": "code",
   "execution_count": 29,
   "id": "6a0a34e6",
   "metadata": {},
   "outputs": [],
   "source": [
    "from sklearn.datasets import make_classification\n",
    "cls_X, cls_y = make_classification(n_samples=1000, n_features=10,\n",
    "    n_informative=3, n_classes=3, random_state=0)\n",
    "df_cls = pd.DataFrame(np.c_[cls_X, cls_y],\n",
    "    columns=[\"f%d\"%i for i in range(1, 11)]+[\"y\"])"
   ]
  },
  {
   "cell_type": "code",
   "execution_count": 30,
   "id": "64f2efc5",
   "metadata": {},
   "outputs": [
    {
     "data": {
      "text/plain": [
       "1.014934961909982"
      ]
     },
     "execution_count": 30,
     "metadata": {},
     "output_type": "execute_result"
    }
   ],
   "source": [
    "group = df_cls[[\"f1\", \"y\"]].groupby(\"y\")\n",
    "W = ((group.mean() - df_cls[\"f1\"].mean())**2 * group.count()).sum()[\"f1\"]\n",
    "E = (group.var() * (group.count()-1) ).sum()[\"f1\"]\n",
    "F = (W/(3-1)) / (E/(df_cls.shape[0]-3))\n",
    "F"
   ]
  },
  {
   "cell_type": "code",
   "execution_count": 31,
   "id": "a98657e9",
   "metadata": {},
   "outputs": [
    {
     "data": {
      "text/plain": [
       "0.3628001419102242"
      ]
     },
     "execution_count": 31,
     "metadata": {},
     "output_type": "execute_result"
    }
   ],
   "source": [
    "from scipy.stats import f as f_distribution\n",
    "f_distribution.sf(F, 2, df_cls.shape[0]-3)"
   ]
  },
  {
   "cell_type": "code",
   "execution_count": 32,
   "id": "cab3d8e3",
   "metadata": {},
   "outputs": [
    {
     "data": {
      "text/plain": [
       "(array([1.01493496]), array([0.36280014]))"
      ]
     },
     "execution_count": 32,
     "metadata": {},
     "output_type": "execute_result"
    }
   ],
   "source": [
    "from sklearn.feature_selection import f_classif\n",
    "F, p = f_classif(df_cls.values[:, [0]], df_cls.y)\n",
    "F, p"
   ]
  },
  {
   "cell_type": "markdown",
   "id": "20630435",
   "metadata": {},
   "source": [
    "```{admonition} 练一练\n",
    "sklearn中svm模块下的分类模型LinearSVC也支持使用$L_1$正则化来训练模型，请阅读相应的官方文档页面并仿照上述LASSO或逻辑回归的例子，对df_cls数据集进行变量选择。（提示：参考文档并尝试调节SelectFromModel的threshold参数）\n",
    "```"
   ]
  },
  {
   "cell_type": "code",
   "execution_count": 33,
   "id": "c7da1d57",
   "metadata": {},
   "outputs": [
    {
     "data": {
      "text/plain": [
       "(10000, 3)"
      ]
     },
     "execution_count": 33,
     "metadata": {},
     "output_type": "execute_result"
    }
   ],
   "source": [
    "from sklearn.svm import LinearSVC\n",
    "from sklearn.feature_selection import SelectFromModel\n",
    "cls_X, cls_y = make_classification(n_samples=10000, n_features=10,\n",
    "    n_informative=3, n_classes=2, random_state=1)\n",
    "df_cls = pd.DataFrame(np.c_[cls_X, cls_y],\n",
    "    columns=[\"f%d\"%i for i in range(1, 11)]+[\"y\"])\n",
    "model_cls = LinearSVC(penalty=\"l1\", dual=False, random_state=0)\n",
    "model_cls = model_cls.fit(df_cls.iloc[:,:-1], df_cls.y)\n",
    "model = SelectFromModel(model_cls, prefit=True, threshold=0.2)\n",
    "X_cls_new = model.transform(df_cls.iloc[:,:-1].values)\n",
    "X_cls_new.shape"
   ]
  },
  {
   "cell_type": "markdown",
   "id": "fa510bee",
   "metadata": {},
   "source": [
    "```{admonition} 练一练\n",
    "如何修改上述代码以合理估计未被剔除列的特征重要性排名（需要考虑hit数相同时特征重要性的比较）？\n",
    "```\n",
    "\n",
    "只需计算每个特征平均每轮的1-p_accept（当p_accept小表示接收概率大）后排序即可："
   ]
  },
  {
   "cell_type": "code",
   "execution_count": 34,
   "id": "bbed8955",
   "metadata": {},
   "outputs": [],
   "source": [
    "from sklearn.datasets import make_regression\n",
    "reg_X, reg_y = make_regression(n_samples=10000, n_features=10,\n",
    "    n_informative=3, n_targets=1, random_state=1)\n",
    "df_reg = pd.DataFrame(np.c_[reg_X, reg_y],\n",
    "    columns=[\"f%d\"%i for i in range(1, 11)]+[\"y\"])"
   ]
  },
  {
   "cell_type": "code",
   "execution_count": 35,
   "id": "447c8a71",
   "metadata": {},
   "outputs": [
    {
     "data": {
      "text/html": [
       "<div>\n",
       "<style scoped>\n",
       "    .dataframe tbody tr th:only-of-type {\n",
       "        vertical-align: middle;\n",
       "    }\n",
       "\n",
       "    .dataframe tbody tr th {\n",
       "        vertical-align: top;\n",
       "    }\n",
       "\n",
       "    .dataframe thead th {\n",
       "        text-align: right;\n",
       "    }\n",
       "</style>\n",
       "<table border=\"1\" class=\"dataframe\">\n",
       "  <thead>\n",
       "    <tr style=\"text-align: right;\">\n",
       "      <th></th>\n",
       "      <th>Column</th>\n",
       "      <th>Rank</th>\n",
       "      <th>Proba of Accept</th>\n",
       "    </tr>\n",
       "  </thead>\n",
       "  <tbody>\n",
       "    <tr>\n",
       "      <th>0</th>\n",
       "      <td>f1</td>\n",
       "      <td>5</td>\n",
       "      <td>0.771875</td>\n",
       "    </tr>\n",
       "    <tr>\n",
       "      <th>1</th>\n",
       "      <td>f2</td>\n",
       "      <td>4</td>\n",
       "      <td>0.907813</td>\n",
       "    </tr>\n",
       "    <tr>\n",
       "      <th>2</th>\n",
       "      <td>f3</td>\n",
       "      <td>8</td>\n",
       "      <td>0.000000</td>\n",
       "    </tr>\n",
       "    <tr>\n",
       "      <th>3</th>\n",
       "      <td>f4</td>\n",
       "      <td>7</td>\n",
       "      <td>0.020313</td>\n",
       "    </tr>\n",
       "    <tr>\n",
       "      <th>4</th>\n",
       "      <td>f5</td>\n",
       "      <td>1</td>\n",
       "      <td>0.988281</td>\n",
       "    </tr>\n",
       "    <tr>\n",
       "      <th>5</th>\n",
       "      <td>f6</td>\n",
       "      <td>9</td>\n",
       "      <td>0.000000</td>\n",
       "    </tr>\n",
       "    <tr>\n",
       "      <th>6</th>\n",
       "      <td>f7</td>\n",
       "      <td>2</td>\n",
       "      <td>0.988281</td>\n",
       "    </tr>\n",
       "    <tr>\n",
       "      <th>7</th>\n",
       "      <td>f8</td>\n",
       "      <td>3</td>\n",
       "      <td>0.988281</td>\n",
       "    </tr>\n",
       "    <tr>\n",
       "      <th>8</th>\n",
       "      <td>f9</td>\n",
       "      <td>6</td>\n",
       "      <td>0.673438</td>\n",
       "    </tr>\n",
       "    <tr>\n",
       "      <th>9</th>\n",
       "      <td>f10</td>\n",
       "      <td>10</td>\n",
       "      <td>0.000000</td>\n",
       "    </tr>\n",
       "  </tbody>\n",
       "</table>\n",
       "</div>"
      ],
      "text/plain": [
       "  Column  Rank  Proba of Accept\n",
       "0     f1     5         0.771875\n",
       "1     f2     4         0.907813\n",
       "2     f3     8         0.000000\n",
       "3     f4     7         0.020313\n",
       "4     f5     1         0.988281\n",
       "5     f6     9         0.000000\n",
       "6     f7     2         0.988281\n",
       "7     f8     3         0.988281\n",
       "8     f9     6         0.673438\n",
       "9    f10    10         0.000000"
      ]
     },
     "execution_count": 35,
     "metadata": {},
     "output_type": "execute_result"
    }
   ],
   "source": [
    "from scipy.stats import binom\n",
    "from sklearn.ensemble import GradientBoostingRegressor\n",
    "alpha, max_iter = 0.1, 10\n",
    "model = GradientBoostingRegressor(\n",
    "    n_estimators=50, max_depth=5, random_state=0)\n",
    "status = np.zeros(df_reg.shape[1]-1)\n",
    "hit = np.zeros(df_reg.shape[1]-1)\n",
    "ps = np.zeros(df_reg.shape[1]-1)\n",
    "counts = np.zeros(df_reg.shape[1]-1)\n",
    "cur_iter = 1\n",
    "while (status==0).any() and cur_iter <= max_iter:\n",
    "    df_shuffled = df_reg.iloc[:,:-1].apply(np.random.permutation) \n",
    "    df_shuffled.columns = [\"sf_f%d\"%m for m in range(1,11)]\n",
    "    df_concat = pd.concat([df_reg.iloc[:,:-1], df_shuffled], axis=1) \n",
    "    model.fit(df_concat, df_reg.iloc[:, -1])\n",
    "    fi = model.feature_importances_\n",
    "    original_importance = fi[:df_reg.shape[1]-1]\n",
    "    shuffled_importance = fi[df_reg.shape[1]-1:]\n",
    "    F_max = shuffled_importance.max()\n",
    "    for i in range(df_reg.shape[1]-1):\n",
    "        if original_importance[i] > F_max:\n",
    "            hit[i] += 1\n",
    "        if status[i] != 0:\n",
    "            continue\n",
    "        p_accept = binom.cdf(cur_iter - hit[i], cur_iter, 0.5)\n",
    "        p_reject = binom.cdf(hit[i], cur_iter, 0.5)\n",
    "        # 为什么需要判断？前面几轮实际上还不稳定，得出的概率值方差很大\n",
    "        if cur_iter > 5:\n",
    "            ps[i] += 1 - p_accept\n",
    "            counts[i] += 1\n",
    "        threshold = alpha / (df_reg.shape[1]-1)\n",
    "        if p_accept <= threshold:\n",
    "            status[i] = 1\n",
    "        elif p_reject <= threshold:\n",
    "            status[i] = -1\n",
    "    cur_iter += 1\n",
    "proba = ps / counts\n",
    "res = pd.DataFrame({\n",
    "    \"Column\": df_cls.columns[:-1],\n",
    "    \"Rank\": pd.Series(proba).rank(ascending=False, method=\"first\").values.astype(\"int\"),\n",
    "    \"Proba of Accept\": proba\n",
    "})\n",
    "res"
   ]
  },
  {
   "cell_type": "markdown",
   "id": "82b123d1",
   "metadata": {},
   "source": [
    "## 一、卡方分箱\n",
    "\n",
    "\n",
    "卡方分箱是一种利用卡方值来分箱的方法，其核心思想是：对于2个相邻的箱子（实际表示区间），如果目标$y$和箱子所属编号（即按照属于左边的箱子还是右边的箱子划分类别）之间的卡方值较小，说明这2个箱子的边界划分无法有效区分目标$y$的情况，因此需要对这2个箱子进行合并。其分箱流程为：事先指定最大分箱数量$Bin_{max}$、最小分箱数量$Bin_{min}$和阈值$\\chi_0^2$，首先对数据按照最大分箱数量进行qcut得到$Bin_{max}$个箱子，接着每一轮计算所有2个相邻箱子（特征需要排序）的卡方值，合并这一轮中卡方值最小的1组相邻箱子，算法终止条件为某一轮剩余的箱子个数达到了最小分箱数量$Bin_{min}$或者所有相邻箱子的卡方值都高于给定的阈值$\\chi_0^2$。sklearn内置的鸢尾花数据集是一个3分类任务的数据集，请根据上述卡方分箱的原理对于“sepal length (cm)”列进行分箱。"
   ]
  },
  {
   "cell_type": "code",
   "execution_count": 36,
   "id": "4e2c770f",
   "metadata": {},
   "outputs": [
    {
     "data": {
      "text/html": [
       "<div>\n",
       "<style scoped>\n",
       "    .dataframe tbody tr th:only-of-type {\n",
       "        vertical-align: middle;\n",
       "    }\n",
       "\n",
       "    .dataframe tbody tr th {\n",
       "        vertical-align: top;\n",
       "    }\n",
       "\n",
       "    .dataframe thead th {\n",
       "        text-align: right;\n",
       "    }\n",
       "</style>\n",
       "<table border=\"1\" class=\"dataframe\">\n",
       "  <thead>\n",
       "    <tr style=\"text-align: right;\">\n",
       "      <th></th>\n",
       "      <th>sepal length (cm)</th>\n",
       "      <th>target</th>\n",
       "    </tr>\n",
       "  </thead>\n",
       "  <tbody>\n",
       "    <tr>\n",
       "      <th>0</th>\n",
       "      <td>5.1</td>\n",
       "      <td>0</td>\n",
       "    </tr>\n",
       "    <tr>\n",
       "      <th>1</th>\n",
       "      <td>4.9</td>\n",
       "      <td>0</td>\n",
       "    </tr>\n",
       "    <tr>\n",
       "      <th>2</th>\n",
       "      <td>4.7</td>\n",
       "      <td>0</td>\n",
       "    </tr>\n",
       "    <tr>\n",
       "      <th>3</th>\n",
       "      <td>4.6</td>\n",
       "      <td>0</td>\n",
       "    </tr>\n",
       "    <tr>\n",
       "      <th>4</th>\n",
       "      <td>5.0</td>\n",
       "      <td>0</td>\n",
       "    </tr>\n",
       "  </tbody>\n",
       "</table>\n",
       "</div>"
      ],
      "text/plain": [
       "   sepal length (cm)  target\n",
       "0                5.1       0\n",
       "1                4.9       0\n",
       "2                4.7       0\n",
       "3                4.6       0\n",
       "4                5.0       0"
      ]
     },
     "execution_count": 36,
     "metadata": {},
     "output_type": "execute_result"
    }
   ],
   "source": [
    "from sklearn.datasets import load_iris\n",
    "data = load_iris()\n",
    "df = pd.DataFrame(data.data, columns=data.feature_names)\n",
    "df['target'] = data.target\n",
    "df.iloc[:,[0,-1]].head()"
   ]
  },
  {
   "cell_type": "markdown",
   "id": "5f06cb10",
   "metadata": {},
   "source": [
    "```text\n",
    "【解答】\n",
    "```"
   ]
  },
  {
   "cell_type": "code",
   "execution_count": 37,
   "id": "286e2667",
   "metadata": {},
   "outputs": [
    {
     "data": {
      "text/plain": [
       "[4.296, 5.38, 5.74, 6.1, 7.9]"
      ]
     },
     "execution_count": 37,
     "metadata": {},
     "output_type": "execute_result"
    }
   ],
   "source": [
    "def get_chi2(s, y, bins):\n",
    "    y1 = y[(s>=bins[0])&(s<bins[1])]\n",
    "    y2 = y[(s>=bins[1])&(s<bins[2])]\n",
    "    a = np.r_[y1.values, y2.values]\n",
    "    b = np.r_[[0] * len(y1), [1] * len(y2)]\n",
    "    return chi2_contingency(pd.crosstab(a, b))[0]\n",
    "\n",
    "def chi2_cut(s, y, max_nbins, min_nbins, chi2_0):\n",
    "    bins = pd.cut(s, bins=max_nbins).cat.categories.to_tuples()\n",
    "    bins = [bins[i][0] for i in range(len(bins))] + [bins[-1][-1]]\n",
    "    cur_bins, cur_chi2 = max_nbins, -np.inf\n",
    "    while cur_bins > min_nbins and cur_chi2 <= chi2_0:\n",
    "        merge_i = 1\n",
    "        min_chi2 = np.inf\n",
    "        for i in range(1, len(bins)-1):\n",
    "            adj_bin = bins[i-1:i+2]\n",
    "            chi2 = get_chi2(s, y, adj_bin)\n",
    "            if chi2 < min_chi2:\n",
    "                merge_i = i\n",
    "                min_chi2 = chi2\n",
    "        cur_chi2 = min_chi2\n",
    "        bins.pop(merge_i)\n",
    "        cur_bins -= 1\n",
    "    return bins\n",
    "\n",
    "s, y = df[\"sepal length (cm)\"], df[\"target\"]\n",
    "chi2_cut(s, y, 10, 4, 3.5) # 返回箱子边界"
   ]
  },
  {
   "cell_type": "markdown",
   "id": "79e7f9cb",
   "metadata": {},
   "source": [
    "## 二、基于标签的特征构造\n",
    "\n",
    "本章中大多介绍的特征构造方法都是无监督方式，即不利用任何$y$中的信息来构造特征，而本章中介绍的分箱方法都是有监督方法，它们利用了$y$的信息来进行分箱的节点切割。事实上，还有很多其他利用标签的特征构造方法，请读者阅读如下的2种构建思路并完成相应任务。\n",
    "\n",
    "- 伪标签方法是一种半监督学习方法，它将一部分可信的标签作为真实样本参与模型训练。例如对于二分类问题，许多模型都可以输出$y=1$或$y=0$的概率，当某一些测试样本输出的预测概率很高时，说明模型很有把握其被归为某一个类别，此时我们可以直接将这些样本赋予伪标签，即当$y=1$的概率为0.9998时，直接将其视为$y=1$，重新训练模型。请利用上题中提到的鸢尾花数据集，使用逻辑回归模型进行基于伪标签方法的预测。sklearn中逻辑回归的使用方法在下面的代码块中给出。"
   ]
  },
  {
   "cell_type": "code",
   "execution_count": 38,
   "id": "4d771a24",
   "metadata": {},
   "outputs": [
    {
     "data": {
      "text/plain": [
       "array([0, 0])"
      ]
     },
     "execution_count": 38,
     "metadata": {},
     "output_type": "execute_result"
    }
   ],
   "source": [
    "from sklearn.linear_model import LogisticRegression\n",
    "X, y = load_iris(return_X_y=True)\n",
    "model = LogisticRegression(max_iter=150, random_state=0).fit(X, y)\n",
    "model.predict(X[:2, :]) # 前2个样本的预测类别"
   ]
  },
  {
   "cell_type": "code",
   "execution_count": 39,
   "id": "ca387909",
   "metadata": {},
   "outputs": [
    {
     "data": {
      "text/plain": [
       "array([[0.98158201, 0.01841798, 0.00000001],\n",
       "       [0.9713355 , 0.02866447, 0.00000003]])"
      ]
     },
     "execution_count": 39,
     "metadata": {},
     "output_type": "execute_result"
    }
   ],
   "source": [
    "model.predict_proba(X[:2, :]) # 前2个样本属于每个类别的概率"
   ]
  },
  {
   "cell_type": "markdown",
   "id": "36ac0cf5",
   "metadata": {},
   "source": [
    "- 在回归问题中，模型预测值与真实标签值的残差有时也能作为重要特征，例如某些模型在不同的特征集合上会对真实值存在高估、低估或某种模式的有偏估计，此时可以加入残差特征来获得这种模式的信息。事实上，虽然在训练集上能够获得残差，但是在测试集上由于标签未知，我们无法知道真实的残差值，此时可以使用2阶段的方式进行模型训练。在第一阶段中，在训练集上使用模型$A$来拟合特征$X$和真实标签$y$，把该模型$A$的样本预测结果记作$\\hat{y}$，将残差记作$e=y-\\hat{y}$。在第二阶段中，在训练集上使用模型$B$来拟合特征$X$和残差$e$。在测试集上，我们把特征$x_{test}$输入模型$A$得到$\\hat{y}_{test}$，再把特征$x_{test}$输入模型$B$得到$\\hat{e}_{test}$，最后把$\\hat{y}_{test}$和$\\hat{e}_{test}$相加得到正式的预测输出。由于2个模型的输入部分只用了特征本身而不涉及真实标签，因此整个流程是可训练的并且利用到了残差的信息。请使用sklearn中的make\\_regression()函数构造1个回归数据集，选择任意一个回归模型按照上述流程进行2阶段预测。\n",
    "\n",
    "```text\n",
    "【解答】\n",
    "```\n",
    "\n",
    "- 1"
   ]
  },
  {
   "cell_type": "code",
   "execution_count": 40,
   "id": "d9ab63a1",
   "metadata": {},
   "outputs": [
    {
     "data": {
      "text/plain": [
       "(0.9333333333333333, 0.9466666666666667)"
      ]
     },
     "execution_count": 40,
     "metadata": {},
     "output_type": "execute_result"
    }
   ],
   "source": [
    "from sklearn.model_selection import train_test_split\n",
    "from sklearn.metrics import accuracy_score\n",
    "X, y = load_iris(return_X_y=True)\n",
    "X_train, X_test, y_train, y_test = train_test_split(\n",
    "    X, y, test_size=0.5, random_state=0)\n",
    "model = LogisticRegression(max_iter=150, random_state=0).fit(X_train, y_train)\n",
    "y_predict = model.predict(X_test)\n",
    "acc1 = accuracy_score(y_test, y_predict) # 准确率\n",
    "proba = model.predict_proba(X_test)\n",
    "high_confidence = (proba > 0.8).any(1)\n",
    "X_train_new = np.concatenate([X_train, X_test[high_confidence]])\n",
    "y_train_new = np.concatenate([y_train, proba.argmax(1)[high_confidence]])\n",
    "model_new = LogisticRegression(max_iter=150, random_state=0).fit(\n",
    "    X_train_new, y_train_new)\n",
    "y_predict = np.empty_like(y_test, dtype=\"int\")\n",
    "y_predict[high_confidence] = proba.argmax(1)[high_confidence]\n",
    "y_predict[~high_confidence] = model_new.predict(X_test[~high_confidence])\n",
    "acc2 = accuracy_score(y_test, y_predict) # 再次计算准确率\n",
    "acc1, acc2"
   ]
  },
  {
   "cell_type": "markdown",
   "id": "8621d1ee",
   "metadata": {},
   "source": [
    "- 2"
   ]
  },
  {
   "cell_type": "code",
   "execution_count": 41,
   "id": "c41663ac",
   "metadata": {},
   "outputs": [],
   "source": [
    "from sklearn.datasets import make_regression\n",
    "from sklearn.model_selection import train_test_split\n",
    "X, y = make_regression(n_samples=10000, n_features=10,\n",
    "    n_informative=3, n_targets=1, random_state=1)\n",
    "X_train, X_test, y_train, y_test = train_test_split(\n",
    "    X, y, test_size=0.5, random_state=0)"
   ]
  },
  {
   "cell_type": "code",
   "execution_count": 42,
   "id": "8380b3bf",
   "metadata": {},
   "outputs": [
    {
     "data": {
      "text/plain": [
       "594.5708462639824"
      ]
     },
     "execution_count": 42,
     "metadata": {},
     "output_type": "execute_result"
    }
   ],
   "source": [
    "from sklearn.tree import DecisionTreeRegressor\n",
    "from sklearn.metrics import mean_squared_error\n",
    "model = DecisionTreeRegressor(max_depth=8, random_state=0)\n",
    "model.fit(X_train, y_train)\n",
    "y_predict = model.predict(X_test)\n",
    "mean_squared_error(y_test, y_predict)"
   ]
  },
  {
   "cell_type": "code",
   "execution_count": 43,
   "id": "0e59901c",
   "metadata": {},
   "outputs": [
    {
     "data": {
      "text/plain": [
       "511.7823781216827"
      ]
     },
     "execution_count": 43,
     "metadata": {},
     "output_type": "execute_result"
    }
   ],
   "source": [
    "model_A = DecisionTreeRegressor(max_depth=8, random_state=0)\n",
    "model_A.fit(X_train, y_train)\n",
    "y_hat_train = model_A.predict(X_train)\n",
    "e_train = y_train - y_hat_train\n",
    "model_B = DecisionTreeRegressor(max_depth=8, random_state=0)\n",
    "model_B.fit(X_train, e_train)\n",
    "y_hat_test = model_A.predict(X_test)\n",
    "e_hat_test = model_B.predict(X_test)\n",
    "y_predict = y_hat_test + e_hat_test\n",
    "mean_squared_error(y_test, y_predict)"
   ]
  },
  {
   "cell_type": "markdown",
   "id": "32e1c849",
   "metadata": {},
   "source": [
    "## 三、信用卡诈骗数据的特征工程\n",
    "\n",
    "信用卡消费已经成为当今大众生活的重要消费方式之一，但目前利用信用卡诈骗交易的非法事件也越来越多，这增加了用户、银行以及金融机构的风险，因此通过交易订单的特征来预测其是否为诈骗交易是金融风控中的重要任务。现有1个信用卡诈骗交易情况的数据集（data/ch12/creditcard.csv），其中包含了28个匿名特征，1个时间特征（Time列中的数字代表自2013年9月1日0点以来的秒数）、1个交易金额特征（Amount）以及1个目标特征（Class为1代表是诈骗交易），请按照下面的思路，结合本章所学知识逐步进行特征工程。"
   ]
  },
  {
   "cell_type": "code",
   "execution_count": 44,
   "id": "bd10d45e",
   "metadata": {},
   "outputs": [
    {
     "data": {
      "text/html": [
       "<div>\n",
       "<style scoped>\n",
       "    .dataframe tbody tr th:only-of-type {\n",
       "        vertical-align: middle;\n",
       "    }\n",
       "\n",
       "    .dataframe tbody tr th {\n",
       "        vertical-align: top;\n",
       "    }\n",
       "\n",
       "    .dataframe thead th {\n",
       "        text-align: right;\n",
       "    }\n",
       "</style>\n",
       "<table border=\"1\" class=\"dataframe\">\n",
       "  <thead>\n",
       "    <tr style=\"text-align: right;\">\n",
       "      <th></th>\n",
       "      <th>Time</th>\n",
       "      <th>V1</th>\n",
       "      <th>V2</th>\n",
       "      <th>V28</th>\n",
       "      <th>Amount</th>\n",
       "      <th>Class</th>\n",
       "    </tr>\n",
       "  </thead>\n",
       "  <tbody>\n",
       "    <tr>\n",
       "      <th>0</th>\n",
       "      <td>0.0</td>\n",
       "      <td>-1.359807</td>\n",
       "      <td>-0.072781</td>\n",
       "      <td>-0.021053</td>\n",
       "      <td>149.62</td>\n",
       "      <td>0</td>\n",
       "    </tr>\n",
       "    <tr>\n",
       "      <th>1</th>\n",
       "      <td>0.0</td>\n",
       "      <td>1.191857</td>\n",
       "      <td>0.266151</td>\n",
       "      <td>0.014724</td>\n",
       "      <td>2.69</td>\n",
       "      <td>0</td>\n",
       "    </tr>\n",
       "    <tr>\n",
       "      <th>2</th>\n",
       "      <td>1.0</td>\n",
       "      <td>-1.358354</td>\n",
       "      <td>-1.340163</td>\n",
       "      <td>-0.059752</td>\n",
       "      <td>378.66</td>\n",
       "      <td>0</td>\n",
       "    </tr>\n",
       "    <tr>\n",
       "      <th>3</th>\n",
       "      <td>1.0</td>\n",
       "      <td>-0.966272</td>\n",
       "      <td>-0.185226</td>\n",
       "      <td>0.061458</td>\n",
       "      <td>123.50</td>\n",
       "      <td>0</td>\n",
       "    </tr>\n",
       "    <tr>\n",
       "      <th>4</th>\n",
       "      <td>2.0</td>\n",
       "      <td>-1.158233</td>\n",
       "      <td>0.877737</td>\n",
       "      <td>0.215153</td>\n",
       "      <td>69.99</td>\n",
       "      <td>0</td>\n",
       "    </tr>\n",
       "  </tbody>\n",
       "</table>\n",
       "</div>"
      ],
      "text/plain": [
       "   Time        V1        V2       V28  Amount  Class\n",
       "0   0.0 -1.359807 -0.072781 -0.021053  149.62      0\n",
       "1   0.0  1.191857  0.266151  0.014724    2.69      0\n",
       "2   1.0 -1.358354 -1.340163 -0.059752  378.66      0\n",
       "3   1.0 -0.966272 -0.185226  0.061458  123.50      0\n",
       "4   2.0 -1.158233  0.877737  0.215153   69.99      0"
      ]
     },
     "execution_count": 44,
     "metadata": {},
     "output_type": "execute_result"
    }
   ],
   "source": [
    "df = pd.read_csv(\"data/ch12/creditcard.csv\")\n",
    "df.iloc[:,[0,1,2,-3,-2,-1]].head()"
   ]
  },
  {
   "cell_type": "markdown",
   "id": "8ce25a86",
   "metadata": {},
   "source": [
    "- 将Time列还原至时间戳序列。\n",
    "- 基于分箱技术对特征进行变换。\n",
    "- 通过Time列构造尽可能丰富的时序特征。\n",
    "- 利用分组技术构造尽可能丰富的交叉特征。\n",
    "- 对所有变量进行特征降维。\n",
    "- 使用本章介绍的各类特征选择方法进行特征选择。\n",
    "\n",
    "```text\n",
    "【解答】\n",
    "```\n",
    "\n",
    "- 1"
   ]
  },
  {
   "cell_type": "code",
   "execution_count": 45,
   "id": "eb204702",
   "metadata": {},
   "outputs": [],
   "source": [
    "df = pd.read_csv(\"data/ch12/creditcard.csv\")\n",
    "df.Time = pd.to_timedelta(df.Time, unit=\"s\") + pd.Timestamp(\"20130901\")"
   ]
  },
  {
   "cell_type": "markdown",
   "id": "cafc06ef",
   "metadata": {},
   "source": [
    "- 2-6\n",
    "\n",
    "略"
   ]
  }
 ],
 "metadata": {
  "jupytext": {
   "text_representation": {
    "format_name": "myst"
   }
  },
  "kernelspec": {
   "display_name": "Python 3",
   "name": "python3"
  },
  "language_info": {
   "codemirror_mode": {
    "name": "ipython",
    "version": 3
   },
   "file_extension": ".py",
   "mimetype": "text/x-python",
   "name": "python",
   "nbconvert_exporter": "python",
   "pygments_lexer": "ipython3",
   "version": "3.8.12"
  },
  "source_map": [
   10,
   19,
   34,
   39,
   44,
   51,
   55,
   60,
   91,
   102,
   112,
   118,
   124,
   126,
   132,
   139,
   146,
   153,
   160,
   165,
   171,
   185,
   191,
   221,
   227,
   261,
   267,
   286,
   300,
   311,
   319,
   323,
   325,
   329,
   342,
   352,
   358,
   366,
   376,
   399,
   403,
   426,
   432,
   440,
   448,
   453,
   457,
   463,
   475,
   483,
   491,
   535,
   542,
   548,
   554,
   582,
   590,
   597,
   599,
   609,
   629,
   633,
   642,
   651,
   662,
   668,
   671,
   686,
   689
  ]
 },
 "nbformat": 4,
 "nbformat_minor": 5
}