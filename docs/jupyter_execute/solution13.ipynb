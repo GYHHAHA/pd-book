{
 "cells": [
  {
   "cell_type": "code",
   "execution_count": 1,
   "id": "ade7ac82",
   "metadata": {
    "tags": [
     "remove_input"
    ]
   },
   "outputs": [],
   "source": [
    "import numpy as np\n",
    "import pandas as pd\n",
    "import matplotlib.pyplot as plt\n",
    "np.random.seed(0)\n",
    "plt.rcParams['font.sans-serif'] = ['SimHei']\n",
    "plt.rcParams['axes.unicode_minus'] = False\n",
    "np.set_printoptions(suppress = True)"
   ]
  },
  {
   "cell_type": "markdown",
   "id": "c6e0c613",
   "metadata": {},
   "source": [
    "# 第十三章\n",
    "\n",
    "## 零、练一练\n",
    "\n",
    "```{admonition} 练一练\n",
    "请单独对df2.Date的优化步骤进行计时比较，即剔除df2.Company处理的消耗时间，并比较astype操作和rename_categories操作的耗时量。\n",
    "```"
   ]
  },
  {
   "cell_type": "code",
   "execution_count": 2,
   "id": "0ad2cd89",
   "metadata": {},
   "outputs": [],
   "source": [
    "df1 = pd.read_csv('data/ch13/company.csv')\n",
    "df2 = pd.read_csv('data/ch13/company-data.csv')"
   ]
  },
  {
   "cell_type": "code",
   "execution_count": 3,
   "id": "64b727e8",
   "metadata": {},
   "outputs": [
    {
     "name": "stdout",
     "output_type": "stream",
     "text": [
      "213 ms ± 3.16 ms per loop (mean ± std. dev. of 7 runs, 1 loop each)\n"
     ]
    }
   ],
   "source": [
    "%timeit df2.Date.str[:4]"
   ]
  },
  {
   "cell_type": "code",
   "execution_count": 4,
   "id": "ddaa882f",
   "metadata": {},
   "outputs": [
    {
     "name": "stdout",
     "output_type": "stream",
     "text": [
      "57.4 ms ± 3.99 ms per loop (mean ± std. dev. of 7 runs, 10 loops each)\n"
     ]
    }
   ],
   "source": [
    "%timeit df2.Date.astype(\"category\")"
   ]
  },
  {
   "cell_type": "code",
   "execution_count": 5,
   "id": "e14a47ab",
   "metadata": {},
   "outputs": [
    {
     "name": "stdout",
     "output_type": "stream",
     "text": [
      "218 µs ± 6.82 µs per loop (mean ± std. dev. of 7 runs, 1,000 loops each)\n"
     ]
    }
   ],
   "source": [
    "temp = df2.Date.astype(\"category\")\n",
    "%timeit temp.cat.rename_categories(dict(zip(temp.cat.categories, [i for i in range(2008,2017)])))"
   ]
  },
  {
   "cell_type": "markdown",
   "id": "f242598d",
   "metadata": {},
   "source": [
    "```{admonition} 练一练\n",
    "思考“把大象放进冰箱”案例的打印输出，完成以下任务：\n",
    "- 反复执行上述代码中map()处理的一行，其打印内容的顺序是否会变化？请解释原因。\n",
    "- 修改put_into_refrigerator()方法，使得打开2号大象冰箱门的时间早于打开1号冰箱门的时间，并且关闭2号门的时间晚于1号门。\n",
    "```\n",
    "\n",
    "- 1\n",
    "\n",
    "可能会变化，因为第一个大象装进冰箱的操作和第二个大象装进冰箱的操作是独立的，谁先完成某个操作（一共有三种操作）就谁先打印。但是需要注意，同一个进程内的打印顺序是确定的。\n",
    "\n",
    "- 2\n",
    "\n",
    "```python\n",
    "def put_into_refrigerator(elephant):\n",
    "    time.sleep(3 if int(elephant[0]) == 1 else 0.1)\n",
    "    print(\"打开冰箱门，准备把\"+\"%s\"%elephant+\"装到冰箱\")\n",
    "    time.sleep(0.1)\n",
    "    print(\"把\"+\"%s\"%elephant+\"装进冰箱\")\n",
    "    time.sleep(0.1 if int(elephant[0]) == 1 else 5)\n",
    "    print(\"关闭%s的冰箱门\"%elephant)\n",
    "    return elephant\n",
    "```\n",
    "\n",
    "```{admonition} 练一练\n",
    "观察图13.1结果，回答以下问题：\n",
    "- 上述代码生成的图中，红色线和蓝色线的交叉点代表了什么含义？\n",
    "- 随着N的增加，蓝色线会一直保持水平吗？请用实验说明。\n",
    "```\n",
    "\n",
    "- 1\n",
    "\n",
    "若N_iter增加，则多进程的效率将超过单进程。\n",
    "\n",
    "- 2\n",
    "\n",
    "不会，实验如下：\n",
    "\n",
    "```python\n",
    "N_iter, L = [int(i) for i in [1e3, 1e4, 1e5, 5e5, 1e6, 5e6, 1e7]], []\n",
    "for N in N_iter:\n",
    "    input_para = zip([\"%d\"%i for i in range(1,11)], [N] * 10)\n",
    "    temp = 0\n",
    "    for i in range(10000):\n",
    "        start = time.time()\n",
    "        container = p.starmap(put_into_refrigerator_new, input_para)\n",
    "        end = time.time()\n",
    "        temp += end - start\n",
    "    L.append(temp/10000)\n",
    "plt.plot(N_iter, L)\n",
    "```\n",
    "\n",
    "```{admonition} 练一练\n",
    "绘制多进程版本蒙特卡洛估计消耗时间关于选取不同分块数量block_num的折线图，并在图上添加单进程耗时的水平基准线。\n",
    "```\n",
    "\n",
    "```python\n",
    "p = Pool(8)\n",
    "np.random.seed(99)\n",
    "array = np.random.uniform([-1, -1], [1, 1], [int(1e6), 2])\n",
    "block_nums, L = [100, 10000, 100000, 200000, 500000, 1000000], []\n",
    "for block_num in block_nums:\n",
    "    array_new = array.reshape(block_num, -1, 2)\n",
    "    start = time.time()\n",
    "    result = p.map(generate_block_y, array_new)\n",
    "    L.append(time.time() - start)\n",
    "start = time.time()\n",
    "result = 0\n",
    "for a, b in array:\n",
    "    result += generate_y(a, b)\n",
    "end = time.time()\n",
    "no_mp_time = end - start\n",
    "```\n",
    "\n",
    "```python\n",
    "plt.plot(block_nums, L)\n",
    "plt.hlines(no_mp_time, 0, max(block_nums), colors=\"red\")\n",
    "```\n",
    "\n",
    "```{admonition} 练一练\n",
    "上述案例中，主进程虽然被join()阻塞，但事实上此时仍然可以在异步函数的下方执行主进程自己的计算任务，而不是单纯地进行等待。当主进程计算任务较大时，可以设置分配个子进程的最大进程数为CPU核数减去1，这样能够为主进程的计算保留资源。请结合该情景，构造1个主进程和子进程同步计算的例子。\n",
    "```\n",
    "\n",
    "子进程计算前七个数组的同时，主进程计算第八个数组：\n",
    "\n",
    "```python\n",
    "def do_something_async(arr):\n",
    "    return arr.sum()\n",
    "```\n",
    "\n",
    "```python\n",
    "p = Pool(7)\n",
    "res = [0] * 8\n",
    "arr = np.random.rand(8, 10)\n",
    "res[:7] = p.map_async(do_something_async, arr[:7]).get()\n",
    "res[-1] = arr[-1].sum()\n",
    "p.close()\n",
    "p.join()\n",
    "res\n",
    "```\n",
    "\n",
    "```{admonition} 练一练\n",
    "与Manager中的Array类似，Value对象能够进行单个变量的状态共享，例如mgr_val = mgr.Value('d', 0.0)即定义了1个初始值为0.0的浮点变量，通过mgr_val.value可以访问并修改它的值。现有一个由np.random.rand(1000)生成的浮点数组，请利用多进程的方式，调用函数将数组内的值累加到共享变量mgr_val中并保证进程安全。\n",
    "```\n",
    "\n",
    "```python\n",
    "def value_sum(mgr_value, lock, val):\n",
    "    with lock:\n",
    "        mgr_value.value += val\n",
    "```\n",
    "\n",
    "```python\n",
    "# 省略导包\n",
    "\n",
    "p = Pool(8)\n",
    "arr = np.random.rand(1000)\n",
    "mgr = Manager()\n",
    "mgr_lock = mgr.Lock()\n",
    "mgr_value = mgr.Value('d', 0.0) # 整型Array\n",
    "partial_value_sum = partial(value_sum, mgr_value, mgr_lock)\n",
    "p.map(partial_value_sum, arr)\n",
    "np.abs(arr.sum() - mgr_value.value) < 1e-8 # 浮点数比较\n",
    "```\n",
    "\n",
    "```{admonition} 练一练\n",
    "阅读并理解在多进程中修改ns.my_list的例子，完成以下问题：\n",
    "- change_ns_list函数中的锁能否去除？请解释原因。\n",
    "- 仿照ns.list的案例，修改ns.np_arr和ns.my_df的相应操作。\n",
    "```\n",
    "\n",
    "- 1\n",
    "\n",
    "不能去除，如果不加锁，那么多个进程可能同时获取一个数组进行修改，从而慢进程的修改就会覆盖快进程的修改。\n",
    "\n",
    "```python\n",
    "def change_list(lst, idx):\n",
    "    temp = lst\n",
    "    temp[idx] = 1\n",
    "    return temp\n",
    "\n",
    "def change_ns_list(ns, change_list_idx):\n",
    "    ns.my_list = change_list(ns.my_list, change_list_idx)\n",
    "```\n",
    "\n",
    "```python\n",
    "# 省略导包\n",
    "p = Pool(8)\n",
    "mgr = Manager()\n",
    "ns = mgr.Namespace() # 实例化\n",
    "ns.my_list = [0] * 100\n",
    "partial_change_ns_list = partial(change_ns_list, ns)\n",
    "p.map(partial_change_ns_list, range(100))\n",
    "sum(ns.my_list) == 100 # 不相等\n",
    "```\n",
    "\n",
    "- 2\n",
    "\n",
    "```python\n",
    "def change_element(arr, df, idx):\n",
    "    temp_arr = arr\n",
    "    temp_arr[idx] = 0\n",
    "    temp_df = df\n",
    "    temp_df.iloc[idx//2, idx%2] = 0\n",
    "    return temp_arr, temp_df\n",
    "\n",
    "def change_ns_arr_and_df(lock, ns, idx):\n",
    "    with lock:\n",
    "        ns.np_arr, ns.my_df = change_element(ns.np_arr, ns.my_df, idx)\n",
    "```\n",
    "\n",
    "```python\n",
    "p = Pool(8)\n",
    "mgr = Manager()\n",
    "mgr_lock = mgr.Lock()\n",
    "ns = mgr.Namespace()\n",
    "ns.np_arr = np.array([1, 2, 3, 4])\n",
    "ns.my_df = pd.DataFrame({\"A\":[1,2], \"B\":[3,4]})\n",
    "partial_change_ns_arr_and_df = partial(change_ns_arr_and_df, mgr_lock, ns)\n",
    "p.map(partial_change_ns_arr_and_df, [0, 1, 2, 3])\n",
    "```\n",
    "\n",
    "```python\n",
    "ns.np_arr\n",
    "```\n",
    "\n",
    "```python\n",
    "ns.my_df\n",
    "```\n",
    "\n",
    "```{admonition} 练一练\n",
    "在对大型共享数组进行写入时，期间占用的内存量会如何变化？请设计实验说明。\n",
    "```\n",
    "\n",
    "与读取时相似，内存平稳。\n",
    "\n",
    "```python\n",
    "import time\n",
    "from multiprocessing import Pool, shared_memory, Lock\n",
    "import numpy as np\n",
    "from functools import partial\n",
    "def f(shape, dtype, name, n):\n",
    "    my_sm = shared_memory.SharedMemory(name=name)\n",
    "    arr = np.ndarray(shape=shape, dtype=dtype, buffer=my_sm.buf)\n",
    "    time.sleep(n)\n",
    "    part_len = int(1.25e8 / 4)\n",
    "    for i in range(part_len*n, part_len*(n+1)):\n",
    "        arr[i] = 0.0\n",
    "    time.sleep(n)\n",
    "def init_shared_numpy(l):\n",
    "    global lock\n",
    "    lock = l\n",
    "if __name__ == \"__main__\":\n",
    "    lock = Lock()\n",
    "    p = Pool(4, initializer=init_shared_numpy, initargs=[lock])\n",
    "    arr = np.random.rand(int(1.25e8))\n",
    "    shm = shared_memory.SharedMemory(create=True, size=arr.nbytes)\n",
    "    shm_arr = np.ndarray(shape=arr.shape, dtype=arr.dtype, buffer=shm.buf)\n",
    "    shm_arr[:] = arr[:]\n",
    "    time.sleep(5)\n",
    "    del arr\n",
    "    f_ = partial(f, shm_arr.shape, shm_arr.dtype, shm.name)\n",
    "    p.map(f_, range(4))\n",
    "```\n",
    "\n",
    "```{admonition} 练一练\n",
    "请通过实验证明在上述“企图共享”DataFrame的操作中，各进程的rec共享内存，且DataFrame彼此独立。\n",
    "```\n",
    "\n",
    "通过性能监视器可以发现内存在构造DataFrame时大量增加，但子进程内构造rec时几乎无增幅。\n",
    "\n",
    "```python\n",
    "import time\n",
    "from multiprocessing import Pool, shared_memory\n",
    "import numpy as np\n",
    "from functools import partial\n",
    "import pandas as pd\n",
    "def recover_df(shape, dtype, name, n):\n",
    "    my_sm = shared_memory.SharedMemory(name=name)\n",
    "    rec = np.recarray(shape=shape, dtype=dtype, buf=my_sm.buf)\n",
    "    time.sleep(n)\n",
    "    df = pd.DataFrame(rec, copy=False)\n",
    "    time.sleep(n)\n",
    "if __name__ == \"__main__\":\n",
    "    p = Pool(8)\n",
    "    df = pd.DataFrame({\"A\": np.random.rand(int(2e7))})\n",
    "    arr = df.to_records()\n",
    "    shm = shared_memory.SharedMemory(create=True, size=arr.nbytes)\n",
    "    shm_arr = np.ndarray(shape=arr.shape, dtype=arr.dtype, buffer=shm.buf)\n",
    "    shm_arr[:] = arr[:]\n",
    "    time.sleep(5)\n",
    "    del arr\n",
    "    f_ = partial(recover_df, shm_arr.shape, shm_arr.dtype, shm.name)\n",
    "    p.map(f_, [5]*8)\n",
    "```\n",
    "\n",
    "```{admonition} 练一练\n",
    "实现外连接（how=\"outer\"）版本的多进程连接。\n",
    "```\n",
    "\n",
    "外连接和左连接是不同的，不能直接把多进程里面的left改为outer，原因如下代码结果所示："
   ]
  },
  {
   "cell_type": "code",
   "execution_count": 6,
   "id": "a791868f",
   "metadata": {},
   "outputs": [],
   "source": [
    "df1 = pd.DataFrame({\"key\": [\"A\", \"A\", \"B\", \"C\"]})\n",
    "df2 = pd.DataFrame({\"key\": [\"A\", \"B\", \"B\", \"D\"]})\n",
    "part1 = df1.iloc[:2].merge(df2, on=\"key\", how=\"outer\")\n",
    "part2 = df1.iloc[2:].merge(df2, on=\"key\", how=\"outer\")"
   ]
  },
  {
   "cell_type": "code",
   "execution_count": 7,
   "id": "e3779fe4",
   "metadata": {},
   "outputs": [
    {
     "data": {
      "text/html": [
       "<div>\n",
       "<style scoped>\n",
       "    .dataframe tbody tr th:only-of-type {\n",
       "        vertical-align: middle;\n",
       "    }\n",
       "\n",
       "    .dataframe tbody tr th {\n",
       "        vertical-align: top;\n",
       "    }\n",
       "\n",
       "    .dataframe thead th {\n",
       "        text-align: right;\n",
       "    }\n",
       "</style>\n",
       "<table border=\"1\" class=\"dataframe\">\n",
       "  <thead>\n",
       "    <tr style=\"text-align: right;\">\n",
       "      <th></th>\n",
       "      <th>key</th>\n",
       "    </tr>\n",
       "  </thead>\n",
       "  <tbody>\n",
       "    <tr>\n",
       "      <th>0</th>\n",
       "      <td>A</td>\n",
       "    </tr>\n",
       "    <tr>\n",
       "      <th>1</th>\n",
       "      <td>A</td>\n",
       "    </tr>\n",
       "    <tr>\n",
       "      <th>2</th>\n",
       "      <td>B</td>\n",
       "    </tr>\n",
       "    <tr>\n",
       "      <th>3</th>\n",
       "      <td>B</td>\n",
       "    </tr>\n",
       "    <tr>\n",
       "      <th>4</th>\n",
       "      <td>D</td>\n",
       "    </tr>\n",
       "    <tr>\n",
       "      <th>0</th>\n",
       "      <td>B</td>\n",
       "    </tr>\n",
       "    <tr>\n",
       "      <th>1</th>\n",
       "      <td>B</td>\n",
       "    </tr>\n",
       "    <tr>\n",
       "      <th>2</th>\n",
       "      <td>C</td>\n",
       "    </tr>\n",
       "    <tr>\n",
       "      <th>3</th>\n",
       "      <td>A</td>\n",
       "    </tr>\n",
       "    <tr>\n",
       "      <th>4</th>\n",
       "      <td>D</td>\n",
       "    </tr>\n",
       "  </tbody>\n",
       "</table>\n",
       "</div>"
      ],
      "text/plain": [
       "  key\n",
       "0   A\n",
       "1   A\n",
       "2   B\n",
       "3   B\n",
       "4   D\n",
       "0   B\n",
       "1   B\n",
       "2   C\n",
       "3   A\n",
       "4   D"
      ]
     },
     "execution_count": 7,
     "metadata": {},
     "output_type": "execute_result"
    }
   ],
   "source": [
    "pd.concat([part1, part2])"
   ]
  },
  {
   "cell_type": "code",
   "execution_count": 8,
   "id": "3de7cb24",
   "metadata": {},
   "outputs": [
    {
     "data": {
      "text/html": [
       "<div>\n",
       "<style scoped>\n",
       "    .dataframe tbody tr th:only-of-type {\n",
       "        vertical-align: middle;\n",
       "    }\n",
       "\n",
       "    .dataframe tbody tr th {\n",
       "        vertical-align: top;\n",
       "    }\n",
       "\n",
       "    .dataframe thead th {\n",
       "        text-align: right;\n",
       "    }\n",
       "</style>\n",
       "<table border=\"1\" class=\"dataframe\">\n",
       "  <thead>\n",
       "    <tr style=\"text-align: right;\">\n",
       "      <th></th>\n",
       "      <th>key</th>\n",
       "    </tr>\n",
       "  </thead>\n",
       "  <tbody>\n",
       "    <tr>\n",
       "      <th>0</th>\n",
       "      <td>A</td>\n",
       "    </tr>\n",
       "    <tr>\n",
       "      <th>1</th>\n",
       "      <td>A</td>\n",
       "    </tr>\n",
       "    <tr>\n",
       "      <th>2</th>\n",
       "      <td>B</td>\n",
       "    </tr>\n",
       "    <tr>\n",
       "      <th>3</th>\n",
       "      <td>B</td>\n",
       "    </tr>\n",
       "    <tr>\n",
       "      <th>4</th>\n",
       "      <td>C</td>\n",
       "    </tr>\n",
       "    <tr>\n",
       "      <th>5</th>\n",
       "      <td>D</td>\n",
       "    </tr>\n",
       "  </tbody>\n",
       "</table>\n",
       "</div>"
      ],
      "text/plain": [
       "  key\n",
       "0   A\n",
       "1   A\n",
       "2   B\n",
       "3   B\n",
       "4   C\n",
       "5   D"
      ]
     },
     "execution_count": 8,
     "metadata": {},
     "output_type": "execute_result"
    }
   ],
   "source": [
    "df1.merge(df2, how=\"outer\", on=\"key\")"
   ]
  },
  {
   "cell_type": "markdown",
   "id": "3581e3d6",
   "metadata": {},
   "source": [
    "但是可以如下拆分："
   ]
  },
  {
   "cell_type": "code",
   "execution_count": 9,
   "id": "e80e2ee1",
   "metadata": {},
   "outputs": [
    {
     "data": {
      "text/html": [
       "<div>\n",
       "<style scoped>\n",
       "    .dataframe tbody tr th:only-of-type {\n",
       "        vertical-align: middle;\n",
       "    }\n",
       "\n",
       "    .dataframe tbody tr th {\n",
       "        vertical-align: top;\n",
       "    }\n",
       "\n",
       "    .dataframe thead th {\n",
       "        text-align: right;\n",
       "    }\n",
       "</style>\n",
       "<table border=\"1\" class=\"dataframe\">\n",
       "  <thead>\n",
       "    <tr style=\"text-align: right;\">\n",
       "      <th></th>\n",
       "      <th>key</th>\n",
       "    </tr>\n",
       "  </thead>\n",
       "  <tbody>\n",
       "    <tr>\n",
       "      <th>0</th>\n",
       "      <td>A</td>\n",
       "    </tr>\n",
       "    <tr>\n",
       "      <th>1</th>\n",
       "      <td>A</td>\n",
       "    </tr>\n",
       "    <tr>\n",
       "      <th>2</th>\n",
       "      <td>B</td>\n",
       "    </tr>\n",
       "    <tr>\n",
       "      <th>3</th>\n",
       "      <td>B</td>\n",
       "    </tr>\n",
       "    <tr>\n",
       "      <th>4</th>\n",
       "      <td>C</td>\n",
       "    </tr>\n",
       "    <tr>\n",
       "      <th>5</th>\n",
       "      <td>D</td>\n",
       "    </tr>\n",
       "  </tbody>\n",
       "</table>\n",
       "</div>"
      ],
      "text/plain": [
       "  key\n",
       "0   A\n",
       "1   A\n",
       "2   B\n",
       "3   B\n",
       "4   C\n",
       "5   D"
      ]
     },
     "execution_count": 9,
     "metadata": {},
     "output_type": "execute_result"
    }
   ],
   "source": [
    "part1_1 = df1.iloc[:2]\n",
    "part1_2 = df1.iloc[2:]\n",
    "part2 = df2.loc[~df2.key.isin(df1.key)]\n",
    "pd.concat([\n",
    "    part1_1.merge(df2, how=\"left\", on=\"key\"),\n",
    "    part1_2.merge(df2, how=\"left\", on=\"key\"),\n",
    "    part1.merge(part2, how=\"right\", on=\"key\")\n",
    "], ignore_index=True)"
   ]
  },
  {
   "cell_type": "markdown",
   "id": "e8f189e1",
   "metadata": {},
   "source": [
    "```python\n",
    "def outer_merge(df_a, df_b, how):\n",
    "    return df_a.merge(df_b, how=how, on=\"key\")\n",
    "```\n",
    "\n",
    "```python\n",
    "data = zip(\n",
    "    [df1.iloc[:2], df1.iloc[2:], df2.loc[~df2.key.isin(df1.key)]],\n",
    "    [df2, df2, part2],\n",
    "    [\"left\", \"left\", \"right\"]\n",
    ")\n",
    "p = Pool(3)\n",
    "res = p.starmap(outer_merge, data)\n",
    "pd.concat(res, ignore_index=True)\n",
    "```\n",
    "\n",
    "```{admonition} 练一练\n",
    "在第10章中我们学习了resample，并了解到它本质上是一种特殊的分组。请构造1个利用多进程解决resample操作的例子。\n",
    "```"
   ]
  },
  {
   "cell_type": "code",
   "execution_count": 10,
   "id": "59a03634",
   "metadata": {},
   "outputs": [
    {
     "data": {
      "text/plain": [
       "2020-01-31    0.570909\n",
       "2020-02-29    0.458160\n",
       "2020-03-31    0.415039\n",
       "2020-04-30    0.550043\n",
       "2020-05-31    0.555079\n",
       "2020-06-30    0.468469\n",
       "2020-07-31    0.469930\n",
       "2020-08-31    0.465624\n",
       "2020-09-30    0.533202\n",
       "2020-10-31    0.546478\n",
       "2020-11-30    0.391546\n",
       "2020-12-31    0.471282\n",
       "Freq: M, dtype: float64"
      ]
     },
     "execution_count": 10,
     "metadata": {},
     "output_type": "execute_result"
    }
   ],
   "source": [
    "s = pd.Series(np.random.rand(366), index=pd.date_range(\"20200101\", \"20201231\"))\n",
    "s.resample(\"M\").mean()"
   ]
  },
  {
   "cell_type": "markdown",
   "id": "6ede0ee5",
   "metadata": {},
   "source": [
    "```python\n",
    "def resample_multiprocessing(s):\n",
    "    return s.resample(\"M\").mean()\n",
    "```\n",
    "\n",
    "```python\n",
    "p = Pool(3)\n",
    "res = p.map(resample_multiprocessing, [s[:\"2020-06\"], s[:\"2020-06\":]])\n",
    "pd.concat(res)\n",
    "```\n",
    "\n",
    "\n",
    "```{admonition} 练一练\n",
    "在4进程下，重做上述时序滑窗的例子，尽可能简洁地处理滑窗的边界情况。\n",
    "```\n",
    "\n",
    "```python\n",
    "np.random.seed(0)\n",
    "dr = pd.date_range(\"20190101\", \"20201231\")\n",
    "dr = np.sort(np.random.choice(dr, int(400), replace=False))\n",
    "dr = pd.to_datetime(dr)\n",
    "s = pd.Series(np.random.randint(0, 100, 400), index=dr)\n",
    "s.head()\n",
    "```\n",
    "\n",
    "```python\n",
    "def rolling_multi(s, start):\n",
    "    return s.rolling(\"10D\").sum()[start:]\n",
    "```\n",
    "\n",
    "```python\n",
    "cut_start = [dr[0], dr[100], dr[200], dr[300]]\n",
    "cut_end = [dr[99], dr[199], dr[299], dr[-1]]\n",
    "ofst = pd.Timedelta(\"10D\") # offset\n",
    "adjust = [dr[0], dr[100]-ofst, dr[200]-ofst, dr[300]-ofst, dr[-1]]\n",
    "p = Pool(4)\n",
    "data = zip([s[adjust[i]:cut_end[i]] for i in range(4)], cut_start)\n",
    "res = pd.concat(p.starmap(rolling_multi, data))\n",
    "res.equals(s.rolling(\"10D\").sum())\n",
    "```\n",
    "\n",
    "```{admonition} 练一练\n",
    "结合上述类型声明的例子，完成以下任务：\n",
    "- 数组参数声明为float64_t的函数能否接收dtype=\"float32\"的numpy数组？反之是否可行？请用实验说明。\n",
    "- 若当前的输入数组为test_array = np.random.randint(0, 10, int(1e6))，且用户希望输出的数组类型和输入类型一致，请修改代码实现。（提示：查看np.empty返回数组的类型）\n",
    "```\n",
    "\n",
    "- 1\n",
    "\n",
    "不能，且反之也不能"
   ]
  },
  {
   "cell_type": "code",
   "execution_count": 11,
   "id": "6f2a661e",
   "metadata": {},
   "outputs": [],
   "source": [
    "%load_ext cython"
   ]
  },
  {
   "cell_type": "code",
   "execution_count": 12,
   "id": "cc1a86a8",
   "metadata": {},
   "outputs": [],
   "source": [
    "%%cython\n",
    "cimport numpy as np\n",
    "import numpy as np\n",
    "\n",
    "def cy_multiply_64(np.ndarray[np.float64_t, ndim=1] np_array):\n",
    "    cdef:\n",
    "        int length = np_array.shape[0]\n",
    "        np.ndarray[np.float64_t, ndim=1] res = np.empty(length)\n",
    "        Py_ssize_t i\n",
    "    for i in range(length):\n",
    "        res[i] = np_array[i] * 2\n",
    "    return res\n",
    "\n",
    "def cy_multiply_32(np.ndarray[np.float32_t, ndim=1] np_array):\n",
    "    cdef:\n",
    "        int length = np_array.shape[0]\n",
    "        np.ndarray[np.float64_t, ndim=1] res = np.empty(length)\n",
    "        Py_ssize_t i\n",
    "    for i in range(length):\n",
    "        res[i] = np_array[i] * 2\n",
    "    return res"
   ]
  },
  {
   "cell_type": "code",
   "execution_count": 13,
   "id": "a1f1c65e",
   "metadata": {
    "tags": [
     "raises-exception"
    ]
   },
   "outputs": [
    {
     "ename": "ValueError",
     "evalue": "Buffer dtype mismatch, expected 'float64_t' but got 'float'",
     "output_type": "error",
     "traceback": [
      "\u001b[1;31m---------------------------------------------------------------------------\u001b[0m",
      "\u001b[1;31mValueError\u001b[0m                                Traceback (most recent call last)",
      "Input \u001b[1;32mIn [13]\u001b[0m, in \u001b[0;36m<module>\u001b[1;34m\u001b[0m\n\u001b[1;32m----> 1\u001b[0m \u001b[43mcy_multiply_64\u001b[49m\u001b[43m(\u001b[49m\u001b[43mnp\u001b[49m\u001b[38;5;241;43m.\u001b[39;49m\u001b[43marray\u001b[49m\u001b[43m(\u001b[49m\u001b[43m[\u001b[49m\u001b[38;5;241;43m1.\u001b[39;49m\u001b[43m]\u001b[49m\u001b[43m,\u001b[49m\u001b[43m \u001b[49m\u001b[43mdtype\u001b[49m\u001b[38;5;241;43m=\u001b[39;49m\u001b[38;5;124;43m\"\u001b[39;49m\u001b[38;5;124;43mfloat32\u001b[39;49m\u001b[38;5;124;43m\"\u001b[39;49m\u001b[43m)\u001b[49m\u001b[43m)\u001b[49m\n",
      "File \u001b[1;32m_cython_magic_7abce65eea69a2adce452f237f62b933.pyx:4\u001b[0m, in \u001b[0;36m_cython_magic_7abce65eea69a2adce452f237f62b933.cy_multiply_64\u001b[1;34m()\u001b[0m\n",
      "\u001b[1;31mValueError\u001b[0m: Buffer dtype mismatch, expected 'float64_t' but got 'float'"
     ]
    }
   ],
   "source": [
    "cy_multiply_64(np.array([1.], dtype=\"float32\"))"
   ]
  },
  {
   "cell_type": "code",
   "execution_count": 14,
   "id": "35a60c07",
   "metadata": {
    "tags": [
     "raises-exception"
    ]
   },
   "outputs": [
    {
     "ename": "ValueError",
     "evalue": "Buffer dtype mismatch, expected 'float32_t' but got 'double'",
     "output_type": "error",
     "traceback": [
      "\u001b[1;31m---------------------------------------------------------------------------\u001b[0m",
      "\u001b[1;31mValueError\u001b[0m                                Traceback (most recent call last)",
      "Input \u001b[1;32mIn [14]\u001b[0m, in \u001b[0;36m<module>\u001b[1;34m\u001b[0m\n\u001b[1;32m----> 1\u001b[0m \u001b[43mcy_multiply_32\u001b[49m\u001b[43m(\u001b[49m\u001b[43mnp\u001b[49m\u001b[38;5;241;43m.\u001b[39;49m\u001b[43marray\u001b[49m\u001b[43m(\u001b[49m\u001b[43m[\u001b[49m\u001b[38;5;241;43m1.\u001b[39;49m\u001b[43m]\u001b[49m\u001b[43m,\u001b[49m\u001b[43m \u001b[49m\u001b[43mdtype\u001b[49m\u001b[38;5;241;43m=\u001b[39;49m\u001b[38;5;124;43m\"\u001b[39;49m\u001b[38;5;124;43mfloat64\u001b[39;49m\u001b[38;5;124;43m\"\u001b[39;49m\u001b[43m)\u001b[49m\u001b[43m)\u001b[49m\n",
      "File \u001b[1;32m_cython_magic_7abce65eea69a2adce452f237f62b933.pyx:13\u001b[0m, in \u001b[0;36m_cython_magic_7abce65eea69a2adce452f237f62b933.cy_multiply_32\u001b[1;34m()\u001b[0m\n",
      "\u001b[1;31mValueError\u001b[0m: Buffer dtype mismatch, expected 'float32_t' but got 'double'"
     ]
    }
   ],
   "source": [
    "cy_multiply_32(np.array([1.], dtype=\"float64\"))"
   ]
  },
  {
   "cell_type": "markdown",
   "id": "4d4f3b41",
   "metadata": {},
   "source": [
    "- 2"
   ]
  },
  {
   "cell_type": "code",
   "execution_count": 15,
   "id": "25694cc5",
   "metadata": {},
   "outputs": [],
   "source": [
    "%%cython\n",
    "cimport numpy as np\n",
    "import numpy as np\n",
    "\n",
    "def cy_multiply_int(np.ndarray[np.int32_t, ndim=1] np_array):\n",
    "    cdef:\n",
    "        int length = np_array.shape[0]\n",
    "        np.ndarray[np.int32_t, ndim=1] res = np.empty(length, dtype=\"int32\")\n",
    "        Py_ssize_t i\n",
    "    for i in range(length):\n",
    "        res[i] = np_array[i] * 2\n",
    "    return res"
   ]
  },
  {
   "cell_type": "code",
   "execution_count": 16,
   "id": "241738d0",
   "metadata": {},
   "outputs": [
    {
     "data": {
      "text/plain": [
       "dtype('int32')"
      ]
     },
     "execution_count": 16,
     "metadata": {},
     "output_type": "execute_result"
    }
   ],
   "source": [
    "test_array = np.random.randint(0, 10, int(1e6))\n",
    "res = cy_multiply_int(test_array)\n",
    "res.dtype"
   ]
  },
  {
   "cell_type": "markdown",
   "id": "6a68561b",
   "metadata": {},
   "source": [
    "```{admonition} 练一练\n",
    "请用cython实现第八章中str对象上的contains方法（不要求正则）、len方法和zfill方法，并进行性能对比。（提示：对于布尔类型的一维NumPy数组，可以使用np.ndarray[np.npy_bool, ndim=1]声明类型）\n",
    "```"
   ]
  },
  {
   "cell_type": "code",
   "execution_count": 17,
   "id": "cdc78258",
   "metadata": {},
   "outputs": [],
   "source": [
    "%%cython\n",
    "import numpy as np\n",
    "cimport numpy as np\n",
    "\n",
    "def str_contains(np.ndarray[np.str, ndim=1] arr, np.str s):\n",
    "    cdef:\n",
    "        Py_ssize_t i\n",
    "        int n = arr.shape[0]\n",
    "        np.ndarray[np.uint8_t, ndim = 1, cast=True] res = np.empty(n, dtype=\"bool\")\n",
    "    for i in range(n):\n",
    "        res[i] = s in arr[i]\n",
    "    return res\n",
    "\n",
    "def str_len(np.ndarray[np.str, ndim=1] arr):\n",
    "    cdef:\n",
    "        Py_ssize_t i\n",
    "        int n = arr.shape[0]\n",
    "        np.ndarray[int, ndim=1] res = np.empty(n, dtype=\"int32\")\n",
    "    for i in range(n):\n",
    "        res[i] = len(arr[i])\n",
    "    return res\n",
    "\n",
    "\n",
    "def str_zfill(np.ndarray[np.str, ndim=1] arr, int pad):\n",
    "    cdef:\n",
    "        Py_ssize_t i\n",
    "        int n = arr.shape[0]\n",
    "        np.ndarray[np.str, ndim=1] res = np.empty(n, dtype=object)\n",
    "    for i in range(n):\n",
    "        res[i] = \"0\"*max(0, pad-len(arr[i])) + arr[i]\n",
    "    return res"
   ]
  },
  {
   "cell_type": "code",
   "execution_count": 18,
   "id": "617d6043",
   "metadata": {},
   "outputs": [
    {
     "data": {
      "text/plain": [
       "array([ True,  True, False])"
      ]
     },
     "execution_count": 18,
     "metadata": {},
     "output_type": "execute_result"
    }
   ],
   "source": [
    "arr = np.array([\"apple\", \"banana\", \"cycle\"]).astype(\"object\")\n",
    "str_contains(arr, \"a\")"
   ]
  },
  {
   "cell_type": "code",
   "execution_count": 19,
   "id": "8097a857",
   "metadata": {},
   "outputs": [
    {
     "data": {
      "text/plain": [
       "array([5, 6, 5])"
      ]
     },
     "execution_count": 19,
     "metadata": {},
     "output_type": "execute_result"
    }
   ],
   "source": [
    "str_len(arr)"
   ]
  },
  {
   "cell_type": "code",
   "execution_count": 20,
   "id": "725084a1",
   "metadata": {},
   "outputs": [
    {
     "data": {
      "text/plain": [
       "array(['000apple', '00banana', '000cycle'], dtype=object)"
      ]
     },
     "execution_count": 20,
     "metadata": {},
     "output_type": "execute_result"
    }
   ],
   "source": [
    "str_zfill(arr, 8)"
   ]
  },
  {
   "cell_type": "code",
   "execution_count": 21,
   "id": "6161ca63",
   "metadata": {},
   "outputs": [],
   "source": [
    "arr = np.array([\"\".join(np.random.choice(list(\"1234567890\"), 5)) for i in range(int(1e5))])\n",
    "arr = arr.astype(\"object\")\n",
    "s = pd.Series(arr)"
   ]
  },
  {
   "cell_type": "code",
   "execution_count": 22,
   "id": "84a2c421",
   "metadata": {},
   "outputs": [
    {
     "name": "stdout",
     "output_type": "stream",
     "text": [
      "2.02 ms ± 26.1 µs per loop (mean ± std. dev. of 7 runs, 1,000 loops each)\n"
     ]
    }
   ],
   "source": [
    "%timeit str_contains(arr, \"1\")"
   ]
  },
  {
   "cell_type": "code",
   "execution_count": 23,
   "id": "d69f1e89",
   "metadata": {},
   "outputs": [
    {
     "name": "stdout",
     "output_type": "stream",
     "text": [
      "39.6 ms ± 1.15 ms per loop (mean ± std. dev. of 7 runs, 10 loops each)\n"
     ]
    }
   ],
   "source": [
    "%timeit s.str.contains(\"1\")"
   ]
  },
  {
   "cell_type": "code",
   "execution_count": 24,
   "id": "b92dc6b4",
   "metadata": {},
   "outputs": [
    {
     "name": "stdout",
     "output_type": "stream",
     "text": [
      "469 µs ± 28.1 µs per loop (mean ± std. dev. of 7 runs, 1,000 loops each)\n"
     ]
    }
   ],
   "source": [
    "%timeit str_len(arr)"
   ]
  },
  {
   "cell_type": "code",
   "execution_count": 25,
   "id": "cfb7e99c",
   "metadata": {},
   "outputs": [
    {
     "name": "stdout",
     "output_type": "stream",
     "text": [
      "27.8 ms ± 506 µs per loop (mean ± std. dev. of 7 runs, 10 loops each)\n"
     ]
    }
   ],
   "source": [
    "%timeit s.str.len()"
   ]
  },
  {
   "cell_type": "code",
   "execution_count": 26,
   "id": "d9014d7d",
   "metadata": {},
   "outputs": [
    {
     "name": "stdout",
     "output_type": "stream",
     "text": [
      "13.3 ms ± 474 µs per loop (mean ± std. dev. of 7 runs, 100 loops each)\n"
     ]
    }
   ],
   "source": [
    "%timeit str_zfill(arr, 10)"
   ]
  },
  {
   "cell_type": "code",
   "execution_count": 27,
   "id": "4602a8e8",
   "metadata": {},
   "outputs": [
    {
     "name": "stdout",
     "output_type": "stream",
     "text": [
      "31.6 ms ± 1.97 ms per loop (mean ± std. dev. of 7 runs, 10 loops each)\n"
     ]
    }
   ],
   "source": [
    "%timeit s.str.zfill(10)"
   ]
  },
  {
   "cell_type": "markdown",
   "id": "578fe127",
   "metadata": {},
   "source": [
    "```{admonition} 练一练\n",
    "在数组倍乘的例子中，事实上最耗时的部分在于对结果数组的内存分配，因此此处的多线程性能提高程度有限。如果进行的是无需分配内存或分配少量内存的并行操作，那么就可以获得更为可观的性能提升。请利用构造一个函数计算一个二维（1000*1000）数组的元素和，并与numpy比较性能。\n",
    "```"
   ]
  },
  {
   "cell_type": "code",
   "execution_count": 28,
   "id": "2aae3076",
   "metadata": {},
   "outputs": [],
   "source": [
    "%%cython --compile-args=-fopenmp --link-args=-fopenmp\n",
    "\n",
    "cimport numpy as np\n",
    "import numpy as np\n",
    "import cython\n",
    "from cython.parallel import prange\n",
    "\n",
    "@cython.boundscheck(False)\n",
    "@cython.wraparound(False)\n",
    "def sum_2d_array(np.ndarray[double, ndim=2] np_array):\n",
    "    cdef:\n",
    "        int n = np_array.shape[0]\n",
    "        double res = 0.0\n",
    "        Py_ssize_t i, j\n",
    "    for i in prange(n, nogil=True):\n",
    "        for j in range(n):\n",
    "            res += np_array[i, j]\n",
    "    return res"
   ]
  },
  {
   "cell_type": "code",
   "execution_count": 29,
   "id": "0b79952e",
   "metadata": {},
   "outputs": [
    {
     "name": "stdout",
     "output_type": "stream",
     "text": [
      "366 µs ± 4.45 µs per loop (mean ± std. dev. of 7 runs, 1,000 loops each)\n"
     ]
    }
   ],
   "source": [
    "arr = np.random.rand(1000, 1000)\n",
    "%timeit sum_2d_array(arr)"
   ]
  },
  {
   "cell_type": "code",
   "execution_count": 30,
   "id": "424983c8",
   "metadata": {},
   "outputs": [
    {
     "name": "stdout",
     "output_type": "stream",
     "text": [
      "844 µs ± 80.9 µs per loop (mean ± std. dev. of 7 runs, 1,000 loops each)\n"
     ]
    }
   ],
   "source": [
    "%timeit arr.sum()"
   ]
  },
  {
   "cell_type": "markdown",
   "id": "596f5668",
   "metadata": {},
   "source": [
    "```{admonition} 练一练\n",
    "结合上述知识，完成如下练习：\n",
    "- 构造一个翻转图片的函数，翻转方式turn_type包括上下翻转和左右翻转，其调用方式为turn(img_arr, turn_type)。\n",
    "- 构造一个旋转图片的函数，其调用方式为rotate(img_arr, angle)，其中angle为顺时针的旋转角度，仅取能够被90整除的整数，即$0,\\pm 90,\\pm 180,\\pm 270,...$等。\n",
    "```\n",
    "\n",
    "- 1"
   ]
  },
  {
   "cell_type": "code",
   "execution_count": 31,
   "id": "08636be9",
   "metadata": {},
   "outputs": [],
   "source": [
    "%%cython --compile-args=-fopenmp --link-args=-fopenmp\n",
    "from cython.parallel import prange\n",
    "cimport numpy as np\n",
    "import numpy as np\n",
    "import cython\n",
    "\n",
    "@cython.boundscheck(False)\n",
    "@cython.wraparound(False)\n",
    "def cy_picture_flip(int[:, :, :] arr, np.str turn_type):\n",
    "    cdef:\n",
    "        int axis_1, axis_2\n",
    "        int height = arr.shape[0]\n",
    "        int width = arr.shape[1]\n",
    "        int[:, :, :] result = np.empty((height, width, 3), dtype=\"int32\")\n",
    "        Py_ssize_t i, j\n",
    "    if turn_type == \"up-down\":\n",
    "        for i in prange(width, nogil=True):\n",
    "            for j in range(height):\n",
    "                result[i, j, :] = arr[height-i-1, j, :]\n",
    "    elif turn_type == \"left-right\":\n",
    "        for i in prange(height, nogil=True):\n",
    "            for j in range(width):\n",
    "                result[i, j, :] = arr[i, width-j-1, :]\n",
    "    else:\n",
    "        raise ValueError(\"turn_type is wrong!\")\n",
    "    return np.asarray(result)"
   ]
  },
  {
   "cell_type": "code",
   "execution_count": 32,
   "id": "a9c02a58",
   "metadata": {},
   "outputs": [],
   "source": [
    "from PIL import Image\n",
    "img = Image.open(\"data/ch13/piano.png\")\n",
    "img_arr = np.array(img).astype(\"int\")[:,:,:3]"
   ]
  },
  {
   "cell_type": "code",
   "execution_count": 33,
   "id": "106b4849",
   "metadata": {},
   "outputs": [
    {
     "data": {
      "image/png": "[encoded data removed]",
      "text/plain": [
       "<PIL.Image.Image image mode=RGB size=300x300 at 0x2140094CAF0>"
      ]
     },
     "execution_count": 33,
     "metadata": {
      "filenames": {
       "image/png": "C:\\Users\\gyh\\Desktop\\项目\\【图书出版】pandas\\pd-book\\docs\\jupyter_execute\\solution13_41_0.png"
      }
     },
     "output_type": "execute_result"
    }
   ],
   "source": [
    "arr_flip = cy_picture_flip(img_arr, \"up-down\")\n",
    "Image.fromarray(arr_flip.astype('uint8')).convert('RGB')"
   ]
  },
  {
   "cell_type": "code",
   "execution_count": 34,
   "id": "d4513997",
   "metadata": {},
   "outputs": [
    {
     "data": {
      "image/png": "[encoded data removed]",
      "text/plain": [
       "<PIL.Image.Image image mode=RGB size=300x300 at 0x214035CA700>"
      ]
     },
     "execution_count": 34,
     "metadata": {
      "filenames": {
       "image/png": "C:\\Users\\gyh\\Desktop\\项目\\【图书出版】pandas\\pd-book\\docs\\jupyter_execute\\solution13_42_0.png"
      }
     },
     "output_type": "execute_result"
    }
   ],
   "source": [
    "arr_flip = cy_picture_flip(img_arr, \"left-right\")\n",
    "Image.fromarray(arr_flip.astype('uint8')).convert('RGB')"
   ]
  },
  {
   "cell_type": "markdown",
   "id": "25286aa2",
   "metadata": {},
   "source": [
    "- 2"
   ]
  },
  {
   "cell_type": "code",
   "execution_count": 35,
   "id": "5348a419",
   "metadata": {},
   "outputs": [],
   "source": [
    "%%cython --compile-args=-fopenmp --link-args=-fopenmp\n",
    "from cython.parallel import prange\n",
    "cimport numpy as np\n",
    "import numpy as np\n",
    "import cython\n",
    "\n",
    "@cython.boundscheck(False)\n",
    "@cython.wraparound(False)\n",
    "def cy_picture_rotate(int[:, :, :] arr):\n",
    "    cdef:\n",
    "        int height = arr.shape[0]\n",
    "        int width = arr.shape[1]\n",
    "        int[:, :, :] result = np.empty((width, height, 3), dtype=\"int32\")\n",
    "        Py_ssize_t i, j\n",
    "    for i in prange(width, nogil=True):\n",
    "        for j in range(height):\n",
    "            result[i, j, :] = arr[width-j-1, i, :]\n",
    "    return np.asarray(result)"
   ]
  },
  {
   "cell_type": "code",
   "execution_count": 36,
   "id": "6b09834d",
   "metadata": {},
   "outputs": [],
   "source": [
    "def rotate(img, angle):\n",
    "    if angle % 90 != 0:\n",
    "        raise ValueError(\"wrong angle!\")\n",
    "    while angle != 0:\n",
    "        img = cy_picture_rotate(img)\n",
    "        angle += 90 if angle < 0 else -90\n",
    "    return img"
   ]
  },
  {
   "cell_type": "code",
   "execution_count": 37,
   "id": "798a54f3",
   "metadata": {},
   "outputs": [
    {
     "data": {
      "image/png": "[encoded data removed]",
      "text/plain": [
       "<PIL.Image.Image image mode=RGB size=300x300 at 0x214035CA8E0>"
      ]
     },
     "execution_count": 37,
     "metadata": {
      "filenames": {
       "image/png": "C:\\Users\\gyh\\Desktop\\项目\\【图书出版】pandas\\pd-book\\docs\\jupyter_execute\\solution13_46_0.png"
      }
     },
     "output_type": "execute_result"
    }
   ],
   "source": [
    "arr_flip = rotate(img_arr, 270)\n",
    "Image.fromarray(arr_flip.astype('uint8')).convert('RGB')"
   ]
  },
  {
   "cell_type": "markdown",
   "id": "f8c09374",
   "metadata": {},
   "source": [
    "```{admonition} 练一练\n",
    "若字符串为my_string，则my_string.count(\"x\")可以统计字符串中字符x的个数。现有一个长度为$10^7$的字符串，其中的字符仅包含a、b、c、d、e、f、g，请使用Cython的多线程操作统计字符a的个数，并与Python字符串上的内置函数count比较性能。\n",
    "```"
   ]
  },
  {
   "cell_type": "code",
   "execution_count": 38,
   "id": "23f535b0",
   "metadata": {},
   "outputs": [],
   "source": [
    "%%cython --compile-args=-fopenmp --link-args=-fopenmp\n",
    "#distutils: language = c++\n",
    "import numpy as np\n",
    "cimport numpy as np\n",
    "from cython.parallel import prange\n",
    "from libcpp.string cimport string\n",
    "from libcpp.vector cimport vector\n",
    "\n",
    "cdef extern from \"Python.h\":\n",
    "    const char* PyUnicode_AsUTF8(object unicode)\n",
    "\n",
    "def multi_thread_count(np.str _s, np.str _c):\n",
    "    cdef:\n",
    "        Py_ssize_t i\n",
    "        int n = len(_s)\n",
    "        int count = 0\n",
    "        string s = <string>PyUnicode_AsUTF8(_s)\n",
    "        string c = <string>PyUnicode_AsUTF8(_c)\n",
    "    for i in prange(n, nogil=True):\n",
    "        if s[i] == c[0]:\n",
    "            count += 1\n",
    "    return count"
   ]
  },
  {
   "cell_type": "code",
   "execution_count": 39,
   "id": "1a1fd8e3",
   "metadata": {},
   "outputs": [
    {
     "data": {
      "text/plain": [
       "True"
      ]
     },
     "execution_count": 39,
     "metadata": {},
     "output_type": "execute_result"
    }
   ],
   "source": [
    "s = \"\".join(np.random.choice(list(\"abcdefg\"), int(1e7)))\n",
    "multi_thread_count(s, \"a\") == s.count(\"a\")"
   ]
  },
  {
   "cell_type": "code",
   "execution_count": 40,
   "id": "48d0956a",
   "metadata": {},
   "outputs": [
    {
     "name": "stdout",
     "output_type": "stream",
     "text": [
      "20.3 ms ± 611 µs per loop (mean ± std. dev. of 7 runs, 100 loops each)\n"
     ]
    }
   ],
   "source": [
    "%timeit s.count(\"a\")"
   ]
  },
  {
   "cell_type": "code",
   "execution_count": 41,
   "id": "c7f50b37",
   "metadata": {},
   "outputs": [
    {
     "name": "stdout",
     "output_type": "stream",
     "text": [
      "15.6 ms ± 749 µs per loop (mean ± std. dev. of 7 runs, 100 loops each)\n"
     ]
    }
   ],
   "source": [
    "%timeit multi_thread_count(s, \"a\")"
   ]
  },
  {
   "cell_type": "markdown",
   "id": "f556a152",
   "metadata": {},
   "source": [
    "````{admonition} 练一练\n",
    "给定一个含有缺失值的一维数组，假设其首元素非缺失值，请按照如下规则从头到尾依次进行填充：\n",
    "- 若当前元素非缺失值，则直接保留。\n",
    "- 若当前元素为缺失值且元素在数组中的索引（从0计数）小于k（$k>=2$），则使用当前位置前所有元素的均值填充，如果之前元素在原数组为缺失值，则使用其填充的值。\n",
    "- 若当前元素为缺失值且元素在数组中的索引不小于k，则使用当前元素之前k个位置的元素均值进行填充，如果之前元素在原数组为缺失值，则使用其填充的值。\n",
    "下面给出了两个例子：\n",
    "\n",
    "```python3\n",
    ">>> k = 4\n",
    ">>> arr = np.array([1, np.nan, np.nan, 4, 5, np.nan, np.nan, 7, np.nan])\n",
    ">>> fill_arr(arr, k)\n",
    "array([1.        , 1.        , 1.        , 4.        , 5.        ,\n",
    "       3.33333333, 4.11111111, 7.        , 4.81481481])\n",
    "```\n",
    "\n",
    "```python3\n",
    ">>> k = 5\n",
    ">>> arr = np.array([2, np.nan, 4, np.nan, 6, np.nan, 8, np.nan])\n",
    ">>> fill_arr(arr, k)\n",
    "array([2.        , 2.        , 4.        , 2.66666667, 6.        ,\n",
    "       3.33333333, 8.        , 4.8       ])\n",
    "```\n",
    "````"
   ]
  },
  {
   "cell_type": "code",
   "execution_count": 42,
   "id": "8dcb4b3e",
   "metadata": {},
   "outputs": [],
   "source": [
    "from numba import njit\n",
    "@njit\n",
    "def fill_arr(arr, k):\n",
    "    n = arr.shape[0]\n",
    "    for i in range(n):\n",
    "        if np.isnan(arr[i]):\n",
    "            temp_sum = 0\n",
    "            for j in range(max(0, i-k), i):\n",
    "                temp_sum += arr[j]\n",
    "            arr[i] = temp_sum / (i - max(0, i-k))\n",
    "    return arr"
   ]
  },
  {
   "cell_type": "markdown",
   "id": "d9aaeda4",
   "metadata": {},
   "source": [
    "```{admonition} 练一练\n",
    "完成如下问题：\n",
    "- 请基于numba实现与本小节开头np.add案例功能类似的vectorize版本。\n",
    "- 请再构造1个利用向量化装饰器自定义ufunc进行广播操作的例子。\n",
    "```\n",
    "\n",
    "- 1"
   ]
  },
  {
   "cell_type": "code",
   "execution_count": 43,
   "id": "85822e95",
   "metadata": {},
   "outputs": [
    {
     "data": {
      "text/plain": [
       "array([[2, 3],\n",
       "       [3, 4]], dtype=int64)"
      ]
     },
     "execution_count": 43,
     "metadata": {},
     "output_type": "execute_result"
    }
   ],
   "source": [
    "from numba import vectorize\n",
    "@vectorize(nopython=True)\n",
    "def vec_add(a, b):\n",
    "    return a + b\n",
    "arr1 = np.array([1, 2])\n",
    "arr2 = np.array([[1], [2]])\n",
    "vec_add(arr1, arr2)"
   ]
  },
  {
   "cell_type": "markdown",
   "id": "ddc6cf65",
   "metadata": {},
   "source": [
    "- 2"
   ]
  },
  {
   "cell_type": "code",
   "execution_count": 44,
   "id": "46ab473f",
   "metadata": {},
   "outputs": [
    {
     "data": {
      "text/plain": [
       "array([[2, 5],\n",
       "       [5, 8]], dtype=int64)"
      ]
     },
     "execution_count": 44,
     "metadata": {},
     "output_type": "execute_result"
    }
   ],
   "source": [
    "from numba import vectorize\n",
    "@vectorize(nopython=True)\n",
    "def vec_power_sum(a, b):\n",
    "    return a**2 + b**2\n",
    "arr1 = np.array([1, 2])\n",
    "arr2 = np.array([[1], [2]])\n",
    "vec_power_sum(arr1, arr2)"
   ]
  },
  {
   "cell_type": "markdown",
   "id": "cf3ba83d",
   "metadata": {},
   "source": [
    "```{admonition} 练一练\n",
    "请用向量化装饰器对n对矩阵同时进行矩阵乘法的操作，即给定$n\\times k_1\\times k_2$和$n\\times k_2\\times k_3$的2个数组，按照外层维度对2个数组相应位置的矩阵进行矩阵乘法，返回结果为$n\\times k_1\\times k_3$的数组。\n",
    "```"
   ]
  },
  {
   "cell_type": "code",
   "execution_count": 45,
   "id": "63cfba4f",
   "metadata": {},
   "outputs": [
    {
     "data": {
      "text/plain": [
       "True"
      ]
     },
     "execution_count": 45,
     "metadata": {},
     "output_type": "execute_result"
    }
   ],
   "source": [
    "from numba import guvectorize\n",
    "@guvectorize([\"(float64[:, :], float64[:, :], float64[:, :])\"],\n",
    "              \"(n,p),(p,m)->(n,m)\", nopython=True)\n",
    "def numba_matrix_multiply(A, B, res):\n",
    "    res[:, :] = np.ascontiguousarray(A).dot(np.ascontiguousarray(B))\n",
    "A = np.random.rand(100, 300, 500)\n",
    "B = np.random.rand(100, 500, 400)\n",
    "nb_res = numba_matrix_multiply(A, B)\n",
    "np_res = np.matmul(A, B)\n",
    "np.equal(nb_res, np_res).all()"
   ]
  },
  {
   "cell_type": "code",
   "execution_count": 46,
   "id": "dc933f56",
   "metadata": {},
   "outputs": [
    {
     "name": "stdout",
     "output_type": "stream",
     "text": [
      "249 ms ± 10.6 ms per loop (mean ± std. dev. of 7 runs, 1 loop each)\n"
     ]
    }
   ],
   "source": [
    "%timeit numba_matrix_multiply(A, B)"
   ]
  },
  {
   "cell_type": "code",
   "execution_count": 47,
   "id": "6c1b5cf3",
   "metadata": {},
   "outputs": [
    {
     "name": "stdout",
     "output_type": "stream",
     "text": [
      "251 ms ± 16.1 ms per loop (mean ± std. dev. of 7 runs, 1 loop each)\n"
     ]
    }
   ],
   "source": [
    "%timeit np.matmul(A, B)"
   ]
  },
  {
   "cell_type": "markdown",
   "id": "c9e95991",
   "metadata": {},
   "source": [
    "## 一、DNA链的碱基序列处理\n",
    "\n",
    "DNA是由脱氧核苷酸组成的大分子聚合物。其中，构成脱氧核苷酸的碱基种类有：腺嘌呤（A）、鸟嘌呤（G）、胸腺嘧啶（T）和胞嘧啶（C）。DNA具有双链结构，对于其中的某一条链而言，可用字符串代表其碱基序列的组成，例如：“AAGGTTCC”、“GGGGTTTTAGATCCC”等。现有若干DNA单链的字符串序列存储在data/ch13/DNA目录下，请依次按照如下的多进程方案统计每个碱基序列字符串中各种碱基的占序列总长度的比例，其结果按如下格式保存在DataFrame中："
   ]
  },
  {
   "cell_type": "code",
   "execution_count": 48,
   "id": "6f0e2a28",
   "metadata": {
    "tags": [
     "remove_input"
    ]
   },
   "outputs": [
    {
     "data": {
      "text/html": [
       "<div>\n",
       "<style scoped>\n",
       "    .dataframe tbody tr th:only-of-type {\n",
       "        vertical-align: middle;\n",
       "    }\n",
       "\n",
       "    .dataframe tbody tr th {\n",
       "        vertical-align: top;\n",
       "    }\n",
       "\n",
       "    .dataframe thead th {\n",
       "        text-align: right;\n",
       "    }\n",
       "</style>\n",
       "<table border=\"1\" class=\"dataframe\">\n",
       "  <thead>\n",
       "    <tr style=\"text-align: right;\">\n",
       "      <th></th>\n",
       "      <th>A</th>\n",
       "      <th>C</th>\n",
       "      <th>G</th>\n",
       "      <th>T</th>\n",
       "    </tr>\n",
       "  </thead>\n",
       "  <tbody>\n",
       "    <tr>\n",
       "      <th>DNA_0001</th>\n",
       "      <td>0.1</td>\n",
       "      <td>0.3</td>\n",
       "      <td>0.4</td>\n",
       "      <td>0.2</td>\n",
       "    </tr>\n",
       "    <tr>\n",
       "      <th>DNA_0002</th>\n",
       "      <td>0.3</td>\n",
       "      <td>0.4</td>\n",
       "      <td>0.2</td>\n",
       "      <td>0.1</td>\n",
       "    </tr>\n",
       "    <tr>\n",
       "      <th>...</th>\n",
       "      <td>...</td>\n",
       "      <td>...</td>\n",
       "      <td>...</td>\n",
       "      <td>...</td>\n",
       "    </tr>\n",
       "    <tr>\n",
       "      <th>DNA_0200</th>\n",
       "      <td>0.3</td>\n",
       "      <td>0.1</td>\n",
       "      <td>0.2</td>\n",
       "      <td>0.4</td>\n",
       "    </tr>\n",
       "  </tbody>\n",
       "</table>\n",
       "</div>"
      ],
      "text/plain": [
       "            A    C    G    T\n",
       "DNA_0001  0.1  0.3  0.4  0.2\n",
       "DNA_0002  0.3  0.4  0.2  0.1\n",
       "...       ...  ...  ...  ...\n",
       "DNA_0200  0.3  0.1  0.2  0.4"
      ]
     },
     "execution_count": 48,
     "metadata": {},
     "output_type": "execute_result"
    }
   ],
   "source": [
    "pd.DataFrame({\"A\":[0.1,0.3,\"...\",0.3], \"C\": [0.3,0.4,\"...\",0.1],\n",
    "\"G\": [0.4,0.2,\"...\",0.2],\"T\":[0.2,0.1,\"...\",0.4]},\n",
    "index=[\"DNA_0001\",\"DNA_0002\",\"...\",\"DNA_0200\"])"
   ]
  },
  {
   "cell_type": "markdown",
   "id": "ccd4fb76",
   "metadata": {},
   "source": [
    "- 对文件使用多进程，即同时处理多个文件。\n",
    "- 对每个文件中的字符串使用多进程，即每次处理1个文件，但同时处理单链的不同部分。\n",
    "\n",
    "```text\n",
    "【解答】\n",
    "```\n",
    "\n",
    "- 1\n",
    "\n",
    "```python\n",
    "import pandas as pd\n",
    "import numpy as np\n",
    "# Windows放到独立py文件中再导入multi_DNA_file函数\n",
    "def multi_DNA_file(file):\n",
    "    file_name = \"data/ch13/DNA/%s.txt\"%file\n",
    "    with open(file_name, \"r\") as f:\n",
    "        s = f.read()\n",
    "    data = np.array([s.count(\"A\"), s.count(\"C\"), s.count(\"G\"), s.count(\"T\")])\n",
    "    data = data / data.sum()\n",
    "    return pd.DataFrame(data[None, :], index=[file], columns=list(\"ACGT\"))\n",
    "```\n",
    "\n",
    "```python\n",
    "from multiprocessing import Pool\n",
    "p = Pool(8)\n",
    "files = [\"DNA_%04d\"%i for i in range(1, 201)]\n",
    "res = pd.concat(p.map(multi_DNA_file, files))\n",
    "res.head()\n",
    "```\n",
    "\n",
    "- 2\n",
    "\n",
    "```python\n",
    "import pandas as pd\n",
    "import numpy as np\n",
    "def multi_DNA_seq(s):\n",
    "    return [s.count(\"A\"), s.count(\"C\"), s.count(\"G\"), s.count(\"T\")]\n",
    "```\n",
    "\n",
    "```python\n",
    "from multiprocessing import Pool\n",
    "df_res = []\n",
    "p = Pool(8)\n",
    "for i in range(1, 201):\n",
    "    file = \"DNA_%04d\"%i\n",
    "    file_name = \"data/ch13/DNA/%s.txt\"%file\n",
    "    with open(file_name, \"r\") as f:\n",
    "        s = f.read()\n",
    "    cut = np.linspace(0, len(s), 9).astype(\"int\").tolist()\n",
    "    cut = zip(cut[:-1], cut[1:])\n",
    "    cut_s = [s[start:end] for start, end in cut]\n",
    "    ACGT_res = p.map(multi_DNA_seq, cut_s)\n",
    "    temp_res = np.zeros(4)\n",
    "    for r in ACGT_res:\n",
    "        for j in range(4):\n",
    "            temp_res[j] += r[j]\n",
    "    temp_res = temp_res / temp_res.sum()\n",
    "    df_res.append(pd.DataFrame(temp_res[None, :], index=[file], columns=list(\"ACGT\")))\n",
    "res = pd.concat(df_res)\n",
    "res.head()\n",
    "```\n",
    "\n",
    "## 二、捕捉电信号的激活态区间\n",
    "\n",
    "在电子原件中，电信号的激活与失活是一种常见现象，下面在arr中给出了某信号指标的时序数据，从图13.15可以明显看出信号只会在一小段时间区域内被激活，随后又归于失活状态。"
   ]
  },
  {
   "cell_type": "code",
   "execution_count": 49,
   "id": "97d676a2",
   "metadata": {
    "tags": [
     "remove_output"
    ]
   },
   "outputs": [
    {
     "data": {
      "text/plain": [
       "[<matplotlib.lines.Line2D at 0x21403605130>]"
      ]
     },
     "execution_count": 49,
     "metadata": {},
     "output_type": "execute_result"
    },
    {
     "data": {
      "image/png": "[encoded data removed]",
      "text/plain": [
       "<Figure size 432x288 with 1 Axes>"
      ]
     },
     "metadata": {
      "filenames": {
       "image/png": "C:\\Users\\gyh\\Desktop\\项目\\【图书出版】pandas\\pd-book\\docs\\jupyter_execute\\solution13_65_1.png"
      },
      "needs_background": "light"
     },
     "output_type": "display_data"
    }
   ],
   "source": [
    "arr = np.load(\"data/ch13/signal.npy\")\n",
    "plt.plot(range(3000), arr[:3000])"
   ]
  },
  {
   "cell_type": "code",
   "execution_count": 50,
   "id": "d5390f52",
   "metadata": {
    "tags": [
     "remove_output",
     "remove_input"
    ]
   },
   "outputs": [
    {
     "data": {
      "image/png": "[encoded data removed]",
      "text/plain": [
       "<Figure size 432x288 with 1 Axes>"
      ]
     },
     "metadata": {
      "filenames": {
       "image/png": "C:\\Users\\gyh\\Desktop\\项目\\【图书出版】pandas\\pd-book\\docs\\jupyter_execute\\solution13_66_0.png"
      },
      "needs_background": "light"
     },
     "output_type": "display_data"
    }
   ],
   "source": [
    "plt.plot(range(3000), arr[:3000])\n",
    "plt.savefig(\"_static/ch13/13-15.svg\")"
   ]
  },
  {
   "cell_type": "markdown",
   "id": "e4ba6717",
   "metadata": {},
   "source": [
    "```{figure} ../source/_static/ch13/13-15.svg\n",
    "---\n",
    "width: 250px\n",
    "align: center\n",
    "---\n",
    "图13.15 某段电信号的时序图\n",
    "```\n",
    "\n",
    "对于某个信号而言，如果它自身的信号值小于1，但其后面的连续5个值大于1，则认为当前时刻为激活态的开始时刻；如果它自身的信号值小于1，但其之前的连续5个值大于1，则认为当前时刻为激活态的结束时刻。现在想要统计所有激活状态信号段的开始时刻和结束时刻，并将结果以如下格式保存在df_result中，其中第一列是表示信号段编号，第二和第三列表示开始和结束时的数组索引。"
   ]
  },
  {
   "cell_type": "code",
   "execution_count": 51,
   "id": "6de8cac0",
   "metadata": {
    "tags": [
     "remove_input"
    ]
   },
   "outputs": [
    {
     "data": {
      "text/html": [
       "<div>\n",
       "<style scoped>\n",
       "    .dataframe tbody tr th:only-of-type {\n",
       "        vertical-align: middle;\n",
       "    }\n",
       "\n",
       "    .dataframe tbody tr th {\n",
       "        vertical-align: top;\n",
       "    }\n",
       "\n",
       "    .dataframe thead th {\n",
       "        text-align: right;\n",
       "    }\n",
       "</style>\n",
       "<table border=\"1\" class=\"dataframe\">\n",
       "  <thead>\n",
       "    <tr style=\"text-align: right;\">\n",
       "      <th></th>\n",
       "      <th>Signal Number</th>\n",
       "      <th>Start Index</th>\n",
       "      <th>End Index</th>\n",
       "    </tr>\n",
       "  </thead>\n",
       "  <tbody>\n",
       "    <tr>\n",
       "      <th>0</th>\n",
       "      <td>0</td>\n",
       "      <td>100</td>\n",
       "      <td>200</td>\n",
       "    </tr>\n",
       "    <tr>\n",
       "      <th>1</th>\n",
       "      <td>1</td>\n",
       "      <td>300</td>\n",
       "      <td>400</td>\n",
       "    </tr>\n",
       "    <tr>\n",
       "      <th>2</th>\n",
       "      <td>...</td>\n",
       "      <td>...</td>\n",
       "      <td>...</td>\n",
       "    </tr>\n",
       "  </tbody>\n",
       "</table>\n",
       "</div>"
      ],
      "text/plain": [
       "  Signal Number Start Index End Index\n",
       "0             0         100       200\n",
       "1             1         300       400\n",
       "2           ...         ...       ..."
      ]
     },
     "execution_count": 51,
     "metadata": {},
     "output_type": "execute_result"
    }
   ],
   "source": [
    "pd.DataFrame({\"Signal Number\":[0,1,\"...\"], \"Start Index\": [100,300,\"...\"],\n",
    "\"End Index\": [200,400,\"...\"]})"
   ]
  },
  {
   "cell_type": "markdown",
   "id": "04f91ea9",
   "metadata": {},
   "source": [
    "```text\n",
    "【解答】\n",
    "```\n",
    "\n",
    "- 方法一"
   ]
  },
  {
   "cell_type": "code",
   "execution_count": 52,
   "id": "ed75c1ca",
   "metadata": {},
   "outputs": [
    {
     "data": {
      "text/html": [
       "<div>\n",
       "<style scoped>\n",
       "    .dataframe tbody tr th:only-of-type {\n",
       "        vertical-align: middle;\n",
       "    }\n",
       "\n",
       "    .dataframe tbody tr th {\n",
       "        vertical-align: top;\n",
       "    }\n",
       "\n",
       "    .dataframe thead th {\n",
       "        text-align: right;\n",
       "    }\n",
       "</style>\n",
       "<table border=\"1\" class=\"dataframe\">\n",
       "  <thead>\n",
       "    <tr style=\"text-align: right;\">\n",
       "      <th></th>\n",
       "      <th>Signal Number</th>\n",
       "      <th>Start Index</th>\n",
       "      <th>End Index</th>\n",
       "    </tr>\n",
       "  </thead>\n",
       "  <tbody>\n",
       "    <tr>\n",
       "      <th>0</th>\n",
       "      <td>0</td>\n",
       "      <td>848</td>\n",
       "      <td>916</td>\n",
       "    </tr>\n",
       "    <tr>\n",
       "      <th>1</th>\n",
       "      <td>1</td>\n",
       "      <td>1158</td>\n",
       "      <td>1221</td>\n",
       "    </tr>\n",
       "    <tr>\n",
       "      <th>2</th>\n",
       "      <td>2</td>\n",
       "      <td>1818</td>\n",
       "      <td>1890</td>\n",
       "    </tr>\n",
       "    <tr>\n",
       "      <th>3</th>\n",
       "      <td>3</td>\n",
       "      <td>2098</td>\n",
       "      <td>2167</td>\n",
       "    </tr>\n",
       "    <tr>\n",
       "      <th>4</th>\n",
       "      <td>4</td>\n",
       "      <td>2702</td>\n",
       "      <td>2764</td>\n",
       "    </tr>\n",
       "  </tbody>\n",
       "</table>\n",
       "</div>"
      ],
      "text/plain": [
       "   Signal Number  Start Index  End Index\n",
       "0              0          848        916\n",
       "1              1         1158       1221\n",
       "2              2         1818       1890\n",
       "3              3         2098       2167\n",
       "4              4         2702       2764"
      ]
     },
     "execution_count": 52,
     "metadata": {},
     "output_type": "execute_result"
    }
   ],
   "source": [
    "arr = np.load(\"data/ch13/signal.npy\")\n",
    "idx = np.arange(arr.shape[0])\n",
    "start = np.stack([arr<1] + [np.roll(arr, -i)>1 for i in range(1,6)])\n",
    "start_res = start.all(0)\n",
    "end = np.stack([arr<1] + [np.roll(arr, i)>1 for i in range(1,6)])\n",
    "end_res = end.all(0)\n",
    "res = pd.DataFrame({\n",
    "    \"Signal Number\": np.arange(start_res.sum()),\n",
    "    \"Start Index\": idx[start_res],\n",
    "    \"End Index\": idx[end_res]\n",
    "})\n",
    "res.head()"
   ]
  },
  {
   "cell_type": "markdown",
   "id": "ba74d2e7",
   "metadata": {},
   "source": [
    "- 方法二"
   ]
  },
  {
   "cell_type": "code",
   "execution_count": 53,
   "id": "3ac3cdf0",
   "metadata": {},
   "outputs": [
    {
     "data": {
      "text/html": [
       "<div>\n",
       "<style scoped>\n",
       "    .dataframe tbody tr th:only-of-type {\n",
       "        vertical-align: middle;\n",
       "    }\n",
       "\n",
       "    .dataframe tbody tr th {\n",
       "        vertical-align: top;\n",
       "    }\n",
       "\n",
       "    .dataframe thead th {\n",
       "        text-align: right;\n",
       "    }\n",
       "</style>\n",
       "<table border=\"1\" class=\"dataframe\">\n",
       "  <thead>\n",
       "    <tr style=\"text-align: right;\">\n",
       "      <th></th>\n",
       "      <th>Signal Number</th>\n",
       "      <th>Start Index</th>\n",
       "      <th>End Index</th>\n",
       "    </tr>\n",
       "  </thead>\n",
       "  <tbody>\n",
       "    <tr>\n",
       "      <th>0</th>\n",
       "      <td>0</td>\n",
       "      <td>848</td>\n",
       "      <td>916</td>\n",
       "    </tr>\n",
       "    <tr>\n",
       "      <th>1</th>\n",
       "      <td>1</td>\n",
       "      <td>1158</td>\n",
       "      <td>1221</td>\n",
       "    </tr>\n",
       "    <tr>\n",
       "      <th>2</th>\n",
       "      <td>2</td>\n",
       "      <td>1818</td>\n",
       "      <td>1890</td>\n",
       "    </tr>\n",
       "    <tr>\n",
       "      <th>3</th>\n",
       "      <td>3</td>\n",
       "      <td>2098</td>\n",
       "      <td>2167</td>\n",
       "    </tr>\n",
       "    <tr>\n",
       "      <th>4</th>\n",
       "      <td>4</td>\n",
       "      <td>2702</td>\n",
       "      <td>2764</td>\n",
       "    </tr>\n",
       "  </tbody>\n",
       "</table>\n",
       "</div>"
      ],
      "text/plain": [
       "   Signal Number  Start Index  End Index\n",
       "0              0          848        916\n",
       "1              1         1158       1221\n",
       "2              2         1818       1890\n",
       "3              3         2098       2167\n",
       "4              4         2702       2764"
      ]
     },
     "execution_count": 53,
     "metadata": {},
     "output_type": "execute_result"
    }
   ],
   "source": [
    "from numba import njit\n",
    "\n",
    "@njit()\n",
    "def count_signal(arr):\n",
    "    # 预分配内存，但事实上arr.shape[0]位置的值可以利用一些方法\n",
    "    # 得到大幅的减少，从而加快分配速度，请读者自行思考\n",
    "    start = np.full(arr.shape[0], -1)\n",
    "    end = np.full(arr.shape[0], -1)\n",
    "    pointer = 0\n",
    "    for i in range(arr.shape[0]):\n",
    "        cur = arr[i]\n",
    "        start_res = cur < 1\n",
    "        for j in range(1,6):\n",
    "            start_res &= arr[i+j] > 1\n",
    "        if start_res:\n",
    "            start[pointer] = i\n",
    "        end_res = cur < 1\n",
    "        for j in range(1,6):\n",
    "            end_res &= arr[i-j] > 1\n",
    "        if end_res:\n",
    "            end[pointer] = i\n",
    "            pointer += 1\n",
    "    return start[:pointer], end[:pointer]\n",
    "arr = np.load(\"data/ch13/signal.npy\")\n",
    "start_res, end_res = count_signal(arr)\n",
    "res = pd.DataFrame({\n",
    "    \"Signal Number\": np.arange(start_res.shape[0]),\n",
    "    \"Start Index\": start_res,\n",
    "    \"End Index\": end_res\n",
    "})\n",
    "res.head()"
   ]
  },
  {
   "cell_type": "markdown",
   "id": "0fe011dd",
   "metadata": {},
   "source": [
    "```{note}\n",
    "Numba中虽然支持list相关的操作，但是尽量用预分配的数组加指针操作来代替，这样会有较大的性能优势。\n",
    "```\n",
    "\n",
    "## 三、药物靶点的关联性分析\n",
    "\n",
    "药物与靶点间的关联性分析是生物信息学中重要的研究课题，图分析是其常见的分析手段之一，将药物和靶点都看作图的节点，若已知某些药物和靶点间存在关联，那么就将它们之间用边连接，记图中边的集合为$E$。图能够用邻接矩阵表示，如果2个节点有连接则记为1，否则记为0，从而我们能够得到drug-target的邻接矩阵。同样地，药物和药物之间、靶点和靶点之间也有关联性作用，我们也用边将关联的节点进行连接，得到drug-drug邻接矩阵、target-target邻接矩阵。2个相连的节点被称为邻居，某一个节点A的邻居集合可以用$N(A)$表示，其邻居个数用$\\vert N(A)\\vert$表示。在定义了3类连接关系之后，现在需要对所有药物和所有靶点间的相关性进行度量，定义药物$i$（用$D_i$表示）和靶点$j$（用$T_i$表示）之间的关联性指数$S$：\n",
    "\n",
    "$$\n",
    "S(D_i, T_j) = \\begin{cases}  \n",
    "1 & D_iT_j \\in E \\\\\n",
    "\\frac{\\sum_{Node\\in N(D_i)}\\mathbb{I}_{\\{Node\\in N(T_j)\\}}}{2\\vert N(D_i)\\vert}  + \n",
    "\\frac{\\sum_{Node\\in N(T_j)}\\mathbb{I}_{\\{Node\\in N(D_i)\\}}}{2\\vert N(T_j)\\vert} \n",
    "& Otherwise\n",
    "\\end{cases}\n",
    "$$\n",
    "\n",
    "其中，$\\mathbb{I}_{\\{Node\\in N(T_j)\\}}$表示事件“节点Node是否为$T_j$邻居”的示性函数，当Node为$T_j$的邻居时取1，否则取0。请根据drug-drug关联图、target-target关联图以及drug-target关联图，计算与所有药物与靶点间的关联性指数。"
   ]
  },
  {
   "cell_type": "code",
   "execution_count": 54,
   "id": "630b1662",
   "metadata": {},
   "outputs": [
    {
     "data": {
      "text/plain": [
       "((1285, 1285), (947, 947), (1285, 947))"
      ]
     },
     "execution_count": 54,
     "metadata": {},
     "output_type": "execute_result"
    }
   ],
   "source": [
    "d_d = np.load(\"data/ch13/drug-drug.npy\")\n",
    "t_t = np.load(\"data/ch13/target-target.npy\")\n",
    "d_t = np.load(\"data/ch13/drug-target.npy\")\n",
    "d_d.shape, t_t.shape, d_t.shape"
   ]
  },
  {
   "cell_type": "markdown",
   "id": "21868191",
   "metadata": {},
   "source": [
    "```text\n",
    "【解答】\n",
    "```"
   ]
  },
  {
   "cell_type": "code",
   "execution_count": 55,
   "id": "a64bb952",
   "metadata": {},
   "outputs": [],
   "source": [
    "%%cython\n",
    "# distutils: language = c++\n",
    "from libcpp.set cimport set\n",
    "from libcpp.vector cimport vector\n",
    "import numpy as np\n",
    "cimport numpy as np\n",
    "from cython import boundscheck, wraparound\n",
    "\n",
    "@boundscheck(False)\n",
    "@wraparound(False)\n",
    "def get_S(int[:, :] d_d, int[:, :] t_t, int[:, :] d_t):\n",
    "\n",
    "    cdef:\n",
    "        int i, j, d, t, status, d_count, t_count\n",
    "        double d_val, t_val\n",
    "        int d_dim = d_d.shape[0]\n",
    "        int t_dim = t_t.shape[0]\n",
    "        double[:, :] S = np.empty_like(d_t, dtype=\"float64\")\n",
    "        vector[set[int]] drug_adj, target_adj\n",
    "        \n",
    "    for i in range(d_dim):\n",
    "        drug_adj.push_back(set[int]())\n",
    "        for j in range(d_dim):\n",
    "            if d_d[i][j] == 1:\n",
    "                drug_adj[i].insert(j)\n",
    "\n",
    "    for i in range(t_dim):\n",
    "        target_adj.push_back(set[int]())\n",
    "        for j in range(t_dim):\n",
    "            if t_t[i][j] == 1:\n",
    "                target_adj[i].insert(j)\n",
    "\n",
    "    for i in range(d_dim):\n",
    "        for j in range(t_dim):\n",
    "            if d_t[i][j] != 1:\n",
    "                d_count = 0\n",
    "                for d in drug_adj[i]:\n",
    "                    status = target_adj[j].find(d) != target_adj[j].end()\n",
    "                    d_count = d_count + status\n",
    "                d_val = d_count / 2 / drug_adj[i].size()\n",
    "                t_count = 0\n",
    "                for t in target_adj[j]:\n",
    "                    status = drug_adj[i].find(t) != drug_adj[i].end()\n",
    "                    t_count = t_count + status\n",
    "                t_val = t_count / 2 / target_adj[j].size()\n",
    "                S[i][j] = d_val + t_val\n",
    "            else:\n",
    "                S[i][j] = 1.0\n",
    "    return np.asarray(S)"
   ]
  },
  {
   "cell_type": "code",
   "execution_count": 56,
   "id": "3e0da84d",
   "metadata": {},
   "outputs": [
    {
     "data": {
      "text/plain": [
       "(1285, 947)"
      ]
     },
     "execution_count": 56,
     "metadata": {},
     "output_type": "execute_result"
    }
   ],
   "source": [
    "res = get_S(d_d, t_t, d_t)\n",
    "res.shape"
   ]
  },
  {
   "cell_type": "code",
   "execution_count": 57,
   "id": "c914ff8e",
   "metadata": {},
   "outputs": [
    {
     "data": {
      "text/plain": [
       "array([[1.        , 1.        , 0.49382489, ..., 1.        , 0.48400228,\n",
       "        0.46562896],\n",
       "       [1.        , 1.        , 0.43233035, ..., 1.        , 0.47512593,\n",
       "        0.48020263],\n",
       "       [1.        , 0.47275641, 1.        , ..., 0.47479795, 1.        ,\n",
       "        0.46192308],\n",
       "       ...,\n",
       "       [1.        , 1.        , 0.4585027 , ..., 1.        , 0.44824454,\n",
       "        1.        ],\n",
       "       [1.        , 0.46980228, 1.        , ..., 0.48324323, 0.48054512,\n",
       "        1.        ],\n",
       "       [0.44290555, 0.45630646, 0.47551222, ..., 0.46900691, 0.45473435,\n",
       "        1.        ]])"
      ]
     },
     "execution_count": 57,
     "metadata": {},
     "output_type": "execute_result"
    }
   ],
   "source": [
    "res"
   ]
  },
  {
   "cell_type": "markdown",
   "id": "5b0d56b5",
   "metadata": {},
   "source": [
    "## 四、物质浓度的指标检测\n",
    "\n",
    "某种目标物质（Target）的浓度可能会随环境中其他化合物的浓度而变化，现有某种仪器可以估计溶液中的各类化合物（Compound）浓度和该种目标物质（Target）的浓度。但由于技术原因，无法对这些化合物的浓度给出精确值，只能给出其浓度上界（CUB）与浓度下界（CLB），这些信息被记录在df1中："
   ]
  },
  {
   "cell_type": "code",
   "execution_count": 58,
   "id": "d947b8aa",
   "metadata": {},
   "outputs": [
    {
     "data": {
      "text/html": [
       "<div>\n",
       "<style scoped>\n",
       "    .dataframe tbody tr th:only-of-type {\n",
       "        vertical-align: middle;\n",
       "    }\n",
       "\n",
       "    .dataframe tbody tr th {\n",
       "        vertical-align: top;\n",
       "    }\n",
       "\n",
       "    .dataframe thead th {\n",
       "        text-align: right;\n",
       "    }\n",
       "</style>\n",
       "<table border=\"1\" class=\"dataframe\">\n",
       "  <thead>\n",
       "    <tr style=\"text-align: right;\">\n",
       "      <th></th>\n",
       "      <th>Compound</th>\n",
       "      <th>CLB</th>\n",
       "      <th>CUB</th>\n",
       "      <th>Target</th>\n",
       "    </tr>\n",
       "  </thead>\n",
       "  <tbody>\n",
       "    <tr>\n",
       "      <th>0</th>\n",
       "      <td>0</td>\n",
       "      <td>9.050615e+08</td>\n",
       "      <td>9.050625e+08</td>\n",
       "      <td>683757.555164</td>\n",
       "    </tr>\n",
       "    <tr>\n",
       "      <th>1</th>\n",
       "      <td>0</td>\n",
       "      <td>9.017325e+08</td>\n",
       "      <td>9.017341e+08</td>\n",
       "      <td>814346.610163</td>\n",
       "    </tr>\n",
       "    <tr>\n",
       "      <th>2</th>\n",
       "      <td>0</td>\n",
       "      <td>9.039452e+08</td>\n",
       "      <td>9.039458e+08</td>\n",
       "      <td>719260.326997</td>\n",
       "    </tr>\n",
       "    <tr>\n",
       "      <th>3</th>\n",
       "      <td>0</td>\n",
       "      <td>9.041625e+08</td>\n",
       "      <td>9.041632e+08</td>\n",
       "      <td>240696.203722</td>\n",
       "    </tr>\n",
       "    <tr>\n",
       "      <th>4</th>\n",
       "      <td>0</td>\n",
       "      <td>9.045420e+08</td>\n",
       "      <td>9.045422e+08</td>\n",
       "      <td>133284.734789</td>\n",
       "    </tr>\n",
       "  </tbody>\n",
       "</table>\n",
       "</div>"
      ],
      "text/plain": [
       "   Compound           CLB           CUB         Target\n",
       "0         0  9.050615e+08  9.050625e+08  683757.555164\n",
       "1         0  9.017325e+08  9.017341e+08  814346.610163\n",
       "2         0  9.039452e+08  9.039458e+08  719260.326997\n",
       "3         0  9.041625e+08  9.041632e+08  240696.203722\n",
       "4         0  9.045420e+08  9.045422e+08  133284.734789"
      ]
     },
     "execution_count": 58,
     "metadata": {},
     "output_type": "execute_result"
    }
   ],
   "source": [
    "df1 = pd.read_csv(\"data/ch13/compounds.csv\")\n",
    "df1.head()"
   ]
  },
  {
   "cell_type": "markdown",
   "id": "83012a2b",
   "metadata": {},
   "source": [
    "现想要根据compounds表中的信息，推断某些化合物浓度下的Target浓度：对于predict表中的每一行数据，找到compounds表中相同化合物，且浓度区间包含该行中给定化合物浓度的所在记录，当记录条数为0时，predict表中该行的Target_Prediction保持缺失值，当记录条数非0时，predict表中的Target_Prediction用这些记录中目标物质Target的浓度均值进行填充。"
   ]
  },
  {
   "cell_type": "code",
   "execution_count": 59,
   "id": "bcab1a9d",
   "metadata": {},
   "outputs": [
    {
     "data": {
      "text/html": [
       "<div>\n",
       "<style scoped>\n",
       "    .dataframe tbody tr th:only-of-type {\n",
       "        vertical-align: middle;\n",
       "    }\n",
       "\n",
       "    .dataframe tbody tr th {\n",
       "        vertical-align: top;\n",
       "    }\n",
       "\n",
       "    .dataframe thead th {\n",
       "        text-align: right;\n",
       "    }\n",
       "</style>\n",
       "<table border=\"1\" class=\"dataframe\">\n",
       "  <thead>\n",
       "    <tr style=\"text-align: right;\">\n",
       "      <th></th>\n",
       "      <th>Compound</th>\n",
       "      <th>Concentration</th>\n",
       "      <th>Target_Prediction</th>\n",
       "    </tr>\n",
       "  </thead>\n",
       "  <tbody>\n",
       "    <tr>\n",
       "      <th>0</th>\n",
       "      <td>0</td>\n",
       "      <td>9.055589e+08</td>\n",
       "      <td>NaN</td>\n",
       "    </tr>\n",
       "    <tr>\n",
       "      <th>1</th>\n",
       "      <td>0</td>\n",
       "      <td>9.024043e+08</td>\n",
       "      <td>NaN</td>\n",
       "    </tr>\n",
       "    <tr>\n",
       "      <th>2</th>\n",
       "      <td>0</td>\n",
       "      <td>8.997355e+08</td>\n",
       "      <td>NaN</td>\n",
       "    </tr>\n",
       "    <tr>\n",
       "      <th>3</th>\n",
       "      <td>0</td>\n",
       "      <td>9.014674e+08</td>\n",
       "      <td>NaN</td>\n",
       "    </tr>\n",
       "    <tr>\n",
       "      <th>4</th>\n",
       "      <td>0</td>\n",
       "      <td>9.048319e+08</td>\n",
       "      <td>NaN</td>\n",
       "    </tr>\n",
       "  </tbody>\n",
       "</table>\n",
       "</div>"
      ],
      "text/plain": [
       "   Compound  Concentration  Target_Prediction\n",
       "0         0   9.055589e+08                NaN\n",
       "1         0   9.024043e+08                NaN\n",
       "2         0   8.997355e+08                NaN\n",
       "3         0   9.014674e+08                NaN\n",
       "4         0   9.048319e+08                NaN"
      ]
     },
     "execution_count": 59,
     "metadata": {},
     "output_type": "execute_result"
    }
   ],
   "source": [
    "df2 = pd.read_csv(\"data/ch13/predict-target.csv\")\n",
    "df2.head()"
   ]
  },
  {
   "cell_type": "markdown",
   "id": "372e9e37",
   "metadata": {},
   "source": [
    "```text\n",
    "【解答】\n",
    "```\n",
    "\n",
    "```python\n",
    "import pandas as pd\n",
    "import numpy as np\n",
    "from multiprocessing import Pool, shared_memory, Array, Value\n",
    "from functools import partial\n",
    "\n",
    "from numba import njit, prange\n",
    "@njit(parallel=True)\n",
    "def _compute(c, low, up, t):\n",
    "    n, m = c.shape[0], t.shape[0]\n",
    "    res = np.empty(n, dtype=\"float64\")\n",
    "    for i in prange(n):\n",
    "        temp = 0\n",
    "        count = 0\n",
    "        for j in range(m):\n",
    "            if c[i] >= low[j] and c[i] <= up[j]:\n",
    "                temp += t[j]\n",
    "                count += 1\n",
    "        res[i] = temp / count if count > 0 else np.nan\n",
    "    return res\n",
    "\n",
    "def helper(shape, dtype, name, s):\n",
    "    my_sm = shared_memory.SharedMemory(name=name)\n",
    "    arr = np.ndarray(shape=shape, dtype=dtype, buffer=my_sm.buf)\n",
    "    # 用书上的手工传入lock来锁也是可以的，Value和Array上都可以用get_lock()来加锁\n",
    "    with visited.get_lock():\n",
    "        if not visited[s.name]:\n",
    "            visited[s.name] = True\n",
    "            with counter.get_lock():\n",
    "                counter.value += 1\n",
    "                print(\"当前已完成：%d/347\"%(counter.value))\n",
    "    return _compute(\n",
    "        s.values,\n",
    "        arr[1][arr[0]==s.name],\n",
    "        arr[2][arr[0]==s.name],\n",
    "        arr[3][arr[0]==s.name],\n",
    "    )\n",
    "\n",
    "def compound_compute(shape, dtype, name, df2):\n",
    "    partial_helper = partial(helper, shape, dtype, name)\n",
    "    return df2.groupby(\"Compound\")[\"Concentration\"].transform(partial_helper)\n",
    "\n",
    "def init_shared(v, c):\n",
    "    global visited, counter\n",
    "    visited, counter = v, c\n",
    "\n",
    "if __name__ == \"__main__\":\n",
    "\n",
    "    df1 = pd.read_csv(\"data/ch13/compounds.csv\")\n",
    "    df2 = pd.read_csv(\"data/ch13/predict-target.csv\")\n",
    "    visited = Array(\"i\", [0]*347) # 共有347类\n",
    "    counter = Value(\"i\", 0)\n",
    "    p = Pool(16, initializer=init_shared, initargs=[visited, counter])\n",
    "    arr = df1.values.T\n",
    "    shm = shared_memory.SharedMemory(create=True, size=arr.nbytes)\n",
    "    shm_arr = np.ndarray(shape=arr.shape, dtype=arr.dtype, buffer=shm.buf)\n",
    "    shm_arr[:] = arr[:]\n",
    "    del arr\n",
    "    partial_compound_compute = partial(\n",
    "        compound_compute, shm_arr.shape, shm_arr.dtype, shm.name)\n",
    "    cut = np.linspace(0, df2.shape[0], 17).astype(\"int\")\n",
    "    data = [df2.iloc[cut[i]: cut[i+1]] for i in range(16)]\n",
    "    res = pd.concat(p.map(partial_compound_compute, data))\n",
    "    # res.to_csv(\"my_result.csv\", index=False)\n",
    "```\n",
    "\n",
    "## 五、设计滑窗类\n",
    "\n",
    "\n",
    "\n",
    "请分别用cython的cdef class和numba的jitclass设计1个滑窗类，支持滑动均值、滑动标准差以及滑动最大值的计算，无需考虑时序数据（即普通滑窗），且满足如下要求：\n",
    "\n",
    "- 注意边界值与缺失值的处理。\n",
    "- 性能上接近甚至超过Pandas中的滑窗函数。\n",
    "- 按以下方式调用对象：\n",
    "\n",
    "```python\n",
    "# s是需要操作的序列\n",
    "roller = rolling(data=s.values, window=10)\n",
    "roller.mean()\n",
    "roller.std()\n",
    "roller.max()\n",
    "```\n",
    "\n",
    "```text\n",
    "【解答】\n",
    "```\n",
    "\n",
    "在这个问题上Numba速度慢于Cython，但具体问题需要具体分析，实际运用时需要通过实验对比才能定量地说明它们之间的性能优劣。"
   ]
  },
  {
   "cell_type": "code",
   "execution_count": 60,
   "id": "0e121905",
   "metadata": {},
   "outputs": [],
   "source": [
    "%%cython --compile-args=-fopenmp --link-args=-fopenmp\n",
    "# cython: boundscheck=False, wraparound=False\n",
    "\n",
    "import numpy as np\n",
    "import cython\n",
    "from cython.parallel import prange\n",
    "from libc.math cimport INFINITY, NAN, sqrt\n",
    "\n",
    "cdef class cy_rolling:\n",
    "    cdef:\n",
    "        double[:] data\n",
    "        int window\n",
    "    def __init__(self, data, window):\n",
    "        self.data = data\n",
    "        self.window = window\n",
    "    def max(self):\n",
    "        cdef:\n",
    "            int n = self.data.shape[0]\n",
    "            int k = self.window\n",
    "            double temp\n",
    "            double[:] res = np.empty(n, dtype=\"float64\")\n",
    "            Py_ssize_t i, j\n",
    "        res[:k-1] = NAN\n",
    "        for i in prange(k-1, n, nogil=True):\n",
    "            temp = -INFINITY\n",
    "            for j in range(k):\n",
    "                if self.data[i-j] > temp:\n",
    "                    temp = self.data[i-j]\n",
    "            res[i] = temp\n",
    "        return np.asarray(res)\n",
    "    def mean(self):\n",
    "        cdef:\n",
    "            int n = self.data.shape[0]\n",
    "            int k = self.window\n",
    "            double temp\n",
    "            double[:] res = np.empty(n, dtype=\"float64\")\n",
    "            Py_ssize_t i, j\n",
    "        res[:k-1] = NAN\n",
    "        for i in prange(k-1, n, nogil=True):\n",
    "            temp = 0.0\n",
    "            for j in range(k):\n",
    "                temp = temp + self.data[i-j]\n",
    "            res[i] = temp / k\n",
    "        return np.asarray(res)\n",
    "    def std(self):\n",
    "        cdef:\n",
    "            int n = self.data.shape[0]\n",
    "            int k = self.window\n",
    "            double sum_val, square_val\n",
    "            double[:] res = np.empty(n, dtype=\"float64\")\n",
    "            Py_ssize_t i, j\n",
    "        res[:k-1] = NAN\n",
    "        for i in prange(k-1, n, nogil=True):\n",
    "            sum_val = 0.0\n",
    "            square_val = 0.0\n",
    "            for j in range(k):\n",
    "                sum_val = sum_val + self.data[i-j]\n",
    "                square_val = square_val + self.data[i-j] * self.data[i-j]\n",
    "            sum_val = sum_val / k\n",
    "            res[i] = sqrt(square_val / k - sum_val * sum_val)\n",
    "        return np.asarray(res)"
   ]
  },
  {
   "cell_type": "code",
   "execution_count": 61,
   "id": "aad217ac",
   "metadata": {},
   "outputs": [],
   "source": [
    "from numba.experimental import jitclass\n",
    "from numba import int64, float64\n",
    "\n",
    "spec = [('window', int64), ('data', float64[:])]\n",
    "@jitclass(spec)\n",
    "class nb_rolling(object):\n",
    "    def __init__(self, data, window):\n",
    "        self.data = data\n",
    "        self.window = window\n",
    "    def max(self):\n",
    "        n, k = self.data.shape[0], self.window\n",
    "        res = np.empty(n, dtype=\"float64\")\n",
    "        res[:k-1] = np.nan\n",
    "        for i in range(k-1, n):\n",
    "            temp = -np.inf\n",
    "            for j in range(k):\n",
    "                if self.data[i-j] > temp:\n",
    "                    temp = self.data[i-j]\n",
    "            res[i] = temp\n",
    "        return res\n",
    "    def mean(self):\n",
    "        n, k = self.data.shape[0], self.window\n",
    "        res = np.empty(n, dtype=\"float64\")\n",
    "        res[:k-1] = np.nan\n",
    "        for i in range(k-1, n):\n",
    "            res[i] = np.mean(self.data[i-k+1:i+1])\n",
    "        return res\n",
    "    def std(self):\n",
    "        n, k = self.data.shape[0], self.window\n",
    "        res = np.empty(n, dtype=\"float64\")\n",
    "        res[:k-1] = np.nan\n",
    "        for i in range(k-1, n):\n",
    "            res[i] = np.std(self.data[i-k+1:i+1])\n",
    "        return res"
   ]
  },
  {
   "cell_type": "code",
   "execution_count": 62,
   "id": "1ef245da",
   "metadata": {},
   "outputs": [],
   "source": [
    "s = pd.Series(np.random.rand(int(1e7)))\n",
    "# 可能有计算的浮点误差，此处仅看前5位小数\n",
    "pd_roller = s.rolling(100)\n",
    "pd_res_max = pd_roller.max().round(5)\n",
    "pd_res_mean = pd_roller.mean().round(5)\n",
    "pd_res_std = pd_roller.std(ddof=0).round(5)\n",
    "cy_roller = cy_rolling(s.values, 100)\n",
    "cy_res_max = pd.Series(cy_roller.max()).round(5)\n",
    "cy_res_mean = pd.Series(cy_roller.mean()).round(5)\n",
    "cy_res_std = pd.Series(cy_roller.std()).round(5)\n",
    "nb_roller = nb_rolling(s.values, 100)\n",
    "nb_res_max = pd.Series(nb_roller.max()).round(5)\n",
    "nb_res_mean = pd.Series(nb_roller.mean()).round(5)\n",
    "nb_res_std = pd.Series(nb_roller.std()).round(5)"
   ]
  },
  {
   "cell_type": "code",
   "execution_count": 63,
   "id": "27e46142",
   "metadata": {},
   "outputs": [
    {
     "data": {
      "text/plain": [
       "True"
      ]
     },
     "execution_count": 63,
     "metadata": {},
     "output_type": "execute_result"
    }
   ],
   "source": [
    "cy_res_max.equals(pd_res_max)"
   ]
  },
  {
   "cell_type": "code",
   "execution_count": 64,
   "id": "b7f76813",
   "metadata": {},
   "outputs": [
    {
     "data": {
      "text/plain": [
       "True"
      ]
     },
     "execution_count": 64,
     "metadata": {},
     "output_type": "execute_result"
    }
   ],
   "source": [
    "cy_res_mean.equals(pd_res_mean)"
   ]
  },
  {
   "cell_type": "code",
   "execution_count": 65,
   "id": "9e7ef928",
   "metadata": {},
   "outputs": [
    {
     "data": {
      "text/plain": [
       "True"
      ]
     },
     "execution_count": 65,
     "metadata": {},
     "output_type": "execute_result"
    }
   ],
   "source": [
    "cy_res_std.equals(pd_res_std)"
   ]
  },
  {
   "cell_type": "code",
   "execution_count": 66,
   "id": "203db816",
   "metadata": {},
   "outputs": [
    {
     "data": {
      "text/plain": [
       "True"
      ]
     },
     "execution_count": 66,
     "metadata": {},
     "output_type": "execute_result"
    }
   ],
   "source": [
    "nb_res_max.equals(pd_res_max)"
   ]
  },
  {
   "cell_type": "code",
   "execution_count": 67,
   "id": "97b3b9cf",
   "metadata": {},
   "outputs": [
    {
     "data": {
      "text/plain": [
       "True"
      ]
     },
     "execution_count": 67,
     "metadata": {},
     "output_type": "execute_result"
    }
   ],
   "source": [
    "nb_res_mean.equals(pd_res_mean)"
   ]
  },
  {
   "cell_type": "code",
   "execution_count": 68,
   "id": "692c4f51",
   "metadata": {},
   "outputs": [
    {
     "data": {
      "text/plain": [
       "True"
      ]
     },
     "execution_count": 68,
     "metadata": {},
     "output_type": "execute_result"
    }
   ],
   "source": [
    "nb_res_std.equals(pd_res_std)"
   ]
  },
  {
   "cell_type": "code",
   "execution_count": 69,
   "id": "c93e2f2e",
   "metadata": {},
   "outputs": [
    {
     "name": "stdout",
     "output_type": "stream",
     "text": [
      "734 ms ± 21.4 ms per loop (mean ± std. dev. of 7 runs, 1 loop each)\n"
     ]
    }
   ],
   "source": [
    "%timeit pd_roller.max()"
   ]
  },
  {
   "cell_type": "code",
   "execution_count": 70,
   "id": "b2cea363",
   "metadata": {},
   "outputs": [
    {
     "name": "stdout",
     "output_type": "stream",
     "text": [
      "452 ms ± 9.56 ms per loop (mean ± std. dev. of 7 runs, 1 loop each)\n"
     ]
    }
   ],
   "source": [
    "%timeit cy_roller.max()"
   ]
  },
  {
   "cell_type": "code",
   "execution_count": 71,
   "id": "af00e738",
   "metadata": {},
   "outputs": [
    {
     "name": "stdout",
     "output_type": "stream",
     "text": [
      "1.42 s ± 67.3 ms per loop (mean ± std. dev. of 7 runs, 1 loop each)\n"
     ]
    }
   ],
   "source": [
    "%timeit nb_roller.max()"
   ]
  },
  {
   "cell_type": "code",
   "execution_count": 72,
   "id": "280cb69e",
   "metadata": {},
   "outputs": [
    {
     "name": "stdout",
     "output_type": "stream",
     "text": [
      "362 ms ± 36.7 ms per loop (mean ± std. dev. of 7 runs, 1 loop each)\n"
     ]
    }
   ],
   "source": [
    "%timeit pd_roller.mean()"
   ]
  },
  {
   "cell_type": "code",
   "execution_count": 73,
   "id": "879eb869",
   "metadata": {},
   "outputs": [
    {
     "name": "stdout",
     "output_type": "stream",
     "text": [
      "389 ms ± 50.4 ms per loop (mean ± std. dev. of 7 runs, 1 loop each)\n"
     ]
    }
   ],
   "source": [
    "%timeit cy_roller.mean()"
   ]
  },
  {
   "cell_type": "code",
   "execution_count": 74,
   "id": "5a4cc42e",
   "metadata": {},
   "outputs": [
    {
     "name": "stdout",
     "output_type": "stream",
     "text": [
      "1.1 s ± 62.7 ms per loop (mean ± std. dev. of 7 runs, 1 loop each)\n"
     ]
    }
   ],
   "source": [
    "%timeit nb_roller.mean()"
   ]
  },
  {
   "cell_type": "code",
   "execution_count": 75,
   "id": "51fb92ac",
   "metadata": {},
   "outputs": [
    {
     "name": "stdout",
     "output_type": "stream",
     "text": [
      "409 ms ± 23.1 ms per loop (mean ± std. dev. of 7 runs, 1 loop each)\n"
     ]
    }
   ],
   "source": [
    "%timeit pd_roller.std()"
   ]
  },
  {
   "cell_type": "code",
   "execution_count": 76,
   "id": "c89b5ba9",
   "metadata": {},
   "outputs": [
    {
     "name": "stdout",
     "output_type": "stream",
     "text": [
      "396 ms ± 38.6 ms per loop (mean ± std. dev. of 7 runs, 1 loop each)\n"
     ]
    }
   ],
   "source": [
    "%timeit cy_roller.std()"
   ]
  },
  {
   "cell_type": "code",
   "execution_count": 77,
   "id": "0431168b",
   "metadata": {},
   "outputs": [
    {
     "name": "stdout",
     "output_type": "stream",
     "text": [
      "2.56 s ± 90.6 ms per loop (mean ± std. dev. of 7 runs, 1 loop each)\n"
     ]
    }
   ],
   "source": [
    "%timeit nb_roller.std()"
   ]
  }
 ],
 "metadata": {
  "jupytext": {
   "text_representation": {
    "format_name": "myst"
   }
  },
  "kernelspec": {
   "display_name": "Python 3",
   "name": "python3"
  },
  "language_info": {
   "codemirror_mode": {
    "name": "ipython",
    "version": 3
   },
   "file_extension": ".py",
   "mimetype": "text/x-python",
   "name": "python",
   "nbconvert_exporter": "python",
   "pygments_lexer": "ipython3",
   "version": "3.8.12"
  },
  "source_map": [
   10,
   19,
   29,
   34,
   38,
   42,
   45,
   307,
   314,
   318,
   320,
   324,
   333,
   355,
   358,
   411,
   415,
   439,
   444,
   447,
   451,
   466,
   470,
   476,
   510,
   515,
   519,
   523,
   529,
   533,
   537,
   541,
   545,
   549,
   551,
   557,
   578,
   583,
   585,
   595,
   624,
   630,
   635,
   638,
   642,
   663,
   673,
   676,
   682,
   707,
   712,
   716,
   718,
   744,
   756,
   766,
   774,
   778,
   786,
   792,
   805,
   809,
   811,
   817,
   822,
   890,
   896,
   900,
   912,
   916,
   924,
   937,
   941,
   973,
   994,
   999,
   1005,
   1057,
   1062,
   1064,
   1071,
   1074,
   1078,
   1081,
   1177,
   1241,
   1279,
   1297,
   1302,
   1306,
   1310,
   1314,
   1318,
   1322,
   1326,
   1330,
   1335,
   1339,
   1344,
   1348,
   1352,
   1356
  ]
 },
 "nbformat": 4,
 "nbformat_minor": 5
}