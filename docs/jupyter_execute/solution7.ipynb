{
 "cells": [
  {
   "cell_type": "code",
   "execution_count": 1,
   "id": "bcb2583f",
   "metadata": {
    "tags": [
     "remove_input"
    ]
   },
   "outputs": [],
   "source": [
    "import numpy as np\n",
    "import pandas as pd\n",
    "import matplotlib.pyplot as plt\n",
    "np.random.seed(0)\n",
    "plt.rcParams['font.sans-serif'] = ['SimHei']\n",
    "plt.rcParams['axes.unicode_minus'] = False\n",
    "np.set_printoptions(suppress = True)"
   ]
  },
  {
   "cell_type": "markdown",
   "id": "c5b8ac28",
   "metadata": {},
   "source": [
    "# 第七章\n",
    "\n",
    "## 零、练一练\n",
    "\n",
    "```{admonition} 练一练\n",
    "请检索出身高体重全为缺失值的行。\n",
    "```"
   ]
  },
  {
   "cell_type": "code",
   "execution_count": 2,
   "id": "ef4a63f3",
   "metadata": {},
   "outputs": [
    {
     "data": {
      "text/html": [
       "<div>\n",
       "<style scoped>\n",
       "    .dataframe tbody tr th:only-of-type {\n",
       "        vertical-align: middle;\n",
       "    }\n",
       "\n",
       "    .dataframe tbody tr th {\n",
       "        vertical-align: top;\n",
       "    }\n",
       "\n",
       "    .dataframe thead th {\n",
       "        text-align: right;\n",
       "    }\n",
       "</style>\n",
       "<table border=\"1\" class=\"dataframe\">\n",
       "  <thead>\n",
       "    <tr style=\"text-align: right;\">\n",
       "      <th></th>\n",
       "      <th>Grade</th>\n",
       "      <th>Name</th>\n",
       "      <th>Gender</th>\n",
       "      <th>Height</th>\n",
       "      <th>Weight</th>\n",
       "      <th>Transfer</th>\n",
       "    </tr>\n",
       "  </thead>\n",
       "  <tbody>\n",
       "    <tr>\n",
       "      <th>91</th>\n",
       "      <td>Sophomore</td>\n",
       "      <td>Yanfeng Han</td>\n",
       "      <td>Male</td>\n",
       "      <td>NaN</td>\n",
       "      <td>NaN</td>\n",
       "      <td>N</td>\n",
       "    </tr>\n",
       "    <tr>\n",
       "      <th>102</th>\n",
       "      <td>Junior</td>\n",
       "      <td>Chengli Zhao</td>\n",
       "      <td>Male</td>\n",
       "      <td>NaN</td>\n",
       "      <td>NaN</td>\n",
       "      <td>NaN</td>\n",
       "    </tr>\n",
       "  </tbody>\n",
       "</table>\n",
       "</div>"
      ],
      "text/plain": [
       "         Grade          Name Gender  Height  Weight Transfer\n",
       "91   Sophomore   Yanfeng Han   Male     NaN     NaN        N\n",
       "102     Junior  Chengli Zhao   Male     NaN     NaN      NaN"
      ]
     },
     "execution_count": 2,
     "metadata": {},
     "output_type": "execute_result"
    }
   ],
   "source": [
    "df = pd.read_csv('data/learn_pandas.csv',\n",
    "    usecols = ['Grade', 'Name', 'Gender',\n",
    "               'Height', 'Weight', 'Transfer'])\n",
    "df.loc[df[[\"Weight\", \"Height\"]].isna().all(1)]"
   ]
  },
  {
   "cell_type": "markdown",
   "id": "8babe8f2",
   "metadata": {},
   "source": [
    "```{admonition} 练一练\n",
    "将上述Series使用s.fillna(method=\"bfill\")填充，并观察与ffill处理结果的差别。\n",
    "```"
   ]
  },
  {
   "cell_type": "code",
   "execution_count": 3,
   "id": "3143286d",
   "metadata": {},
   "outputs": [
    {
     "data": {
      "text/plain": [
       "a    1.0\n",
       "a    1.0\n",
       "a    2.0\n",
       "b    2.0\n",
       "c    2.0\n",
       "d    NaN\n",
       "dtype: float64"
      ]
     },
     "execution_count": 3,
     "metadata": {},
     "output_type": "execute_result"
    }
   ],
   "source": [
    "s = pd.Series([np.nan, 1, np.nan, np.nan, 2, np.nan], list('aaabcd'))\n",
    "s.fillna(method=\"bfill\")"
   ]
  },
  {
   "cell_type": "markdown",
   "id": "f2af9c95",
   "metadata": {},
   "source": [
    "```{admonition} 练一练\n",
    "请构造1个缺失值比例为5\\%的序列，并用众数进行填充。\n",
    "```"
   ]
  },
  {
   "cell_type": "code",
   "execution_count": 4,
   "id": "ce19d45e",
   "metadata": {},
   "outputs": [
    {
     "data": {
      "text/plain": [
       "0    NaN\n",
       "1    3.0\n",
       "2    1.0\n",
       "3    0.0\n",
       "4    3.0\n",
       "dtype: float64"
      ]
     },
     "execution_count": 4,
     "metadata": {},
     "output_type": "execute_result"
    }
   ],
   "source": [
    "s = pd.Series(np.random.randint(0, 4, 20))\n",
    "s[0] = np.nan\n",
    "s.head()"
   ]
  },
  {
   "cell_type": "code",
   "execution_count": 5,
   "id": "0cd78a3c",
   "metadata": {},
   "outputs": [
    {
     "data": {
      "text/plain": [
       "0    3.0\n",
       "1    3.0\n",
       "2    1.0\n",
       "3    0.0\n",
       "4    3.0\n",
       "dtype: float64"
      ]
     },
     "execution_count": 5,
     "metadata": {},
     "output_type": "execute_result"
    }
   ],
   "source": [
    "s.fillna(s.value_counts().index[0]).head()"
   ]
  },
  {
   "cell_type": "markdown",
   "id": "4f6c7af2",
   "metadata": {},
   "source": [
    "```{admonition} 练一练\n",
    "对1个序列以如下规则填充缺失值：如果单独出现的缺失值，就用前后均值填充，如果连续出现的缺失值就不填充，即序列[1, NaN, 3, NaN, NaN]填充后为[1, 2, 3, NaN, NaN]，请利用fillna()函数实现。（提示：利用limit参数）\n",
    "```"
   ]
  },
  {
   "cell_type": "code",
   "execution_count": 6,
   "id": "68df5673",
   "metadata": {},
   "outputs": [
    {
     "data": {
      "text/plain": [
       "0    1.0\n",
       "1    2.0\n",
       "2    3.0\n",
       "3    NaN\n",
       "4    NaN\n",
       "dtype: float64"
      ]
     },
     "execution_count": 6,
     "metadata": {},
     "output_type": "execute_result"
    }
   ],
   "source": [
    "s = pd.Series([1, np.nan, 3, np.nan, np.nan])\n",
    "forward = s.fillna(method=\"ffill\", limit=1) \n",
    "backward = s.fillna(method=\"bfill\", limit=1)\n",
    "res = (forward + backward) / 2\n",
    "res"
   ]
  },
  {
   "cell_type": "markdown",
   "id": "1cd0a8a6",
   "metadata": {},
   "source": [
    "```{admonition} 练一练\n",
    "请实现上述interpolate(method=\"index\")的功能，即给定一个索引为整数的Series，返回其索引插值结果。\n",
    "```"
   ]
  },
  {
   "cell_type": "code",
   "execution_count": 7,
   "id": "7c26fd55",
   "metadata": {},
   "outputs": [],
   "source": [
    "def index_interpolate(s):\n",
    "    s_former = pd.Series([np.nan]+s.iloc[:-1].values.tolist())\n",
    "    s_former.index = [np.nan]+s.index[:-1].tolist()\n",
    "    s_latter = pd.Series(s.iloc[1:].values.tolist()+[np.nan])\n",
    "    s_latter.index = s.index[1:].tolist()+[np.nan]\n",
    "    val = (s.index - s_former.index) * (s_latter.values - s_former.values) / (s_latter.index - s_former.index)\n",
    "    s_copy = s.copy()\n",
    "    s_copy.loc[s.isna()] = val[s.isna()]\n",
    "    return s_copy"
   ]
  },
  {
   "cell_type": "code",
   "execution_count": 8,
   "id": "68cbe226",
   "metadata": {},
   "outputs": [
    {
     "data": {
      "text/plain": [
       "0      0.0\n",
       "1      1.0\n",
       "10    10.0\n",
       "dtype: float64"
      ]
     },
     "execution_count": 8,
     "metadata": {},
     "output_type": "execute_result"
    }
   ],
   "source": [
    "s = pd.Series([0,np.nan,10],index=[0,1,10])\n",
    "index_interpolate(s)"
   ]
  },
  {
   "cell_type": "markdown",
   "id": "fc20ab7d",
   "metadata": {},
   "source": [
    "````{admonition} 练一练\n",
    "请设计一个my_get_dummies()函数，其作用是仅对非缺失值对应行的类别进行独热编码，缺失值对应行的编码结果列全设为缺失值，例如df_nan.category的返回结果如下表所示：\n",
    "```text\n",
    "      a     b\n",
    "0     1     0\n",
    "1     0     0\n",
    "2     0     1\n",
    "3  <NA>  <NA>\n",
    "4  <NA>  <NA>\n",
    "```\n",
    "````"
   ]
  },
  {
   "cell_type": "code",
   "execution_count": 9,
   "id": "36fd7c70",
   "metadata": {},
   "outputs": [],
   "source": [
    "def my_get_dummies(s):\n",
    "    res = pd.get_dummies(s_nan, dummy_na=True)\n",
    "    res = res.loc[:, res.columns.notna()]\n",
    "    res.loc[(1-res).all(1)] = np.nan\n",
    "    return res"
   ]
  },
  {
   "cell_type": "code",
   "execution_count": 10,
   "id": "47d5f5e4",
   "metadata": {},
   "outputs": [
    {
     "data": {
      "text/html": [
       "<div>\n",
       "<style scoped>\n",
       "    .dataframe tbody tr th:only-of-type {\n",
       "        vertical-align: middle;\n",
       "    }\n",
       "\n",
       "    .dataframe tbody tr th {\n",
       "        vertical-align: top;\n",
       "    }\n",
       "\n",
       "    .dataframe thead th {\n",
       "        text-align: right;\n",
       "    }\n",
       "</style>\n",
       "<table border=\"1\" class=\"dataframe\">\n",
       "  <thead>\n",
       "    <tr style=\"text-align: right;\">\n",
       "      <th></th>\n",
       "      <th>a</th>\n",
       "      <th>b</th>\n",
       "    </tr>\n",
       "  </thead>\n",
       "  <tbody>\n",
       "    <tr>\n",
       "      <th>0</th>\n",
       "      <td>1.0</td>\n",
       "      <td>0.0</td>\n",
       "    </tr>\n",
       "    <tr>\n",
       "      <th>1</th>\n",
       "      <td>1.0</td>\n",
       "      <td>0.0</td>\n",
       "    </tr>\n",
       "    <tr>\n",
       "      <th>2</th>\n",
       "      <td>0.0</td>\n",
       "      <td>1.0</td>\n",
       "    </tr>\n",
       "    <tr>\n",
       "      <th>3</th>\n",
       "      <td>NaN</td>\n",
       "      <td>NaN</td>\n",
       "    </tr>\n",
       "    <tr>\n",
       "      <th>4</th>\n",
       "      <td>NaN</td>\n",
       "      <td>NaN</td>\n",
       "    </tr>\n",
       "  </tbody>\n",
       "</table>\n",
       "</div>"
      ],
      "text/plain": [
       "     a    b\n",
       "0  1.0  0.0\n",
       "1  1.0  0.0\n",
       "2  0.0  1.0\n",
       "3  NaN  NaN\n",
       "4  NaN  NaN"
      ]
     },
     "execution_count": 10,
     "metadata": {},
     "output_type": "execute_result"
    }
   ],
   "source": [
    "s_nan = pd.Series(['a','a','b',np.nan,np.nan])\n",
    "my_get_dummies(s_nan)"
   ]
  },
  {
   "cell_type": "markdown",
   "id": "83135415",
   "metadata": {},
   "source": [
    "## 一、缺失数据筛选\n",
    "\n",
    "\n",
    "在data/ch7/missing.csv中存放了1000列数据，请按照如下条件进行数据筛选：\n",
    "\n",
    "- 选出缺失比例低于50%的列和缺失值个数超过520个的行\n",
    "- 选出最大连续缺失值个数超过20的列\n",
    "- 若某一列左右两侧的列满足行同时缺失的比例超过10%，则称此列满足缺失对称条件。表中是否存在满足缺失对称条件的列？若存在，请找出所有符合条件的列。\n",
    "\n",
    "```text\n",
    "【解答】\n",
    "```\n",
    "\n",
    "- 1"
   ]
  },
  {
   "cell_type": "code",
   "execution_count": 11,
   "id": "5dfcd1e2",
   "metadata": {},
   "outputs": [
    {
     "data": {
      "text/plain": [
       "(60, 498)"
      ]
     },
     "execution_count": 11,
     "metadata": {},
     "output_type": "execute_result"
    }
   ],
   "source": [
    "df = pd.read_csv(\"data/ch7/missing.csv\")\n",
    "res = df.loc[df.isna().sum(1)>520, df.isna().mean()<0.5]\n",
    "res.shape"
   ]
  },
  {
   "cell_type": "markdown",
   "id": "592ba7b5",
   "metadata": {},
   "source": [
    "- 2"
   ]
  },
  {
   "cell_type": "code",
   "execution_count": 12,
   "id": "055cd22c",
   "metadata": {},
   "outputs": [
    {
     "data": {
      "text/plain": [
       "(1000, 246)"
      ]
     },
     "execution_count": 12,
     "metadata": {},
     "output_type": "execute_result"
    }
   ],
   "source": [
    "def missing_helper(s):\n",
    "    temp = s.isna().astype(\"int\").rename(\"temp_col\")\n",
    "    temp = pd.concat([s, (temp != temp.shift()).cumsum()], axis=1)\n",
    "    return temp[s.isna()].groupby(\"temp_col\").size().max() > 20\n",
    "res = df.loc[:, df.apply(missing_helper)]\n",
    "res.shape"
   ]
  },
  {
   "cell_type": "markdown",
   "id": "e34be2f8",
   "metadata": {},
   "source": [
    "- 3"
   ]
  },
  {
   "cell_type": "code",
   "execution_count": 13,
   "id": "9ea044f8",
   "metadata": {},
   "outputs": [
    {
     "data": {
      "text/plain": [
       "677"
      ]
     },
     "execution_count": 13,
     "metadata": {},
     "output_type": "execute_result"
    }
   ],
   "source": [
    "cols = []\n",
    "for i in range(1, 999):\n",
    "    temp = df.iloc[:,[i-1,i+1]]\n",
    "    if temp.isna().all(1).mean() > 0.1:\n",
    "        cols.append(\"f%d\"%i)\n",
    "len(cols)"
   ]
  },
  {
   "cell_type": "markdown",
   "id": "6a7b90a4",
   "metadata": {},
   "source": [
    "## 二、K近邻填充\n",
    "\n",
    "K近邻是一种监督学习模型，对于分类变量，利用KNN分类模型可以实现其缺失值的插补，思路是度量缺失样本的特征与所有其他样本特征的距离，当给定了模型参数n_neighbors=n时，计算离该样本距离最近的n个样本点中最多的那个类别，并把这个类别作为该样本的缺失预测类别，具体如图7.1所示，未知的类别被预测为黄色：\n",
    "\n",
    "图中有色点的特征数据提供如下："
   ]
  },
  {
   "cell_type": "code",
   "execution_count": 14,
   "id": "cf914d9c",
   "metadata": {},
   "outputs": [
    {
     "data": {
      "text/html": [
       "<div>\n",
       "<style scoped>\n",
       "    .dataframe tbody tr th:only-of-type {\n",
       "        vertical-align: middle;\n",
       "    }\n",
       "\n",
       "    .dataframe tbody tr th {\n",
       "        vertical-align: top;\n",
       "    }\n",
       "\n",
       "    .dataframe thead th {\n",
       "        text-align: right;\n",
       "    }\n",
       "</style>\n",
       "<table border=\"1\" class=\"dataframe\">\n",
       "  <thead>\n",
       "    <tr style=\"text-align: right;\">\n",
       "      <th></th>\n",
       "      <th>X1</th>\n",
       "      <th>X2</th>\n",
       "      <th>Color</th>\n",
       "    </tr>\n",
       "  </thead>\n",
       "  <tbody>\n",
       "    <tr>\n",
       "      <th>0</th>\n",
       "      <td>-2.5</td>\n",
       "      <td>2.8</td>\n",
       "      <td>Blue</td>\n",
       "    </tr>\n",
       "    <tr>\n",
       "      <th>1</th>\n",
       "      <td>-1.5</td>\n",
       "      <td>1.8</td>\n",
       "      <td>Blue</td>\n",
       "    </tr>\n",
       "    <tr>\n",
       "      <th>2</th>\n",
       "      <td>-0.8</td>\n",
       "      <td>2.8</td>\n",
       "      <td>Blue</td>\n",
       "    </tr>\n",
       "  </tbody>\n",
       "</table>\n",
       "</div>"
      ],
      "text/plain": [
       "    X1   X2 Color\n",
       "0 -2.5  2.8  Blue\n",
       "1 -1.5  1.8  Blue\n",
       "2 -0.8  2.8  Blue"
      ]
     },
     "execution_count": 14,
     "metadata": {},
     "output_type": "execute_result"
    }
   ],
   "source": [
    "df = pd.read_excel('data/ch7/color.xlsx')\n",
    "df.head(3)"
   ]
  },
  {
   "cell_type": "markdown",
   "id": "3b24919b",
   "metadata": {},
   "source": [
    "```{figure} ../source/_static/ch7/7-1-knn.svg\n",
    "---\n",
    "width: 350px\n",
    "align: center\n",
    "---\n",
    "图7.1 KNN分类原理示意图\n",
    "```\n",
    "\n",
    "已知待预测的样本点为$X_1=0.8$、$X_2=−0.2$，那么预测类别可以如下写出："
   ]
  },
  {
   "cell_type": "code",
   "execution_count": 15,
   "id": "6eafacef",
   "metadata": {},
   "outputs": [
    {
     "data": {
      "text/plain": [
       "array(['Yellow'], dtype=object)"
      ]
     },
     "execution_count": 15,
     "metadata": {},
     "output_type": "execute_result"
    }
   ],
   "source": [
    "from sklearn.neighbors import KNeighborsClassifier\n",
    "\n",
    "clf = KNeighborsClassifier(n_neighbors=6) # 定义分类器\n",
    "clf.fit(df.iloc[:,:2].values, df.Color) # 拟合数据\n",
    "clf.predict([[0.8, -0.2]]) # 获取未知点的类别"
   ]
  },
  {
   "cell_type": "markdown",
   "id": "ccabf50d",
   "metadata": {},
   "source": [
    "- 7.2.2节介绍的近邻插值和此处介绍的K近邻填充有什么联系？\n",
    "- 对于数据集中的缺失特征而言，可以把已有的类别看做有颜色的点，缺失的类别看做需要预测的点，请根据上述方法对data/ch7/audit.csv中的Employment变量进行缺失值填充，字符串变量可用独热编码转为数值变量。\n",
    "\n",
    "```text\n",
    "【解答】\n",
    "```\n",
    "\n",
    "- 1\n",
    "\n",
    "近邻插值是一维情况下$K=1$的K近邻填充。\n",
    "\n",
    "- 2"
   ]
  },
  {
   "cell_type": "code",
   "execution_count": 16,
   "id": "0c0548e6",
   "metadata": {},
   "outputs": [
    {
     "data": {
      "text/plain": [
       "True"
      ]
     },
     "execution_count": 16,
     "metadata": {},
     "output_type": "execute_result"
    }
   ],
   "source": [
    "from sklearn.neighbors import KNeighborsClassifier\n",
    "df = pd.read_csv('data/ch7/audit.csv')\n",
    "df_num = df[['Age','Income','Hours']].apply(lambda x:(x-x.min())/(x.max()-x.min()))\n",
    "df_str = pd.get_dummies(df[['Marital', 'Gender']])\n",
    "new_df = pd.concat([df_num, df_str, df.Employment], axis=1)\n",
    "X_train = new_df[new_df.Employment.notna()]\n",
    "X_test = new_df[new_df.Employment.isna()]\n",
    "clf = KNeighborsClassifier(n_neighbors=6)\n",
    "clf.fit(X_train.iloc[:,:-1], X_train.Employment)\n",
    "predict_res = clf.predict(X_test.iloc[:,:-1])\n",
    "df.loc[df.Employment.isna(), 'Employment'] = predict_res\n",
    "df.Employment.notna().all()"
   ]
  },
  {
   "cell_type": "markdown",
   "id": "e5b2b00d",
   "metadata": {},
   "source": [
    "## 三、条件近邻插值\n",
    "\n",
    "\n",
    "近邻插值使用最近的非缺失值进行填充，但有时候我们需要对最近的元素做一些限制，例如用另一列中和待填充元素相同类别的上一个最近值进行填充。假设现有如下的DataFrame："
   ]
  },
  {
   "cell_type": "code",
   "execution_count": 17,
   "id": "2a8cafe8",
   "metadata": {},
   "outputs": [
    {
     "data": {
      "text/html": [
       "<div>\n",
       "<style scoped>\n",
       "    .dataframe tbody tr th:only-of-type {\n",
       "        vertical-align: middle;\n",
       "    }\n",
       "\n",
       "    .dataframe tbody tr th {\n",
       "        vertical-align: top;\n",
       "    }\n",
       "\n",
       "    .dataframe thead th {\n",
       "        text-align: right;\n",
       "    }\n",
       "</style>\n",
       "<table border=\"1\" class=\"dataframe\">\n",
       "  <thead>\n",
       "    <tr style=\"text-align: right;\">\n",
       "      <th></th>\n",
       "      <th>A</th>\n",
       "      <th>B</th>\n",
       "    </tr>\n",
       "  </thead>\n",
       "  <tbody>\n",
       "    <tr>\n",
       "      <th>0</th>\n",
       "      <td>1.0</td>\n",
       "      <td>Y</td>\n",
       "    </tr>\n",
       "    <tr>\n",
       "      <th>1</th>\n",
       "      <td>2.0</td>\n",
       "      <td>X</td>\n",
       "    </tr>\n",
       "    <tr>\n",
       "      <th>2</th>\n",
       "      <td>3.0</td>\n",
       "      <td>Z</td>\n",
       "    </tr>\n",
       "    <tr>\n",
       "      <th>3</th>\n",
       "      <td>4.0</td>\n",
       "      <td>X</td>\n",
       "    </tr>\n",
       "    <tr>\n",
       "      <th>4</th>\n",
       "      <td>NaN</td>\n",
       "      <td>Y</td>\n",
       "    </tr>\n",
       "  </tbody>\n",
       "</table>\n",
       "</div>"
      ],
      "text/plain": [
       "     A  B\n",
       "0  1.0  Y\n",
       "1  2.0  X\n",
       "2  3.0  Z\n",
       "3  4.0  X\n",
       "4  NaN  Y"
      ]
     },
     "execution_count": 17,
     "metadata": {},
     "output_type": "execute_result"
    }
   ],
   "source": [
    "df = pd.DataFrame({\n",
    "    \"A\": [1,2,3,4,np.nan],\n",
    "    \"B\": list(\"YXZXY\")})\n",
    "df"
   ]
  },
  {
   "cell_type": "markdown",
   "id": "61d43189",
   "metadata": {},
   "source": [
    "若现在需要按照B的类别对A进行近邻填充，那么首先找到缺失值df.iloc[4,0]对应的B列类别为Y，接着寻找距离其最近的上一个Y的所在位置（即第一行），此时使用df.iloc[0,0]的值1.0进行填充。如果A列中获取到的条件近邻值df.iloc[0,0]为也是缺失值，则不进行填充。此外，如果需要填充的值向前无法寻找到同类别的对应行，也不进行填充。\n",
    "\n",
    "请按照上述规则，对data/ch7/near.csv中的A列进行填充。"
   ]
  },
  {
   "cell_type": "code",
   "execution_count": 18,
   "id": "c8e39211",
   "metadata": {},
   "outputs": [
    {
     "data": {
      "text/html": [
       "<div>\n",
       "<style scoped>\n",
       "    .dataframe tbody tr th:only-of-type {\n",
       "        vertical-align: middle;\n",
       "    }\n",
       "\n",
       "    .dataframe tbody tr th {\n",
       "        vertical-align: top;\n",
       "    }\n",
       "\n",
       "    .dataframe thead th {\n",
       "        text-align: right;\n",
       "    }\n",
       "</style>\n",
       "<table border=\"1\" class=\"dataframe\">\n",
       "  <thead>\n",
       "    <tr style=\"text-align: right;\">\n",
       "      <th></th>\n",
       "      <th>A</th>\n",
       "      <th>B</th>\n",
       "    </tr>\n",
       "  </thead>\n",
       "  <tbody>\n",
       "    <tr>\n",
       "      <th>0</th>\n",
       "      <td>NaN</td>\n",
       "      <td>Q</td>\n",
       "    </tr>\n",
       "    <tr>\n",
       "      <th>1</th>\n",
       "      <td>79.0</td>\n",
       "      <td>T</td>\n",
       "    </tr>\n",
       "    <tr>\n",
       "      <th>2</th>\n",
       "      <td>-6.0</td>\n",
       "      <td>S</td>\n",
       "    </tr>\n",
       "    <tr>\n",
       "      <th>3</th>\n",
       "      <td>NaN</td>\n",
       "      <td>T</td>\n",
       "    </tr>\n",
       "    <tr>\n",
       "      <th>4</th>\n",
       "      <td>NaN</td>\n",
       "      <td>T</td>\n",
       "    </tr>\n",
       "  </tbody>\n",
       "</table>\n",
       "</div>"
      ],
      "text/plain": [
       "      A  B\n",
       "0   NaN  Q\n",
       "1  79.0  T\n",
       "2  -6.0  S\n",
       "3   NaN  T\n",
       "4   NaN  T"
      ]
     },
     "execution_count": 18,
     "metadata": {},
     "output_type": "execute_result"
    }
   ],
   "source": [
    "df = pd.read_csv(\"data/ch7/near.csv\")\n",
    "df.head()"
   ]
  },
  {
   "cell_type": "markdown",
   "id": "0514a9e5",
   "metadata": {},
   "source": [
    "```text\n",
    "【解答】\n",
    "```"
   ]
  },
  {
   "cell_type": "code",
   "execution_count": 19,
   "id": "4ab97f98",
   "metadata": {},
   "outputs": [
    {
     "data": {
      "text/plain": [
       "0     NaN\n",
       "1    79.0\n",
       "2    -6.0\n",
       "3    79.0\n",
       "4     NaN\n",
       "Name: A, dtype: float64"
      ]
     },
     "execution_count": 19,
     "metadata": {},
     "output_type": "execute_result"
    }
   ],
   "source": [
    "res = df.groupby(\"B\")[\"A\"].fillna(method=\"ffill\", limit=1)\n",
    "res.head()"
   ]
  }
 ],
 "metadata": {
  "jupytext": {
   "text_representation": {
    "format_name": "myst"
   }
  },
  "kernelspec": {
   "display_name": "Python 3",
   "name": "python3"
  },
  "language_info": {
   "codemirror_mode": {
    "name": "ipython",
    "version": 3
   },
   "file_extension": ".py",
   "mimetype": "text/x-python",
   "name": "python",
   "nbconvert_exporter": "python",
   "pygments_lexer": "ipython3",
   "version": "3.8.12"
  },
  "source_map": [
   10,
   19,
   29,
   34,
   40,
   43,
   49,
   55,
   57,
   63,
   69,
   75,
   87,
   90,
   104,
   112,
   115,
   133,
   137,
   141,
   148,
   152,
   159,
   166,
   169,
   182,
   188,
   203,
   216,
   223,
   228,
   234,
   237,
   243
  ]
 },
 "nbformat": 4,
 "nbformat_minor": 5
}