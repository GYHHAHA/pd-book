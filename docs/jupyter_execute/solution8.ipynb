{
 "cells": [
  {
   "cell_type": "code",
   "execution_count": 1,
   "id": "3695dad3",
   "metadata": {
    "tags": [
     "remove_input"
    ]
   },
   "outputs": [],
   "source": [
    "import numpy as np\n",
    "import pandas as pd\n",
    "import matplotlib.pyplot as plt\n",
    "np.random.seed(0)\n",
    "plt.rcParams['font.sans-serif'] = ['SimHei']\n",
    "plt.rcParams['axes.unicode_minus'] = False\n",
    "np.set_printoptions(suppress = True)"
   ]
  },
  {
   "cell_type": "markdown",
   "id": "8b72f622",
   "metadata": {},
   "source": [
    "# 第八章\n",
    "\n",
    "## 零、练一练\n",
    "\n",
    "```{admonition} 练一练\n",
    "对于序列a=pd.Series([[1,2], [4,5]])，转为string类型后使用str切片，即a.astype(\"string\").str[::-1]，与直接使用str切片，即a.str[::-1]，它们的结果分别是什么？请进行相应的解释。\n",
    "```"
   ]
  },
  {
   "cell_type": "code",
   "execution_count": 2,
   "id": "6ae89a6c",
   "metadata": {},
   "outputs": [],
   "source": [
    "a = pd.Series([[1,2], [4,5]])"
   ]
  },
  {
   "cell_type": "markdown",
   "id": "05ef01e9",
   "metadata": {},
   "source": [
    "当转为字符串后，每个单元格的元素都会更换为元素调用__str__()返回的字符串对象，此时切片是逐个字符串元素的切片："
   ]
  },
  {
   "cell_type": "code",
   "execution_count": 3,
   "id": "f95c02df",
   "metadata": {},
   "outputs": [
    {
     "data": {
      "text/plain": [
       "'[1, 2]'"
      ]
     },
     "execution_count": 3,
     "metadata": {},
     "output_type": "execute_result"
    }
   ],
   "source": [
    "a.iloc[0].__str__()"
   ]
  },
  {
   "cell_type": "code",
   "execution_count": 4,
   "id": "b5c57a7f",
   "metadata": {},
   "outputs": [
    {
     "data": {
      "text/plain": [
       "0    ]2 ,1[\n",
       "1    ]5 ,4[\n",
       "dtype: string"
      ]
     },
     "execution_count": 4,
     "metadata": {},
     "output_type": "execute_result"
    }
   ],
   "source": [
    "a.astype(\"string\").str[::-1]"
   ]
  },
  {
   "cell_type": "markdown",
   "id": "c0508bf0",
   "metadata": {},
   "source": [
    "当直接使用切片时，等价于直接对每个元素进行[::-1]操作，由于内部存储的时列表，因此每个对应位置返回了列表的反转："
   ]
  },
  {
   "cell_type": "code",
   "execution_count": 5,
   "id": "3a778c1a",
   "metadata": {},
   "outputs": [
    {
     "data": {
      "text/plain": [
       "0    [2, 1]\n",
       "1    [5, 4]\n",
       "dtype: object"
      ]
     },
     "execution_count": 5,
     "metadata": {},
     "output_type": "execute_result"
    }
   ],
   "source": [
    "a.str[::-1]"
   ]
  },
  {
   "cell_type": "markdown",
   "id": "ce2d686b",
   "metadata": {},
   "source": [
    "````{admonition} 练一练\n",
    "使用如下的语句可从my_file.txt中读取文本：\n",
    "```python\n",
    "with open(\"data/ch8/my_file.txt\", \"w\") as f:\n",
    "    text = f.read()\n",
    "    # 进行后续文本操作\n",
    "```\n",
    "使用如下的语句可将文本保存到my_file.txt中：\n",
    "```python\n",
    "text = \"aaa\\nbbb\"\n",
    "with open(\"my_file.txt\", \"w\") as f:\n",
    "    f.write(text)\n",
    "```\n",
    "请结合正则表达式相关的知识，完成以下内容：\n",
    "- 读取data/ch8/regex1.txt中的数据（文本均随机生成），删除“#begin”和“#close”所在行及其中间的所有行，处理后保存至data/ch8/regex1_result.txt中。\n",
    "- 读取data/ch8/regex2.txt中的数据，将“\\section{×××}”、“\\subsection{×××}”和“\\subsubsection{×××}”分别替换为“# ×××”、“## ×××”和“### ×××”，其中“×××”指代花括号中的标题名，处理后保存至data/ch8/regex2_result.txt中。\n",
    "````\n",
    "\n",
    "- 1"
   ]
  },
  {
   "cell_type": "code",
   "execution_count": 6,
   "id": "594ed0a8",
   "metadata": {},
   "outputs": [],
   "source": [
    "import re\n",
    "with open(\"data/ch8/regex1.txt\", \"r\") as f:\n",
    "    text = f.read()\n",
    "    res = re.sub(\"#begin[\\S\\s]*?#close\", \"\", text)\n",
    "with open(\"data/ch8/regex1_result.txt\", \"w\") as f:\n",
    "    f.write(res)"
   ]
  },
  {
   "cell_type": "markdown",
   "id": "3c02dc99",
   "metadata": {},
   "source": [
    "- 2"
   ]
  },
  {
   "cell_type": "code",
   "execution_count": 7,
   "id": "6a68611f",
   "metadata": {},
   "outputs": [],
   "source": [
    "with open(\"data/ch8/regex2.txt\", \"r\", encoding=\"utf-8\") as f:\n",
    "    text = f.read()\n",
    "    res = re.sub(r\"\\\\((?:sub)*)section\\{([\\s\\S]+?)\\}\", r\"sub\\1 \\2\", text)\n",
    "    res = re.sub(r\"sub\", r\"#\", res)\n",
    "with open(\"data/ch8/regex2_result.txt\", \"w\") as f:\n",
    "    f.write(res)"
   ]
  },
  {
   "cell_type": "markdown",
   "id": "f17742a1",
   "metadata": {},
   "source": [
    "```{admonition} 练一练\n",
    "在上述的两个负向断言例子中，如果把“[件|\\d]”和“[少|\\d]”分别修改为“件”和“少”，此时匹配结果如何变化？请解释原因。\n",
    "```\n",
    "\n",
    "在第一个例子中，想要匹配的是“元”前面的那个数字，不记录“件”前面的那个数字，但如果此时不剔除\\d，那么此时50这个数字符合\\d\\d，能够匹配(\\d+)(?!件)，因此5出现在了结果中。在第二个例子中，造成0匹配的原因类似，50恰好能够匹配(?<!少)(\\d+)，因此返回的结果中包括0.\n",
    "\n",
    "## 一、房屋数据的文本提取\n",
    "\n",
    "现有一份房屋信息数据集如下："
   ]
  },
  {
   "cell_type": "code",
   "execution_count": 8,
   "id": "1288acb5",
   "metadata": {},
   "outputs": [
    {
     "data": {
      "text/html": [
       "<div>\n",
       "<style scoped>\n",
       "    .dataframe tbody tr th:only-of-type {\n",
       "        vertical-align: middle;\n",
       "    }\n",
       "\n",
       "    .dataframe tbody tr th {\n",
       "        vertical-align: top;\n",
       "    }\n",
       "\n",
       "    .dataframe thead th {\n",
       "        text-align: right;\n",
       "    }\n",
       "</style>\n",
       "<table border=\"1\" class=\"dataframe\">\n",
       "  <thead>\n",
       "    <tr style=\"text-align: right;\">\n",
       "      <th></th>\n",
       "      <th>floor</th>\n",
       "      <th>year</th>\n",
       "      <th>area</th>\n",
       "      <th>price</th>\n",
       "    </tr>\n",
       "  </thead>\n",
       "  <tbody>\n",
       "    <tr>\n",
       "      <th>0</th>\n",
       "      <td>高层（共6层）</td>\n",
       "      <td>1986年建</td>\n",
       "      <td>58.23㎡</td>\n",
       "      <td>155万</td>\n",
       "    </tr>\n",
       "    <tr>\n",
       "      <th>1</th>\n",
       "      <td>中层（共20层）</td>\n",
       "      <td>2020年建</td>\n",
       "      <td>88㎡</td>\n",
       "      <td>155万</td>\n",
       "    </tr>\n",
       "    <tr>\n",
       "      <th>2</th>\n",
       "      <td>低层（共28层）</td>\n",
       "      <td>2010年建</td>\n",
       "      <td>89.33㎡</td>\n",
       "      <td>365万</td>\n",
       "    </tr>\n",
       "  </tbody>\n",
       "</table>\n",
       "</div>"
      ],
      "text/plain": [
       "      floor    year    area price\n",
       "0   高层（共6层）  1986年建  58.23㎡  155万\n",
       "1  中层（共20层）  2020年建     88㎡  155万\n",
       "2  低层（共28层）  2010年建  89.33㎡  365万"
      ]
     },
     "execution_count": 8,
     "metadata": {},
     "output_type": "execute_result"
    }
   ],
   "source": [
    "df = pd.read_csv('data/ch8/house.csv')\n",
    "df.head(3)"
   ]
  },
  {
   "cell_type": "markdown",
   "id": "af12a1f5",
   "metadata": {},
   "source": [
    "- 将year列改为整数年份存储。\n",
    "- 将floor列替换为Level、Highest两列，其中的元素分别为string类型的层类别（高层、中层、低层）与整数类型的最高层数。\n",
    "- 计算每平米均价avg_price，以××元/平米的格式存储到表中，其中××为整数。\n",
    "\n",
    "```text\n",
    "【解答】\n",
    "```"
   ]
  },
  {
   "cell_type": "code",
   "execution_count": 9,
   "id": "9883c565",
   "metadata": {},
   "outputs": [
    {
     "data": {
      "text/html": [
       "<div>\n",
       "<style scoped>\n",
       "    .dataframe tbody tr th:only-of-type {\n",
       "        vertical-align: middle;\n",
       "    }\n",
       "\n",
       "    .dataframe tbody tr th {\n",
       "        vertical-align: top;\n",
       "    }\n",
       "\n",
       "    .dataframe thead th {\n",
       "        text-align: right;\n",
       "    }\n",
       "</style>\n",
       "<table border=\"1\" class=\"dataframe\">\n",
       "  <thead>\n",
       "    <tr style=\"text-align: right;\">\n",
       "      <th></th>\n",
       "      <th>floor</th>\n",
       "      <th>year</th>\n",
       "      <th>area</th>\n",
       "      <th>price</th>\n",
       "    </tr>\n",
       "  </thead>\n",
       "  <tbody>\n",
       "    <tr>\n",
       "      <th>0</th>\n",
       "      <td>高层（共6层）</td>\n",
       "      <td>1986</td>\n",
       "      <td>58.23㎡</td>\n",
       "      <td>155万</td>\n",
       "    </tr>\n",
       "    <tr>\n",
       "      <th>1</th>\n",
       "      <td>中层（共20层）</td>\n",
       "      <td>2020</td>\n",
       "      <td>88㎡</td>\n",
       "      <td>155万</td>\n",
       "    </tr>\n",
       "    <tr>\n",
       "      <th>2</th>\n",
       "      <td>低层（共28层）</td>\n",
       "      <td>2010</td>\n",
       "      <td>89.33㎡</td>\n",
       "      <td>365万</td>\n",
       "    </tr>\n",
       "    <tr>\n",
       "      <th>3</th>\n",
       "      <td>低层（共20层）</td>\n",
       "      <td>2014</td>\n",
       "      <td>82㎡</td>\n",
       "      <td>308万</td>\n",
       "    </tr>\n",
       "    <tr>\n",
       "      <th>4</th>\n",
       "      <td>高层（共1层）</td>\n",
       "      <td>2015</td>\n",
       "      <td>98㎡</td>\n",
       "      <td>117万</td>\n",
       "    </tr>\n",
       "  </tbody>\n",
       "</table>\n",
       "</div>"
      ],
      "text/plain": [
       "      floor  year    area price\n",
       "0   高层（共6层）  1986  58.23㎡  155万\n",
       "1  中层（共20层）  2020     88㎡  155万\n",
       "2  低层（共28层）  2010  89.33㎡  365万\n",
       "3  低层（共20层）  2014     82㎡  308万\n",
       "4   高层（共1层）  2015     98㎡  117万"
      ]
     },
     "execution_count": 9,
     "metadata": {},
     "output_type": "execute_result"
    }
   ],
   "source": [
    "df = pd.read_csv('data/ch8/house.csv')\n",
    "df.year = pd.to_numeric(df.year.str[:-2]).astype('Int64')\n",
    "df.head()"
   ]
  },
  {
   "cell_type": "code",
   "execution_count": 10,
   "id": "6be93f31",
   "metadata": {},
   "outputs": [
    {
     "data": {
      "text/html": [
       "<div>\n",
       "<style scoped>\n",
       "    .dataframe tbody tr th:only-of-type {\n",
       "        vertical-align: middle;\n",
       "    }\n",
       "\n",
       "    .dataframe tbody tr th {\n",
       "        vertical-align: top;\n",
       "    }\n",
       "\n",
       "    .dataframe thead th {\n",
       "        text-align: right;\n",
       "    }\n",
       "</style>\n",
       "<table border=\"1\" class=\"dataframe\">\n",
       "  <thead>\n",
       "    <tr style=\"text-align: right;\">\n",
       "      <th></th>\n",
       "      <th>year</th>\n",
       "      <th>area</th>\n",
       "      <th>price</th>\n",
       "      <th>Level</th>\n",
       "      <th>Highest</th>\n",
       "    </tr>\n",
       "  </thead>\n",
       "  <tbody>\n",
       "    <tr>\n",
       "      <th>0</th>\n",
       "      <td>1986</td>\n",
       "      <td>58.23㎡</td>\n",
       "      <td>155万</td>\n",
       "      <td>高层</td>\n",
       "      <td>6</td>\n",
       "    </tr>\n",
       "    <tr>\n",
       "      <th>1</th>\n",
       "      <td>2020</td>\n",
       "      <td>88㎡</td>\n",
       "      <td>155万</td>\n",
       "      <td>中层</td>\n",
       "      <td>20</td>\n",
       "    </tr>\n",
       "    <tr>\n",
       "      <th>2</th>\n",
       "      <td>2010</td>\n",
       "      <td>89.33㎡</td>\n",
       "      <td>365万</td>\n",
       "      <td>低层</td>\n",
       "      <td>28</td>\n",
       "    </tr>\n",
       "    <tr>\n",
       "      <th>3</th>\n",
       "      <td>2014</td>\n",
       "      <td>82㎡</td>\n",
       "      <td>308万</td>\n",
       "      <td>低层</td>\n",
       "      <td>20</td>\n",
       "    </tr>\n",
       "    <tr>\n",
       "      <th>4</th>\n",
       "      <td>2015</td>\n",
       "      <td>98㎡</td>\n",
       "      <td>117万</td>\n",
       "      <td>高层</td>\n",
       "      <td>1</td>\n",
       "    </tr>\n",
       "  </tbody>\n",
       "</table>\n",
       "</div>"
      ],
      "text/plain": [
       "   year    area price Level Highest\n",
       "0  1986  58.23㎡  155万    高层       6\n",
       "1  2020     88㎡  155万    中层      20\n",
       "2  2010  89.33㎡  365万    低层      28\n",
       "3  2014     82㎡  308万    低层      20\n",
       "4  2015     98㎡  117万    高层       1"
      ]
     },
     "execution_count": 10,
     "metadata": {},
     "output_type": "execute_result"
    }
   ],
   "source": [
    "pat = '(\\w层)（共(\\d+)层）'\n",
    "new_cols = df.floor.str.extract(pat).rename(columns={0:'Level', 1:'Highest'})\n",
    "df = pd.concat([df.drop(columns=['floor']), new_cols], axis=1)\n",
    "df.head()"
   ]
  },
  {
   "cell_type": "code",
   "execution_count": 11,
   "id": "81113f20",
   "metadata": {},
   "outputs": [
    {
     "data": {
      "text/html": [
       "<div>\n",
       "<style scoped>\n",
       "    .dataframe tbody tr th:only-of-type {\n",
       "        vertical-align: middle;\n",
       "    }\n",
       "\n",
       "    .dataframe tbody tr th {\n",
       "        vertical-align: top;\n",
       "    }\n",
       "\n",
       "    .dataframe thead th {\n",
       "        text-align: right;\n",
       "    }\n",
       "</style>\n",
       "<table border=\"1\" class=\"dataframe\">\n",
       "  <thead>\n",
       "    <tr style=\"text-align: right;\">\n",
       "      <th></th>\n",
       "      <th>year</th>\n",
       "      <th>area</th>\n",
       "      <th>price</th>\n",
       "      <th>Level</th>\n",
       "      <th>Highest</th>\n",
       "      <th>avg_price</th>\n",
       "    </tr>\n",
       "  </thead>\n",
       "  <tbody>\n",
       "    <tr>\n",
       "      <th>0</th>\n",
       "      <td>1986</td>\n",
       "      <td>58.23㎡</td>\n",
       "      <td>155万</td>\n",
       "      <td>高层</td>\n",
       "      <td>6</td>\n",
       "      <td>26618元/平米</td>\n",
       "    </tr>\n",
       "    <tr>\n",
       "      <th>1</th>\n",
       "      <td>2020</td>\n",
       "      <td>88㎡</td>\n",
       "      <td>155万</td>\n",
       "      <td>中层</td>\n",
       "      <td>20</td>\n",
       "      <td>17613元/平米</td>\n",
       "    </tr>\n",
       "    <tr>\n",
       "      <th>2</th>\n",
       "      <td>2010</td>\n",
       "      <td>89.33㎡</td>\n",
       "      <td>365万</td>\n",
       "      <td>低层</td>\n",
       "      <td>28</td>\n",
       "      <td>40859元/平米</td>\n",
       "    </tr>\n",
       "    <tr>\n",
       "      <th>3</th>\n",
       "      <td>2014</td>\n",
       "      <td>82㎡</td>\n",
       "      <td>308万</td>\n",
       "      <td>低层</td>\n",
       "      <td>20</td>\n",
       "      <td>37560元/平米</td>\n",
       "    </tr>\n",
       "    <tr>\n",
       "      <th>4</th>\n",
       "      <td>2015</td>\n",
       "      <td>98㎡</td>\n",
       "      <td>117万</td>\n",
       "      <td>高层</td>\n",
       "      <td>1</td>\n",
       "      <td>11938元/平米</td>\n",
       "    </tr>\n",
       "  </tbody>\n",
       "</table>\n",
       "</div>"
      ],
      "text/plain": [
       "   year    area price Level Highest  avg_price\n",
       "0  1986  58.23㎡  155万    高层       6  26618元/平米\n",
       "1  2020     88㎡  155万    中层      20  17613元/平米\n",
       "2  2010  89.33㎡  365万    低层      28  40859元/平米\n",
       "3  2014     82㎡  308万    低层      20  37560元/平米\n",
       "4  2015     98㎡  117万    高层       1  11938元/平米"
      ]
     },
     "execution_count": 11,
     "metadata": {},
     "output_type": "execute_result"
    }
   ],
   "source": [
    "s_area = pd.to_numeric(df.area.str[:-1])\n",
    "s_price = pd.to_numeric(df.price.str[:-1])\n",
    "df['avg_price'] = ((s_price/s_area)*10000).astype('int').astype('string') + '元/平米'\n",
    "df.head()"
   ]
  },
  {
   "cell_type": "markdown",
   "id": "7b3bdd01",
   "metadata": {},
   "source": [
    "## 二、巴洛克作曲家的年龄统计\n",
    "\n",
    "\n",
    "巴洛克时期是西方音乐的发展过程中的重要时期，它上承文艺复兴时期，下启古典主义时期，期间诞生了许多伟大的作曲家。在data/ex-ch8-2-baroque.txt中存放了巴洛克作曲家（含部分文艺复兴晚期作曲家）的名字和生卒年份："
   ]
  },
  {
   "cell_type": "code",
   "execution_count": 12,
   "id": "c1492760",
   "metadata": {},
   "outputs": [
    {
     "data": {
      "text/html": [
       "<div>\n",
       "<style scoped>\n",
       "    .dataframe tbody tr th:only-of-type {\n",
       "        vertical-align: middle;\n",
       "    }\n",
       "\n",
       "    .dataframe tbody tr th {\n",
       "        vertical-align: top;\n",
       "    }\n",
       "\n",
       "    .dataframe thead th {\n",
       "        text-align: right;\n",
       "    }\n",
       "</style>\n",
       "<table border=\"1\" class=\"dataframe\">\n",
       "  <thead>\n",
       "    <tr style=\"text-align: right;\">\n",
       "      <th></th>\n",
       "      <th>Information for Baroque Composers</th>\n",
       "    </tr>\n",
       "  </thead>\n",
       "  <tbody>\n",
       "    <tr>\n",
       "      <th>0</th>\n",
       "      <td>Philippe de Monte (1521-1603)</td>\n",
       "    </tr>\n",
       "    <tr>\n",
       "      <th>1</th>\n",
       "      <td>Baldassare Donato (1525/1530-1603)</td>\n",
       "    </tr>\n",
       "    <tr>\n",
       "      <th>2</th>\n",
       "      <td>Costanzo Porta (1529-1601)</td>\n",
       "    </tr>\n",
       "    <tr>\n",
       "      <th>3</th>\n",
       "      <td>Jiří Rychnovský (1529-1616)</td>\n",
       "    </tr>\n",
       "    <tr>\n",
       "      <th>4</th>\n",
       "      <td>Guillaume Costeley (1530-1606)</td>\n",
       "    </tr>\n",
       "  </tbody>\n",
       "</table>\n",
       "</div>"
      ],
      "text/plain": [
       "    Information for Baroque Composers\n",
       "0       Philippe de Monte (1521-1603)\n",
       "1  Baldassare Donato (1525/1530-1603)\n",
       "2          Costanzo Porta (1529-1601)\n",
       "3         Jiří Rychnovský (1529-1616)\n",
       "4      Guillaume Costeley (1530-1606)"
      ]
     },
     "execution_count": 12,
     "metadata": {},
     "output_type": "execute_result"
    }
   ],
   "source": [
    "df = pd.read_table(\"data/ch8/baroque.txt\")\n",
    "df.head()"
   ]
  },
  {
   "cell_type": "markdown",
   "id": "0b7dda3f",
   "metadata": {},
   "source": [
    "- 请筛选出能够确定出生与去世年份的作曲家，并提取他们的姓名、出生年和去世年。\n",
    "- 约翰.塞巴斯蒂安.巴赫（Johann Sebastian Bach）是重要的巴洛克作曲家，请问在数据表中寿命超过他的作曲家比例为多少？\n",
    "\n",
    "```text\n",
    "【解答】\n",
    "```\n",
    "\n",
    "- 1"
   ]
  },
  {
   "cell_type": "code",
   "execution_count": 13,
   "id": "82af9e23",
   "metadata": {},
   "outputs": [
    {
     "data": {
      "text/html": [
       "<div>\n",
       "<style scoped>\n",
       "    .dataframe tbody tr th:only-of-type {\n",
       "        vertical-align: middle;\n",
       "    }\n",
       "\n",
       "    .dataframe tbody tr th {\n",
       "        vertical-align: top;\n",
       "    }\n",
       "\n",
       "    .dataframe thead th {\n",
       "        text-align: right;\n",
       "    }\n",
       "</style>\n",
       "<table border=\"1\" class=\"dataframe\">\n",
       "  <thead>\n",
       "    <tr style=\"text-align: right;\">\n",
       "      <th></th>\n",
       "      <th>Name</th>\n",
       "      <th>birth</th>\n",
       "      <th>death</th>\n",
       "    </tr>\n",
       "  </thead>\n",
       "  <tbody>\n",
       "    <tr>\n",
       "      <th>0</th>\n",
       "      <td>Philippe de Monte</td>\n",
       "      <td>1521</td>\n",
       "      <td>1603</td>\n",
       "    </tr>\n",
       "    <tr>\n",
       "      <th>1</th>\n",
       "      <td>Costanzo Porta</td>\n",
       "      <td>1529</td>\n",
       "      <td>1601</td>\n",
       "    </tr>\n",
       "    <tr>\n",
       "      <th>2</th>\n",
       "      <td>Jiří Rychnovský</td>\n",
       "      <td>1529</td>\n",
       "      <td>1616</td>\n",
       "    </tr>\n",
       "    <tr>\n",
       "      <th>3</th>\n",
       "      <td>Guillaume Costeley</td>\n",
       "      <td>1530</td>\n",
       "      <td>1606</td>\n",
       "    </tr>\n",
       "    <tr>\n",
       "      <th>4</th>\n",
       "      <td>Mateo Flecha the Younger</td>\n",
       "      <td>1530</td>\n",
       "      <td>1604</td>\n",
       "    </tr>\n",
       "  </tbody>\n",
       "</table>\n",
       "</div>"
      ],
      "text/plain": [
       "                       Name birth death\n",
       "0         Philippe de Monte  1521  1603\n",
       "1            Costanzo Porta  1529  1601\n",
       "2           Jiří Rychnovský  1529  1616\n",
       "3        Guillaume Costeley  1530  1606\n",
       "4  Mateo Flecha the Younger  1530  1604"
      ]
     },
     "execution_count": 13,
     "metadata": {},
     "output_type": "execute_result"
    }
   ],
   "source": [
    "df = pd.read_table(\"data/ch8/baroque.txt\")\n",
    "pat = '(?P<Name>[\\w\\s]+)\\s\\((?P<birth>\\d{4})-(?P<death>\\d{4})\\)'\n",
    "res = df.iloc[:, 0].str.extract(pat).dropna().reset_index(drop=True)\n",
    "res.head()"
   ]
  },
  {
   "cell_type": "markdown",
   "id": "405a92a8",
   "metadata": {},
   "source": [
    "- 2"
   ]
  },
  {
   "cell_type": "code",
   "execution_count": 14,
   "id": "052eb68a",
   "metadata": {},
   "outputs": [
    {
     "data": {
      "text/plain": [
       "0.5014044943820225"
      ]
     },
     "execution_count": 14,
     "metadata": {},
     "output_type": "execute_result"
    }
   ],
   "source": [
    "res.birth = res.birth.astype(\"int\")\n",
    "res.death = res.death.astype(\"int\")\n",
    "bach = res.query(\"Name=='Johann Sebastian Bach'\").iloc[0]\n",
    "bach_age = bach.death - bach.birth\n",
    "((res.death - res.birth) > bach_age).mean()"
   ]
  },
  {
   "cell_type": "markdown",
   "id": "e65e7e30",
   "metadata": {},
   "source": [
    "## 三、汇总显卡测试的结果\n",
    "\n",
    "在data/ch8/benchmark.txt文件中记录了RTX3090显卡某次性能测评的日志结果，每一条日志有如下结构：\n",
    "\n",
    "```text\n",
    "Benchmarking #2# #4# precision type #1#\n",
    "#1#  model average #2# time :  #3# ms\n",
    "```\n",
    "\n",
    "其中#1#代表的是模型名称，#2#的值为train(ing)或inference，表示训练状态或推断状态，#3#表示耗时，#4#表示精度，其中包含了float、half、double这3种类型，下面是一个具体的例子：\n",
    "\n",
    "```text\n",
    "Benchmarking Inference float precision type resnet50\n",
    "resnet50  model average inference time :  13.426570892333984 ms\n",
    "```\n",
    "\n",
    "请把日志结果进行整理，变换成如下状态，行索引用相应模型名称填充，按照字母顺序排序，数值保留3位小数："
   ]
  },
  {
   "cell_type": "code",
   "execution_count": 15,
   "id": "6d1702e6",
   "metadata": {
    "tags": [
     "remove_input"
    ]
   },
   "outputs": [
    {
     "data": {
      "text/html": [
       "<div>\n",
       "<style scoped>\n",
       "    .dataframe tbody tr th:only-of-type {\n",
       "        vertical-align: middle;\n",
       "    }\n",
       "\n",
       "    .dataframe tbody tr th {\n",
       "        vertical-align: top;\n",
       "    }\n",
       "\n",
       "    .dataframe thead th {\n",
       "        text-align: right;\n",
       "    }\n",
       "</style>\n",
       "<table border=\"1\" class=\"dataframe\">\n",
       "  <thead>\n",
       "    <tr style=\"text-align: right;\">\n",
       "      <th></th>\n",
       "      <th>Training_half</th>\n",
       "      <th>Training_float</th>\n",
       "      <th>Training_double</th>\n",
       "      <th>Inference_half</th>\n",
       "      <th>Inference_float</th>\n",
       "      <th>Inference_double</th>\n",
       "    </tr>\n",
       "    <tr>\n",
       "      <th>Three</th>\n",
       "      <th></th>\n",
       "      <th></th>\n",
       "      <th></th>\n",
       "      <th></th>\n",
       "      <th></th>\n",
       "      <th></th>\n",
       "    </tr>\n",
       "  </thead>\n",
       "  <tbody>\n",
       "    <tr>\n",
       "      <th>densenet121</th>\n",
       "      <td>88.976</td>\n",
       "      <td>93.357</td>\n",
       "      <td>417.206</td>\n",
       "      <td>19.772</td>\n",
       "      <td>15.636</td>\n",
       "      <td>144.110</td>\n",
       "    </tr>\n",
       "    <tr>\n",
       "      <th>densenet161</th>\n",
       "      <td>144.318</td>\n",
       "      <td>136.624</td>\n",
       "      <td>1290.286</td>\n",
       "      <td>27.554</td>\n",
       "      <td>31.750</td>\n",
       "      <td>511.176</td>\n",
       "    </tr>\n",
       "    <tr>\n",
       "      <th>densenet169</th>\n",
       "      <td>121.555</td>\n",
       "      <td>104.839</td>\n",
       "      <td>511.403</td>\n",
       "      <td>26.370</td>\n",
       "      <td>21.598</td>\n",
       "      <td>175.807</td>\n",
       "    </tr>\n",
       "    <tr>\n",
       "      <th>densenet201</th>\n",
       "      <td>118.940</td>\n",
       "      <td>129.333</td>\n",
       "      <td>654.365</td>\n",
       "      <td>33.393</td>\n",
       "      <td>26.169</td>\n",
       "      <td>223.960</td>\n",
       "    </tr>\n",
       "    <tr>\n",
       "      <th>mnasnet0_5</th>\n",
       "      <td>27.197</td>\n",
       "      <td>28.527</td>\n",
       "      <td>48.232</td>\n",
       "      <td>6.929</td>\n",
       "      <td>8.038</td>\n",
       "      <td>11.870</td>\n",
       "    </tr>\n",
       "  </tbody>\n",
       "</table>\n",
       "</div>"
      ],
      "text/plain": [
       "             Training_half  Training_float  Training_double  Inference_half  \\\n",
       "Three                                                                         \n",
       "densenet121         88.976          93.357          417.206          19.772   \n",
       "densenet161        144.318         136.624         1290.286          27.554   \n",
       "densenet169        121.555         104.839          511.403          26.370   \n",
       "densenet201        118.940         129.333          654.365          33.393   \n",
       "mnasnet0_5          27.197          28.527           48.232           6.929   \n",
       "\n",
       "             Inference_float  Inference_double  \n",
       "Three                                           \n",
       "densenet121           15.636           144.110  \n",
       "densenet161           31.750           511.176  \n",
       "densenet169           21.598           175.807  \n",
       "densenet201           26.169           223.960  \n",
       "mnasnet0_5             8.038            11.870  "
      ]
     },
     "execution_count": 15,
     "metadata": {},
     "output_type": "execute_result"
    }
   ],
   "source": [
    "df = pd.read_table('data/ch8/benchmark.txt').iloc[9:-2].reset_index(drop=True)\n",
    "res1 = df.loc[0::2,'start'].str.extract('Benchmarking (?P<One>Training|Inference) (?P<Two>float|half|double) precision type (?P<Three>\\w+)').reset_index(drop=True)\n",
    "res2 = pd.to_numeric(df.loc[1::2,'start'].str.extract('.+time :  (?P<Time>\\d+\\.\\d{3}).+').Time).reset_index(drop=True)\n",
    "res = pd.concat([res1.One +'_'+ res1.Two, res1.Three, res2],axis=1).set_index([0,'Three']).unstack('Three').droplevel(0, axis=1).T\n",
    "res = res.reindex(pd.MultiIndex.from_product([['Training','Inference'],['half','float','double']]).map(lambda x:x[0]+'_'+x[1]),axis=1)\n",
    "res.head()"
   ]
  },
  {
   "cell_type": "markdown",
   "id": "4118de47",
   "metadata": {},
   "source": [
    "```text\n",
    "【解答】\n",
    "```"
   ]
  },
  {
   "cell_type": "code",
   "execution_count": 16,
   "id": "4a09061b",
   "metadata": {},
   "outputs": [
    {
     "data": {
      "text/html": [
       "<div>\n",
       "<style scoped>\n",
       "    .dataframe tbody tr th:only-of-type {\n",
       "        vertical-align: middle;\n",
       "    }\n",
       "\n",
       "    .dataframe tbody tr th {\n",
       "        vertical-align: top;\n",
       "    }\n",
       "\n",
       "    .dataframe thead th {\n",
       "        text-align: right;\n",
       "    }\n",
       "</style>\n",
       "<table border=\"1\" class=\"dataframe\">\n",
       "  <thead>\n",
       "    <tr style=\"text-align: right;\">\n",
       "      <th></th>\n",
       "      <th>Training_half</th>\n",
       "      <th>Training_float</th>\n",
       "      <th>Training_double</th>\n",
       "      <th>Inference_half</th>\n",
       "      <th>Inference_float</th>\n",
       "      <th>Inference_double</th>\n",
       "    </tr>\n",
       "    <tr>\n",
       "      <th>Three</th>\n",
       "      <th></th>\n",
       "      <th></th>\n",
       "      <th></th>\n",
       "      <th></th>\n",
       "      <th></th>\n",
       "      <th></th>\n",
       "    </tr>\n",
       "  </thead>\n",
       "  <tbody>\n",
       "    <tr>\n",
       "      <th>densenet121</th>\n",
       "      <td>88.976</td>\n",
       "      <td>93.357</td>\n",
       "      <td>417.206</td>\n",
       "      <td>19.772</td>\n",
       "      <td>15.636</td>\n",
       "      <td>144.110</td>\n",
       "    </tr>\n",
       "    <tr>\n",
       "      <th>densenet161</th>\n",
       "      <td>144.318</td>\n",
       "      <td>136.624</td>\n",
       "      <td>1290.286</td>\n",
       "      <td>27.554</td>\n",
       "      <td>31.750</td>\n",
       "      <td>511.176</td>\n",
       "    </tr>\n",
       "    <tr>\n",
       "      <th>densenet169</th>\n",
       "      <td>121.555</td>\n",
       "      <td>104.839</td>\n",
       "      <td>511.403</td>\n",
       "      <td>26.370</td>\n",
       "      <td>21.598</td>\n",
       "      <td>175.807</td>\n",
       "    </tr>\n",
       "    <tr>\n",
       "      <th>densenet201</th>\n",
       "      <td>118.940</td>\n",
       "      <td>129.333</td>\n",
       "      <td>654.365</td>\n",
       "      <td>33.393</td>\n",
       "      <td>26.169</td>\n",
       "      <td>223.960</td>\n",
       "    </tr>\n",
       "    <tr>\n",
       "      <th>mnasnet0_5</th>\n",
       "      <td>27.197</td>\n",
       "      <td>28.527</td>\n",
       "      <td>48.232</td>\n",
       "      <td>6.929</td>\n",
       "      <td>8.038</td>\n",
       "      <td>11.870</td>\n",
       "    </tr>\n",
       "  </tbody>\n",
       "</table>\n",
       "</div>"
      ],
      "text/plain": [
       "             Training_half  Training_float  Training_double  Inference_half  \\\n",
       "Three                                                                         \n",
       "densenet121         88.976          93.357          417.206          19.772   \n",
       "densenet161        144.318         136.624         1290.286          27.554   \n",
       "densenet169        121.555         104.839          511.403          26.370   \n",
       "densenet201        118.940         129.333          654.365          33.393   \n",
       "mnasnet0_5          27.197          28.527           48.232           6.929   \n",
       "\n",
       "             Inference_float  Inference_double  \n",
       "Three                                           \n",
       "densenet121           15.636           144.110  \n",
       "densenet161           31.750           511.176  \n",
       "densenet169           21.598           175.807  \n",
       "densenet201           26.169           223.960  \n",
       "mnasnet0_5             8.038            11.870  "
      ]
     },
     "execution_count": 16,
     "metadata": {},
     "output_type": "execute_result"
    }
   ],
   "source": [
    "df = pd.read_table('data/ch8/benchmark.txt').iloc[9:-2].reset_index(drop=True)\n",
    "pat1 = 'Benchmarking (?P<One>Training|Inference) (?P<Two>float|half|double) precision type (?P<Three>\\w+)'\n",
    "pat2 = '.+time :  (?P<Time>\\d+\\.\\d{3}).+'\n",
    "res1 = df.loc[0::2,'start'].str.extract(pat1).reset_index(drop=True)\n",
    "res2 = pd.to_numeric(df.loc[1::2,'start'].str.extract(pat2).Time).reset_index(drop=True)\n",
    "res = pd.concat([res1.One +'_'+ res1.Two, res1.Three, res2],axis=1).set_index([0,'Three'])\n",
    "res = res.unstack('Three').droplevel(0, axis=1).T\n",
    "idx = pd.MultiIndex.from_product([['Training','Inference'],['half','float','double']])\n",
    "idx = idx.map(lambda x:x[0]+'_'+x[1])\n",
    "res = res.reindex(idx ,axis=1)\n",
    "res.head()"
   ]
  }
 ],
 "metadata": {
  "jupytext": {
   "text_representation": {
    "format_name": "myst"
   }
  },
  "kernelspec": {
   "display_name": "Python 3",
   "name": "python3"
  },
  "language_info": {
   "codemirror_mode": {
    "name": "ipython",
    "version": 3
   },
   "file_extension": ".py",
   "mimetype": "text/x-python",
   "name": "python",
   "nbconvert_exporter": "python",
   "pygments_lexer": "ipython3",
   "version": "3.8.12"
  },
  "source_map": [
   10,
   19,
   30,
   32,
   36,
   40,
   42,
   46,
   48,
   70,
   77,
   81,
   88,
   100,
   103,
   113,
   119,
   126,
   131,
   138,
   141,
   152,
   157,
   161,
   167,
   187,
   196,
   203
  ]
 },
 "nbformat": 4,
 "nbformat_minor": 5
}