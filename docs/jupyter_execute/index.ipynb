{
 "cells": [
  {
   "cell_type": "markdown",
   "id": "10e24f95",
   "metadata": {},
   "source": [
    "# pandas数据处理与分析 - 参考答案\n",
    "\n",
    "\n",
    "```{toctree}\n",
    ":maxdepth: 2\n",
    ":hidden:\n",
    ":caption: 章节\n",
    "\n",
    "solution1\n",
    "solution2\n",
    "solution3\n",
    "solution4\n",
    "solution5\n",
    "solution6\n",
    "solution7\n",
    "solution8\n",
    "solution9\n",
    "solution10\n",
    "solution11\n",
    "solution12\n",
    "solution13\n",
    "```"
   ]
  }
 ],
 "metadata": {
  "jupytext": {
   "text_representation": {
    "format_name": "myst"
   }
  },
  "kernelspec": {
   "display_name": "Python 3",
   "name": "python3"
  },
  "language_info": {
   "codemirror_mode": {
    "name": "ipython",
    "version": 3
   },
   "file_extension": ".py",
   "mimetype": "text/x-python",
   "name": "python",
   "nbconvert_exporter": "python",
   "pygments_lexer": "ipython3",
   "version": "3.8.12"
  },
  "source_map": [
   8
  ]
 },
 "nbformat": 4,
 "nbformat_minor": 5
}