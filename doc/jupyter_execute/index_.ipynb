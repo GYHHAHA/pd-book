{
 "cells": [
  {
   "cell_type": "markdown",
   "id": "c1234b1a",
   "metadata": {},
   "source": [
    "# Python数据处理与分析：pandas实践\n",
    "\n",
    "```{toctree}\n",
    ":maxdepth: 2\n",
    ":hidden:\n",
    ":caption: Part1 基础知识\n",
    "\n",
    "ch1\n",
    "ch2\n",
    "```\n",
    "\n",
    "```{toctree}\n",
    ":maxdepth: 2\n",
    ":hidden:\n",
    ":caption: Part2 四类操作\n",
    "\n",
    "ch3\n",
    "ch4\n",
    "ch5\n",
    "ch6\n",
    "```\n",
    "\n",
    "```{toctree}\n",
    ":maxdepth: 2\n",
    ":hidden:\n",
    ":caption: Part3 四类数据\n",
    "\n",
    "ch7\n",
    "ch8\n",
    "ch9\n",
    "ch10\n",
    "```\n",
    "\n",
    "```{toctree}\n",
    ":maxdepth: 2\n",
    ":hidden:\n",
    ":caption: Part4 进阶实战\n",
    "\n",
    "ch11\n",
    "ch12\n",
    "ch13\n",
    "```\n",
    "\n",
    "```{toctree}\n",
    ":maxdepth: 2\n",
    ":hidden:\n",
    ":caption: 附录\n",
    "\n",
    "solution1\n",
    "solution2\n",
    "solution3\n",
    "```"
   ]
  }
 ],
 "metadata": {
  "jupytext": {
   "text_representation": {
    "format_name": "myst"
   }
  },
  "kernelspec": {
   "display_name": "Python 3",
   "name": "python3"
  },
  "language_info": {
   "codemirror_mode": {
    "name": "ipython",
    "version": 3
   },
   "file_extension": ".py",
   "mimetype": "text/x-python",
   "name": "python",
   "nbconvert_exporter": "python",
   "pygments_lexer": "ipython3",
   "version": "3.8.12"
  },
  "source_map": [
   8
  ]
 },
 "nbformat": 4,
 "nbformat_minor": 5
}